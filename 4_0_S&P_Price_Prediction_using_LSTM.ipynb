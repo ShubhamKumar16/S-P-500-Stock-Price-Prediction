{
  "cells": [
    {
      "cell_type": "markdown",
      "metadata": {
        "id": "cYD1obvwx7aT"
      },
      "source": [
        "### S&P 500 Index Prediction Using Stacked LSTM"
      ]
    },
    {
      "cell_type": "code",
      "execution_count": 15,
      "metadata": {
        "id": "jsM8JpISx7aX"
      },
      "outputs": [],
      "source": [
        "### Keras and Tensorflow >2.0\n",
        "import pandas as pd\n",
        "import numpy as np"
      ]
    },
    {
      "cell_type": "code",
      "execution_count": 16,
      "metadata": {
        "colab": {
          "base_uri": "https://localhost:8080/",
          "height": 73
        },
        "id": "BQJFDSIex7aZ",
        "outputId": "2d50675b-5f8d-4d02-e385-05e2751366df"
      },
      "outputs": [
        {
          "output_type": "display_data",
          "data": {
            "text/plain": [
              "<IPython.core.display.HTML object>"
            ],
            "text/html": [
              "\n",
              "     <input type=\"file\" id=\"files-f6ad0430-9a5d-4b99-aa71-62a9ab787238\" name=\"files[]\" multiple disabled\n",
              "        style=\"border:none\" />\n",
              "     <output id=\"result-f6ad0430-9a5d-4b99-aa71-62a9ab787238\">\n",
              "      Upload widget is only available when the cell has been executed in the\n",
              "      current browser session. Please rerun this cell to enable.\n",
              "      </output>\n",
              "      <script>// Copyright 2017 Google LLC\n",
              "//\n",
              "// Licensed under the Apache License, Version 2.0 (the \"License\");\n",
              "// you may not use this file except in compliance with the License.\n",
              "// You may obtain a copy of the License at\n",
              "//\n",
              "//      http://www.apache.org/licenses/LICENSE-2.0\n",
              "//\n",
              "// Unless required by applicable law or agreed to in writing, software\n",
              "// distributed under the License is distributed on an \"AS IS\" BASIS,\n",
              "// WITHOUT WARRANTIES OR CONDITIONS OF ANY KIND, either express or implied.\n",
              "// See the License for the specific language governing permissions and\n",
              "// limitations under the License.\n",
              "\n",
              "/**\n",
              " * @fileoverview Helpers for google.colab Python module.\n",
              " */\n",
              "(function(scope) {\n",
              "function span(text, styleAttributes = {}) {\n",
              "  const element = document.createElement('span');\n",
              "  element.textContent = text;\n",
              "  for (const key of Object.keys(styleAttributes)) {\n",
              "    element.style[key] = styleAttributes[key];\n",
              "  }\n",
              "  return element;\n",
              "}\n",
              "\n",
              "// Max number of bytes which will be uploaded at a time.\n",
              "const MAX_PAYLOAD_SIZE = 100 * 1024;\n",
              "\n",
              "function _uploadFiles(inputId, outputId) {\n",
              "  const steps = uploadFilesStep(inputId, outputId);\n",
              "  const outputElement = document.getElementById(outputId);\n",
              "  // Cache steps on the outputElement to make it available for the next call\n",
              "  // to uploadFilesContinue from Python.\n",
              "  outputElement.steps = steps;\n",
              "\n",
              "  return _uploadFilesContinue(outputId);\n",
              "}\n",
              "\n",
              "// This is roughly an async generator (not supported in the browser yet),\n",
              "// where there are multiple asynchronous steps and the Python side is going\n",
              "// to poll for completion of each step.\n",
              "// This uses a Promise to block the python side on completion of each step,\n",
              "// then passes the result of the previous step as the input to the next step.\n",
              "function _uploadFilesContinue(outputId) {\n",
              "  const outputElement = document.getElementById(outputId);\n",
              "  const steps = outputElement.steps;\n",
              "\n",
              "  const next = steps.next(outputElement.lastPromiseValue);\n",
              "  return Promise.resolve(next.value.promise).then((value) => {\n",
              "    // Cache the last promise value to make it available to the next\n",
              "    // step of the generator.\n",
              "    outputElement.lastPromiseValue = value;\n",
              "    return next.value.response;\n",
              "  });\n",
              "}\n",
              "\n",
              "/**\n",
              " * Generator function which is called between each async step of the upload\n",
              " * process.\n",
              " * @param {string} inputId Element ID of the input file picker element.\n",
              " * @param {string} outputId Element ID of the output display.\n",
              " * @return {!Iterable<!Object>} Iterable of next steps.\n",
              " */\n",
              "function* uploadFilesStep(inputId, outputId) {\n",
              "  const inputElement = document.getElementById(inputId);\n",
              "  inputElement.disabled = false;\n",
              "\n",
              "  const outputElement = document.getElementById(outputId);\n",
              "  outputElement.innerHTML = '';\n",
              "\n",
              "  const pickedPromise = new Promise((resolve) => {\n",
              "    inputElement.addEventListener('change', (e) => {\n",
              "      resolve(e.target.files);\n",
              "    });\n",
              "  });\n",
              "\n",
              "  const cancel = document.createElement('button');\n",
              "  inputElement.parentElement.appendChild(cancel);\n",
              "  cancel.textContent = 'Cancel upload';\n",
              "  const cancelPromise = new Promise((resolve) => {\n",
              "    cancel.onclick = () => {\n",
              "      resolve(null);\n",
              "    };\n",
              "  });\n",
              "\n",
              "  // Wait for the user to pick the files.\n",
              "  const files = yield {\n",
              "    promise: Promise.race([pickedPromise, cancelPromise]),\n",
              "    response: {\n",
              "      action: 'starting',\n",
              "    }\n",
              "  };\n",
              "\n",
              "  cancel.remove();\n",
              "\n",
              "  // Disable the input element since further picks are not allowed.\n",
              "  inputElement.disabled = true;\n",
              "\n",
              "  if (!files) {\n",
              "    return {\n",
              "      response: {\n",
              "        action: 'complete',\n",
              "      }\n",
              "    };\n",
              "  }\n",
              "\n",
              "  for (const file of files) {\n",
              "    const li = document.createElement('li');\n",
              "    li.append(span(file.name, {fontWeight: 'bold'}));\n",
              "    li.append(span(\n",
              "        `(${file.type || 'n/a'}) - ${file.size} bytes, ` +\n",
              "        `last modified: ${\n",
              "            file.lastModifiedDate ? file.lastModifiedDate.toLocaleDateString() :\n",
              "                                    'n/a'} - `));\n",
              "    const percent = span('0% done');\n",
              "    li.appendChild(percent);\n",
              "\n",
              "    outputElement.appendChild(li);\n",
              "\n",
              "    const fileDataPromise = new Promise((resolve) => {\n",
              "      const reader = new FileReader();\n",
              "      reader.onload = (e) => {\n",
              "        resolve(e.target.result);\n",
              "      };\n",
              "      reader.readAsArrayBuffer(file);\n",
              "    });\n",
              "    // Wait for the data to be ready.\n",
              "    let fileData = yield {\n",
              "      promise: fileDataPromise,\n",
              "      response: {\n",
              "        action: 'continue',\n",
              "      }\n",
              "    };\n",
              "\n",
              "    // Use a chunked sending to avoid message size limits. See b/62115660.\n",
              "    let position = 0;\n",
              "    do {\n",
              "      const length = Math.min(fileData.byteLength - position, MAX_PAYLOAD_SIZE);\n",
              "      const chunk = new Uint8Array(fileData, position, length);\n",
              "      position += length;\n",
              "\n",
              "      const base64 = btoa(String.fromCharCode.apply(null, chunk));\n",
              "      yield {\n",
              "        response: {\n",
              "          action: 'append',\n",
              "          file: file.name,\n",
              "          data: base64,\n",
              "        },\n",
              "      };\n",
              "\n",
              "      let percentDone = fileData.byteLength === 0 ?\n",
              "          100 :\n",
              "          Math.round((position / fileData.byteLength) * 100);\n",
              "      percent.textContent = `${percentDone}% done`;\n",
              "\n",
              "    } while (position < fileData.byteLength);\n",
              "  }\n",
              "\n",
              "  // All done.\n",
              "  yield {\n",
              "    response: {\n",
              "      action: 'complete',\n",
              "    }\n",
              "  };\n",
              "}\n",
              "\n",
              "scope.google = scope.google || {};\n",
              "scope.google.colab = scope.google.colab || {};\n",
              "scope.google.colab._files = {\n",
              "  _uploadFiles,\n",
              "  _uploadFilesContinue,\n",
              "};\n",
              "})(self);\n",
              "</script> "
            ]
          },
          "metadata": {}
        },
        {
          "output_type": "stream",
          "name": "stdout",
          "text": [
            "Saving sp500_ind.csv to sp500_ind (2).csv\n"
          ]
        }
      ],
      "source": [
        "from google.colab import files \n",
        "uploaded = files.upload()"
      ]
    },
    {
      "cell_type": "code",
      "source": [
        "#reading the data\n",
        "data = pd.read_csv('sp500_ind.csv')"
      ],
      "metadata": {
        "id": "NxXXhCT10rDD"
      },
      "execution_count": 17,
      "outputs": []
    },
    {
      "cell_type": "code",
      "source": [
        "data.head()"
      ],
      "metadata": {
        "colab": {
          "base_uri": "https://localhost:8080/",
          "height": 206
        },
        "id": "FKl21aCBYQqq",
        "outputId": "c7573a82-0543-426c-b4bc-40b53c0ca006"
      },
      "execution_count": 18,
      "outputs": [
        {
          "output_type": "execute_result",
          "data": {
            "text/plain": [
              "   Unnamed: 0        Date         Open         High          Low        Close  \\\n",
              "0           0  2017-06-15  2424.139893  2433.949951  2418.530029  2432.459961   \n",
              "1           1  2017-06-16  2431.239990  2433.149902  2422.879883  2433.149902   \n",
              "2           2  2017-06-19  2442.550049  2453.820068  2441.790039  2453.459961   \n",
              "3           3  2017-06-20  2450.659912  2450.659912  2436.600098  2437.030029   \n",
              "4           4  2017-06-21  2439.310059  2442.229980  2430.739990  2435.610107   \n",
              "\n",
              "     Adj Close      Volume     Ticker  \n",
              "0  2432.459961  3353050000  SP500_Ind  \n",
              "1  2433.149902  5284720000  SP500_Ind  \n",
              "2  2453.459961  3264700000  SP500_Ind  \n",
              "3  2437.030029  3416510000  SP500_Ind  \n",
              "4  2435.610107  3594820000  SP500_Ind  "
            ],
            "text/html": [
              "\n",
              "  <div id=\"df-bb772cf6-ec1c-44e3-9d8f-b0b6d7cb347f\">\n",
              "    <div class=\"colab-df-container\">\n",
              "      <div>\n",
              "<style scoped>\n",
              "    .dataframe tbody tr th:only-of-type {\n",
              "        vertical-align: middle;\n",
              "    }\n",
              "\n",
              "    .dataframe tbody tr th {\n",
              "        vertical-align: top;\n",
              "    }\n",
              "\n",
              "    .dataframe thead th {\n",
              "        text-align: right;\n",
              "    }\n",
              "</style>\n",
              "<table border=\"1\" class=\"dataframe\">\n",
              "  <thead>\n",
              "    <tr style=\"text-align: right;\">\n",
              "      <th></th>\n",
              "      <th>Unnamed: 0</th>\n",
              "      <th>Date</th>\n",
              "      <th>Open</th>\n",
              "      <th>High</th>\n",
              "      <th>Low</th>\n",
              "      <th>Close</th>\n",
              "      <th>Adj Close</th>\n",
              "      <th>Volume</th>\n",
              "      <th>Ticker</th>\n",
              "    </tr>\n",
              "  </thead>\n",
              "  <tbody>\n",
              "    <tr>\n",
              "      <th>0</th>\n",
              "      <td>0</td>\n",
              "      <td>2017-06-15</td>\n",
              "      <td>2424.139893</td>\n",
              "      <td>2433.949951</td>\n",
              "      <td>2418.530029</td>\n",
              "      <td>2432.459961</td>\n",
              "      <td>2432.459961</td>\n",
              "      <td>3353050000</td>\n",
              "      <td>SP500_Ind</td>\n",
              "    </tr>\n",
              "    <tr>\n",
              "      <th>1</th>\n",
              "      <td>1</td>\n",
              "      <td>2017-06-16</td>\n",
              "      <td>2431.239990</td>\n",
              "      <td>2433.149902</td>\n",
              "      <td>2422.879883</td>\n",
              "      <td>2433.149902</td>\n",
              "      <td>2433.149902</td>\n",
              "      <td>5284720000</td>\n",
              "      <td>SP500_Ind</td>\n",
              "    </tr>\n",
              "    <tr>\n",
              "      <th>2</th>\n",
              "      <td>2</td>\n",
              "      <td>2017-06-19</td>\n",
              "      <td>2442.550049</td>\n",
              "      <td>2453.820068</td>\n",
              "      <td>2441.790039</td>\n",
              "      <td>2453.459961</td>\n",
              "      <td>2453.459961</td>\n",
              "      <td>3264700000</td>\n",
              "      <td>SP500_Ind</td>\n",
              "    </tr>\n",
              "    <tr>\n",
              "      <th>3</th>\n",
              "      <td>3</td>\n",
              "      <td>2017-06-20</td>\n",
              "      <td>2450.659912</td>\n",
              "      <td>2450.659912</td>\n",
              "      <td>2436.600098</td>\n",
              "      <td>2437.030029</td>\n",
              "      <td>2437.030029</td>\n",
              "      <td>3416510000</td>\n",
              "      <td>SP500_Ind</td>\n",
              "    </tr>\n",
              "    <tr>\n",
              "      <th>4</th>\n",
              "      <td>4</td>\n",
              "      <td>2017-06-21</td>\n",
              "      <td>2439.310059</td>\n",
              "      <td>2442.229980</td>\n",
              "      <td>2430.739990</td>\n",
              "      <td>2435.610107</td>\n",
              "      <td>2435.610107</td>\n",
              "      <td>3594820000</td>\n",
              "      <td>SP500_Ind</td>\n",
              "    </tr>\n",
              "  </tbody>\n",
              "</table>\n",
              "</div>\n",
              "      <button class=\"colab-df-convert\" onclick=\"convertToInteractive('df-bb772cf6-ec1c-44e3-9d8f-b0b6d7cb347f')\"\n",
              "              title=\"Convert this dataframe to an interactive table.\"\n",
              "              style=\"display:none;\">\n",
              "        \n",
              "  <svg xmlns=\"http://www.w3.org/2000/svg\" height=\"24px\"viewBox=\"0 0 24 24\"\n",
              "       width=\"24px\">\n",
              "    <path d=\"M0 0h24v24H0V0z\" fill=\"none\"/>\n",
              "    <path d=\"M18.56 5.44l.94 2.06.94-2.06 2.06-.94-2.06-.94-.94-2.06-.94 2.06-2.06.94zm-11 1L8.5 8.5l.94-2.06 2.06-.94-2.06-.94L8.5 2.5l-.94 2.06-2.06.94zm10 10l.94 2.06.94-2.06 2.06-.94-2.06-.94-.94-2.06-.94 2.06-2.06.94z\"/><path d=\"M17.41 7.96l-1.37-1.37c-.4-.4-.92-.59-1.43-.59-.52 0-1.04.2-1.43.59L10.3 9.45l-7.72 7.72c-.78.78-.78 2.05 0 2.83L4 21.41c.39.39.9.59 1.41.59.51 0 1.02-.2 1.41-.59l7.78-7.78 2.81-2.81c.8-.78.8-2.07 0-2.86zM5.41 20L4 18.59l7.72-7.72 1.47 1.35L5.41 20z\"/>\n",
              "  </svg>\n",
              "      </button>\n",
              "      \n",
              "  <style>\n",
              "    .colab-df-container {\n",
              "      display:flex;\n",
              "      flex-wrap:wrap;\n",
              "      gap: 12px;\n",
              "    }\n",
              "\n",
              "    .colab-df-convert {\n",
              "      background-color: #E8F0FE;\n",
              "      border: none;\n",
              "      border-radius: 50%;\n",
              "      cursor: pointer;\n",
              "      display: none;\n",
              "      fill: #1967D2;\n",
              "      height: 32px;\n",
              "      padding: 0 0 0 0;\n",
              "      width: 32px;\n",
              "    }\n",
              "\n",
              "    .colab-df-convert:hover {\n",
              "      background-color: #E2EBFA;\n",
              "      box-shadow: 0px 1px 2px rgba(60, 64, 67, 0.3), 0px 1px 3px 1px rgba(60, 64, 67, 0.15);\n",
              "      fill: #174EA6;\n",
              "    }\n",
              "\n",
              "    [theme=dark] .colab-df-convert {\n",
              "      background-color: #3B4455;\n",
              "      fill: #D2E3FC;\n",
              "    }\n",
              "\n",
              "    [theme=dark] .colab-df-convert:hover {\n",
              "      background-color: #434B5C;\n",
              "      box-shadow: 0px 1px 3px 1px rgba(0, 0, 0, 0.15);\n",
              "      filter: drop-shadow(0px 1px 2px rgba(0, 0, 0, 0.3));\n",
              "      fill: #FFFFFF;\n",
              "    }\n",
              "  </style>\n",
              "\n",
              "      <script>\n",
              "        const buttonEl =\n",
              "          document.querySelector('#df-bb772cf6-ec1c-44e3-9d8f-b0b6d7cb347f button.colab-df-convert');\n",
              "        buttonEl.style.display =\n",
              "          google.colab.kernel.accessAllowed ? 'block' : 'none';\n",
              "\n",
              "        async function convertToInteractive(key) {\n",
              "          const element = document.querySelector('#df-bb772cf6-ec1c-44e3-9d8f-b0b6d7cb347f');\n",
              "          const dataTable =\n",
              "            await google.colab.kernel.invokeFunction('convertToInteractive',\n",
              "                                                     [key], {});\n",
              "          if (!dataTable) return;\n",
              "\n",
              "          const docLinkHtml = 'Like what you see? Visit the ' +\n",
              "            '<a target=\"_blank\" href=https://colab.research.google.com/notebooks/data_table.ipynb>data table notebook</a>'\n",
              "            + ' to learn more about interactive tables.';\n",
              "          element.innerHTML = '';\n",
              "          dataTable['output_type'] = 'display_data';\n",
              "          await google.colab.output.renderOutput(dataTable, element);\n",
              "          const docLink = document.createElement('div');\n",
              "          docLink.innerHTML = docLinkHtml;\n",
              "          element.appendChild(docLink);\n",
              "        }\n",
              "      </script>\n",
              "    </div>\n",
              "  </div>\n",
              "  "
            ]
          },
          "metadata": {},
          "execution_count": 18
        }
      ]
    },
    {
      "cell_type": "code",
      "source": [
        "data.tail()"
      ],
      "metadata": {
        "colab": {
          "base_uri": "https://localhost:8080/",
          "height": 206
        },
        "id": "xX0OqOusnYnM",
        "outputId": "ac864f0c-37a3-4fad-84a4-08c4367aef37"
      },
      "execution_count": 19,
      "outputs": [
        {
          "output_type": "execute_result",
          "data": {
            "text/plain": [
              "      Unnamed: 0        Date         Open         High          Low  \\\n",
              "1254        1254  2022-06-08  4147.120117  4160.140137  4107.200195   \n",
              "1255        1255  2022-06-09  4101.649902  4119.100098  4017.169922   \n",
              "1256        1256  2022-06-10  3974.389893  3974.389893  3900.159912   \n",
              "1257        1257  2022-06-13  3838.149902  3838.149902  3734.300049   \n",
              "1258        1258  2022-06-14  3763.520020  3778.179932  3705.679932   \n",
              "\n",
              "            Close    Adj Close      Volume     Ticker  \n",
              "1254  4115.770020  4115.770020  3090180000  SP500_Ind  \n",
              "1255  4017.820068  4017.820068  3192330000  SP500_Ind  \n",
              "1256  3900.860107  3900.860107  3936120000  SP500_Ind  \n",
              "1257  3749.629883  3749.629883  4572820000  SP500_Ind  \n",
              "1258  3735.479980  3735.479980  4126400000  SP500_Ind  "
            ],
            "text/html": [
              "\n",
              "  <div id=\"df-9ef84eea-4688-485d-ab27-e3836eaaa7c1\">\n",
              "    <div class=\"colab-df-container\">\n",
              "      <div>\n",
              "<style scoped>\n",
              "    .dataframe tbody tr th:only-of-type {\n",
              "        vertical-align: middle;\n",
              "    }\n",
              "\n",
              "    .dataframe tbody tr th {\n",
              "        vertical-align: top;\n",
              "    }\n",
              "\n",
              "    .dataframe thead th {\n",
              "        text-align: right;\n",
              "    }\n",
              "</style>\n",
              "<table border=\"1\" class=\"dataframe\">\n",
              "  <thead>\n",
              "    <tr style=\"text-align: right;\">\n",
              "      <th></th>\n",
              "      <th>Unnamed: 0</th>\n",
              "      <th>Date</th>\n",
              "      <th>Open</th>\n",
              "      <th>High</th>\n",
              "      <th>Low</th>\n",
              "      <th>Close</th>\n",
              "      <th>Adj Close</th>\n",
              "      <th>Volume</th>\n",
              "      <th>Ticker</th>\n",
              "    </tr>\n",
              "  </thead>\n",
              "  <tbody>\n",
              "    <tr>\n",
              "      <th>1254</th>\n",
              "      <td>1254</td>\n",
              "      <td>2022-06-08</td>\n",
              "      <td>4147.120117</td>\n",
              "      <td>4160.140137</td>\n",
              "      <td>4107.200195</td>\n",
              "      <td>4115.770020</td>\n",
              "      <td>4115.770020</td>\n",
              "      <td>3090180000</td>\n",
              "      <td>SP500_Ind</td>\n",
              "    </tr>\n",
              "    <tr>\n",
              "      <th>1255</th>\n",
              "      <td>1255</td>\n",
              "      <td>2022-06-09</td>\n",
              "      <td>4101.649902</td>\n",
              "      <td>4119.100098</td>\n",
              "      <td>4017.169922</td>\n",
              "      <td>4017.820068</td>\n",
              "      <td>4017.820068</td>\n",
              "      <td>3192330000</td>\n",
              "      <td>SP500_Ind</td>\n",
              "    </tr>\n",
              "    <tr>\n",
              "      <th>1256</th>\n",
              "      <td>1256</td>\n",
              "      <td>2022-06-10</td>\n",
              "      <td>3974.389893</td>\n",
              "      <td>3974.389893</td>\n",
              "      <td>3900.159912</td>\n",
              "      <td>3900.860107</td>\n",
              "      <td>3900.860107</td>\n",
              "      <td>3936120000</td>\n",
              "      <td>SP500_Ind</td>\n",
              "    </tr>\n",
              "    <tr>\n",
              "      <th>1257</th>\n",
              "      <td>1257</td>\n",
              "      <td>2022-06-13</td>\n",
              "      <td>3838.149902</td>\n",
              "      <td>3838.149902</td>\n",
              "      <td>3734.300049</td>\n",
              "      <td>3749.629883</td>\n",
              "      <td>3749.629883</td>\n",
              "      <td>4572820000</td>\n",
              "      <td>SP500_Ind</td>\n",
              "    </tr>\n",
              "    <tr>\n",
              "      <th>1258</th>\n",
              "      <td>1258</td>\n",
              "      <td>2022-06-14</td>\n",
              "      <td>3763.520020</td>\n",
              "      <td>3778.179932</td>\n",
              "      <td>3705.679932</td>\n",
              "      <td>3735.479980</td>\n",
              "      <td>3735.479980</td>\n",
              "      <td>4126400000</td>\n",
              "      <td>SP500_Ind</td>\n",
              "    </tr>\n",
              "  </tbody>\n",
              "</table>\n",
              "</div>\n",
              "      <button class=\"colab-df-convert\" onclick=\"convertToInteractive('df-9ef84eea-4688-485d-ab27-e3836eaaa7c1')\"\n",
              "              title=\"Convert this dataframe to an interactive table.\"\n",
              "              style=\"display:none;\">\n",
              "        \n",
              "  <svg xmlns=\"http://www.w3.org/2000/svg\" height=\"24px\"viewBox=\"0 0 24 24\"\n",
              "       width=\"24px\">\n",
              "    <path d=\"M0 0h24v24H0V0z\" fill=\"none\"/>\n",
              "    <path d=\"M18.56 5.44l.94 2.06.94-2.06 2.06-.94-2.06-.94-.94-2.06-.94 2.06-2.06.94zm-11 1L8.5 8.5l.94-2.06 2.06-.94-2.06-.94L8.5 2.5l-.94 2.06-2.06.94zm10 10l.94 2.06.94-2.06 2.06-.94-2.06-.94-.94-2.06-.94 2.06-2.06.94z\"/><path d=\"M17.41 7.96l-1.37-1.37c-.4-.4-.92-.59-1.43-.59-.52 0-1.04.2-1.43.59L10.3 9.45l-7.72 7.72c-.78.78-.78 2.05 0 2.83L4 21.41c.39.39.9.59 1.41.59.51 0 1.02-.2 1.41-.59l7.78-7.78 2.81-2.81c.8-.78.8-2.07 0-2.86zM5.41 20L4 18.59l7.72-7.72 1.47 1.35L5.41 20z\"/>\n",
              "  </svg>\n",
              "      </button>\n",
              "      \n",
              "  <style>\n",
              "    .colab-df-container {\n",
              "      display:flex;\n",
              "      flex-wrap:wrap;\n",
              "      gap: 12px;\n",
              "    }\n",
              "\n",
              "    .colab-df-convert {\n",
              "      background-color: #E8F0FE;\n",
              "      border: none;\n",
              "      border-radius: 50%;\n",
              "      cursor: pointer;\n",
              "      display: none;\n",
              "      fill: #1967D2;\n",
              "      height: 32px;\n",
              "      padding: 0 0 0 0;\n",
              "      width: 32px;\n",
              "    }\n",
              "\n",
              "    .colab-df-convert:hover {\n",
              "      background-color: #E2EBFA;\n",
              "      box-shadow: 0px 1px 2px rgba(60, 64, 67, 0.3), 0px 1px 3px 1px rgba(60, 64, 67, 0.15);\n",
              "      fill: #174EA6;\n",
              "    }\n",
              "\n",
              "    [theme=dark] .colab-df-convert {\n",
              "      background-color: #3B4455;\n",
              "      fill: #D2E3FC;\n",
              "    }\n",
              "\n",
              "    [theme=dark] .colab-df-convert:hover {\n",
              "      background-color: #434B5C;\n",
              "      box-shadow: 0px 1px 3px 1px rgba(0, 0, 0, 0.15);\n",
              "      filter: drop-shadow(0px 1px 2px rgba(0, 0, 0, 0.3));\n",
              "      fill: #FFFFFF;\n",
              "    }\n",
              "  </style>\n",
              "\n",
              "      <script>\n",
              "        const buttonEl =\n",
              "          document.querySelector('#df-9ef84eea-4688-485d-ab27-e3836eaaa7c1 button.colab-df-convert');\n",
              "        buttonEl.style.display =\n",
              "          google.colab.kernel.accessAllowed ? 'block' : 'none';\n",
              "\n",
              "        async function convertToInteractive(key) {\n",
              "          const element = document.querySelector('#df-9ef84eea-4688-485d-ab27-e3836eaaa7c1');\n",
              "          const dataTable =\n",
              "            await google.colab.kernel.invokeFunction('convertToInteractive',\n",
              "                                                     [key], {});\n",
              "          if (!dataTable) return;\n",
              "\n",
              "          const docLinkHtml = 'Like what you see? Visit the ' +\n",
              "            '<a target=\"_blank\" href=https://colab.research.google.com/notebooks/data_table.ipynb>data table notebook</a>'\n",
              "            + ' to learn more about interactive tables.';\n",
              "          element.innerHTML = '';\n",
              "          dataTable['output_type'] = 'display_data';\n",
              "          await google.colab.output.renderOutput(dataTable, element);\n",
              "          const docLink = document.createElement('div');\n",
              "          docLink.innerHTML = docLinkHtml;\n",
              "          element.appendChild(docLink);\n",
              "        }\n",
              "      </script>\n",
              "    </div>\n",
              "  </div>\n",
              "  "
            ]
          },
          "metadata": {},
          "execution_count": 19
        }
      ]
    },
    {
      "cell_type": "markdown",
      "source": [
        "<h3>Predicting returns on stock price</h3>\n",
        " \n",
        "- Here we will directly not predict future stock price, but will predict change in stock price ,because the return on stock price will be a stationery time series, which can give us better result than non stationery time series which is calculated using below formula \n",
        "\n",
        "- Return = (Price tomorrow  / Price today) -  1 \n"
      ],
      "metadata": {
        "id": "w4NSBwQgVuGz"
      }
    },
    {
      "cell_type": "code",
      "source": [
        "data['returns'] = data['Open'].pct_change()\n",
        "data['returns'] = data['returns'].shift(-1)"
      ],
      "metadata": {
        "id": "jKGvFFV8baz1"
      },
      "execution_count": 20,
      "outputs": []
    },
    {
      "cell_type": "code",
      "source": [
        "data.head()"
      ],
      "metadata": {
        "colab": {
          "base_uri": "https://localhost:8080/",
          "height": 206
        },
        "id": "IcsdQE6UJa4B",
        "outputId": "c4b2dce1-3823-4766-9797-ae0f5d0ba1fe"
      },
      "execution_count": 21,
      "outputs": [
        {
          "output_type": "execute_result",
          "data": {
            "text/plain": [
              "   Unnamed: 0        Date         Open         High          Low        Close  \\\n",
              "0           0  2017-06-15  2424.139893  2433.949951  2418.530029  2432.459961   \n",
              "1           1  2017-06-16  2431.239990  2433.149902  2422.879883  2433.149902   \n",
              "2           2  2017-06-19  2442.550049  2453.820068  2441.790039  2453.459961   \n",
              "3           3  2017-06-20  2450.659912  2450.659912  2436.600098  2437.030029   \n",
              "4           4  2017-06-21  2439.310059  2442.229980  2430.739990  2435.610107   \n",
              "\n",
              "     Adj Close      Volume     Ticker   returns  \n",
              "0  2432.459961  3353050000  SP500_Ind  0.002929  \n",
              "1  2433.149902  5284720000  SP500_Ind  0.004652  \n",
              "2  2453.459961  3264700000  SP500_Ind  0.003320  \n",
              "3  2437.030029  3416510000  SP500_Ind -0.004631  \n",
              "4  2435.610107  3594820000  SP500_Ind -0.000783  "
            ],
            "text/html": [
              "\n",
              "  <div id=\"df-23dc6e3e-767b-44d5-9e7b-04a2e6339523\">\n",
              "    <div class=\"colab-df-container\">\n",
              "      <div>\n",
              "<style scoped>\n",
              "    .dataframe tbody tr th:only-of-type {\n",
              "        vertical-align: middle;\n",
              "    }\n",
              "\n",
              "    .dataframe tbody tr th {\n",
              "        vertical-align: top;\n",
              "    }\n",
              "\n",
              "    .dataframe thead th {\n",
              "        text-align: right;\n",
              "    }\n",
              "</style>\n",
              "<table border=\"1\" class=\"dataframe\">\n",
              "  <thead>\n",
              "    <tr style=\"text-align: right;\">\n",
              "      <th></th>\n",
              "      <th>Unnamed: 0</th>\n",
              "      <th>Date</th>\n",
              "      <th>Open</th>\n",
              "      <th>High</th>\n",
              "      <th>Low</th>\n",
              "      <th>Close</th>\n",
              "      <th>Adj Close</th>\n",
              "      <th>Volume</th>\n",
              "      <th>Ticker</th>\n",
              "      <th>returns</th>\n",
              "    </tr>\n",
              "  </thead>\n",
              "  <tbody>\n",
              "    <tr>\n",
              "      <th>0</th>\n",
              "      <td>0</td>\n",
              "      <td>2017-06-15</td>\n",
              "      <td>2424.139893</td>\n",
              "      <td>2433.949951</td>\n",
              "      <td>2418.530029</td>\n",
              "      <td>2432.459961</td>\n",
              "      <td>2432.459961</td>\n",
              "      <td>3353050000</td>\n",
              "      <td>SP500_Ind</td>\n",
              "      <td>0.002929</td>\n",
              "    </tr>\n",
              "    <tr>\n",
              "      <th>1</th>\n",
              "      <td>1</td>\n",
              "      <td>2017-06-16</td>\n",
              "      <td>2431.239990</td>\n",
              "      <td>2433.149902</td>\n",
              "      <td>2422.879883</td>\n",
              "      <td>2433.149902</td>\n",
              "      <td>2433.149902</td>\n",
              "      <td>5284720000</td>\n",
              "      <td>SP500_Ind</td>\n",
              "      <td>0.004652</td>\n",
              "    </tr>\n",
              "    <tr>\n",
              "      <th>2</th>\n",
              "      <td>2</td>\n",
              "      <td>2017-06-19</td>\n",
              "      <td>2442.550049</td>\n",
              "      <td>2453.820068</td>\n",
              "      <td>2441.790039</td>\n",
              "      <td>2453.459961</td>\n",
              "      <td>2453.459961</td>\n",
              "      <td>3264700000</td>\n",
              "      <td>SP500_Ind</td>\n",
              "      <td>0.003320</td>\n",
              "    </tr>\n",
              "    <tr>\n",
              "      <th>3</th>\n",
              "      <td>3</td>\n",
              "      <td>2017-06-20</td>\n",
              "      <td>2450.659912</td>\n",
              "      <td>2450.659912</td>\n",
              "      <td>2436.600098</td>\n",
              "      <td>2437.030029</td>\n",
              "      <td>2437.030029</td>\n",
              "      <td>3416510000</td>\n",
              "      <td>SP500_Ind</td>\n",
              "      <td>-0.004631</td>\n",
              "    </tr>\n",
              "    <tr>\n",
              "      <th>4</th>\n",
              "      <td>4</td>\n",
              "      <td>2017-06-21</td>\n",
              "      <td>2439.310059</td>\n",
              "      <td>2442.229980</td>\n",
              "      <td>2430.739990</td>\n",
              "      <td>2435.610107</td>\n",
              "      <td>2435.610107</td>\n",
              "      <td>3594820000</td>\n",
              "      <td>SP500_Ind</td>\n",
              "      <td>-0.000783</td>\n",
              "    </tr>\n",
              "  </tbody>\n",
              "</table>\n",
              "</div>\n",
              "      <button class=\"colab-df-convert\" onclick=\"convertToInteractive('df-23dc6e3e-767b-44d5-9e7b-04a2e6339523')\"\n",
              "              title=\"Convert this dataframe to an interactive table.\"\n",
              "              style=\"display:none;\">\n",
              "        \n",
              "  <svg xmlns=\"http://www.w3.org/2000/svg\" height=\"24px\"viewBox=\"0 0 24 24\"\n",
              "       width=\"24px\">\n",
              "    <path d=\"M0 0h24v24H0V0z\" fill=\"none\"/>\n",
              "    <path d=\"M18.56 5.44l.94 2.06.94-2.06 2.06-.94-2.06-.94-.94-2.06-.94 2.06-2.06.94zm-11 1L8.5 8.5l.94-2.06 2.06-.94-2.06-.94L8.5 2.5l-.94 2.06-2.06.94zm10 10l.94 2.06.94-2.06 2.06-.94-2.06-.94-.94-2.06-.94 2.06-2.06.94z\"/><path d=\"M17.41 7.96l-1.37-1.37c-.4-.4-.92-.59-1.43-.59-.52 0-1.04.2-1.43.59L10.3 9.45l-7.72 7.72c-.78.78-.78 2.05 0 2.83L4 21.41c.39.39.9.59 1.41.59.51 0 1.02-.2 1.41-.59l7.78-7.78 2.81-2.81c.8-.78.8-2.07 0-2.86zM5.41 20L4 18.59l7.72-7.72 1.47 1.35L5.41 20z\"/>\n",
              "  </svg>\n",
              "      </button>\n",
              "      \n",
              "  <style>\n",
              "    .colab-df-container {\n",
              "      display:flex;\n",
              "      flex-wrap:wrap;\n",
              "      gap: 12px;\n",
              "    }\n",
              "\n",
              "    .colab-df-convert {\n",
              "      background-color: #E8F0FE;\n",
              "      border: none;\n",
              "      border-radius: 50%;\n",
              "      cursor: pointer;\n",
              "      display: none;\n",
              "      fill: #1967D2;\n",
              "      height: 32px;\n",
              "      padding: 0 0 0 0;\n",
              "      width: 32px;\n",
              "    }\n",
              "\n",
              "    .colab-df-convert:hover {\n",
              "      background-color: #E2EBFA;\n",
              "      box-shadow: 0px 1px 2px rgba(60, 64, 67, 0.3), 0px 1px 3px 1px rgba(60, 64, 67, 0.15);\n",
              "      fill: #174EA6;\n",
              "    }\n",
              "\n",
              "    [theme=dark] .colab-df-convert {\n",
              "      background-color: #3B4455;\n",
              "      fill: #D2E3FC;\n",
              "    }\n",
              "\n",
              "    [theme=dark] .colab-df-convert:hover {\n",
              "      background-color: #434B5C;\n",
              "      box-shadow: 0px 1px 3px 1px rgba(0, 0, 0, 0.15);\n",
              "      filter: drop-shadow(0px 1px 2px rgba(0, 0, 0, 0.3));\n",
              "      fill: #FFFFFF;\n",
              "    }\n",
              "  </style>\n",
              "\n",
              "      <script>\n",
              "        const buttonEl =\n",
              "          document.querySelector('#df-23dc6e3e-767b-44d5-9e7b-04a2e6339523 button.colab-df-convert');\n",
              "        buttonEl.style.display =\n",
              "          google.colab.kernel.accessAllowed ? 'block' : 'none';\n",
              "\n",
              "        async function convertToInteractive(key) {\n",
              "          const element = document.querySelector('#df-23dc6e3e-767b-44d5-9e7b-04a2e6339523');\n",
              "          const dataTable =\n",
              "            await google.colab.kernel.invokeFunction('convertToInteractive',\n",
              "                                                     [key], {});\n",
              "          if (!dataTable) return;\n",
              "\n",
              "          const docLinkHtml = 'Like what you see? Visit the ' +\n",
              "            '<a target=\"_blank\" href=https://colab.research.google.com/notebooks/data_table.ipynb>data table notebook</a>'\n",
              "            + ' to learn more about interactive tables.';\n",
              "          element.innerHTML = '';\n",
              "          dataTable['output_type'] = 'display_data';\n",
              "          await google.colab.output.renderOutput(dataTable, element);\n",
              "          const docLink = document.createElement('div');\n",
              "          docLink.innerHTML = docLinkHtml;\n",
              "          element.appendChild(docLink);\n",
              "        }\n",
              "      </script>\n",
              "    </div>\n",
              "  </div>\n",
              "  "
            ]
          },
          "metadata": {},
          "execution_count": 21
        }
      ]
    },
    {
      "cell_type": "markdown",
      "source": [
        "<h3>Conclusion :</h3>\n",
        "\n",
        "- So based on given input ['Date','Open','High','Low','Close','Volume'], return columns tell us the return for next day , that is why we used shift operator."
      ],
      "metadata": {
        "id": "MiQG1SgNYNj4"
      }
    },
    {
      "cell_type": "code",
      "source": [
        "data.tail()"
      ],
      "metadata": {
        "colab": {
          "base_uri": "https://localhost:8080/",
          "height": 206
        },
        "id": "yNQeCIq00pts",
        "outputId": "fe75273e-cf8f-48f5-efec-008a9feb9f30"
      },
      "execution_count": 22,
      "outputs": [
        {
          "output_type": "execute_result",
          "data": {
            "text/plain": [
              "      Unnamed: 0        Date         Open         High          Low  \\\n",
              "1254        1254  2022-06-08  4147.120117  4160.140137  4107.200195   \n",
              "1255        1255  2022-06-09  4101.649902  4119.100098  4017.169922   \n",
              "1256        1256  2022-06-10  3974.389893  3974.389893  3900.159912   \n",
              "1257        1257  2022-06-13  3838.149902  3838.149902  3734.300049   \n",
              "1258        1258  2022-06-14  3763.520020  3778.179932  3705.679932   \n",
              "\n",
              "            Close    Adj Close      Volume     Ticker   returns  \n",
              "1254  4115.770020  4115.770020  3090180000  SP500_Ind -0.010964  \n",
              "1255  4017.820068  4017.820068  3192330000  SP500_Ind -0.031027  \n",
              "1256  3900.860107  3900.860107  3936120000  SP500_Ind -0.034279  \n",
              "1257  3749.629883  3749.629883  4572820000  SP500_Ind -0.019444  \n",
              "1258  3735.479980  3735.479980  4126400000  SP500_Ind       NaN  "
            ],
            "text/html": [
              "\n",
              "  <div id=\"df-52d38ac0-fffd-48fd-97ed-0ed33034534b\">\n",
              "    <div class=\"colab-df-container\">\n",
              "      <div>\n",
              "<style scoped>\n",
              "    .dataframe tbody tr th:only-of-type {\n",
              "        vertical-align: middle;\n",
              "    }\n",
              "\n",
              "    .dataframe tbody tr th {\n",
              "        vertical-align: top;\n",
              "    }\n",
              "\n",
              "    .dataframe thead th {\n",
              "        text-align: right;\n",
              "    }\n",
              "</style>\n",
              "<table border=\"1\" class=\"dataframe\">\n",
              "  <thead>\n",
              "    <tr style=\"text-align: right;\">\n",
              "      <th></th>\n",
              "      <th>Unnamed: 0</th>\n",
              "      <th>Date</th>\n",
              "      <th>Open</th>\n",
              "      <th>High</th>\n",
              "      <th>Low</th>\n",
              "      <th>Close</th>\n",
              "      <th>Adj Close</th>\n",
              "      <th>Volume</th>\n",
              "      <th>Ticker</th>\n",
              "      <th>returns</th>\n",
              "    </tr>\n",
              "  </thead>\n",
              "  <tbody>\n",
              "    <tr>\n",
              "      <th>1254</th>\n",
              "      <td>1254</td>\n",
              "      <td>2022-06-08</td>\n",
              "      <td>4147.120117</td>\n",
              "      <td>4160.140137</td>\n",
              "      <td>4107.200195</td>\n",
              "      <td>4115.770020</td>\n",
              "      <td>4115.770020</td>\n",
              "      <td>3090180000</td>\n",
              "      <td>SP500_Ind</td>\n",
              "      <td>-0.010964</td>\n",
              "    </tr>\n",
              "    <tr>\n",
              "      <th>1255</th>\n",
              "      <td>1255</td>\n",
              "      <td>2022-06-09</td>\n",
              "      <td>4101.649902</td>\n",
              "      <td>4119.100098</td>\n",
              "      <td>4017.169922</td>\n",
              "      <td>4017.820068</td>\n",
              "      <td>4017.820068</td>\n",
              "      <td>3192330000</td>\n",
              "      <td>SP500_Ind</td>\n",
              "      <td>-0.031027</td>\n",
              "    </tr>\n",
              "    <tr>\n",
              "      <th>1256</th>\n",
              "      <td>1256</td>\n",
              "      <td>2022-06-10</td>\n",
              "      <td>3974.389893</td>\n",
              "      <td>3974.389893</td>\n",
              "      <td>3900.159912</td>\n",
              "      <td>3900.860107</td>\n",
              "      <td>3900.860107</td>\n",
              "      <td>3936120000</td>\n",
              "      <td>SP500_Ind</td>\n",
              "      <td>-0.034279</td>\n",
              "    </tr>\n",
              "    <tr>\n",
              "      <th>1257</th>\n",
              "      <td>1257</td>\n",
              "      <td>2022-06-13</td>\n",
              "      <td>3838.149902</td>\n",
              "      <td>3838.149902</td>\n",
              "      <td>3734.300049</td>\n",
              "      <td>3749.629883</td>\n",
              "      <td>3749.629883</td>\n",
              "      <td>4572820000</td>\n",
              "      <td>SP500_Ind</td>\n",
              "      <td>-0.019444</td>\n",
              "    </tr>\n",
              "    <tr>\n",
              "      <th>1258</th>\n",
              "      <td>1258</td>\n",
              "      <td>2022-06-14</td>\n",
              "      <td>3763.520020</td>\n",
              "      <td>3778.179932</td>\n",
              "      <td>3705.679932</td>\n",
              "      <td>3735.479980</td>\n",
              "      <td>3735.479980</td>\n",
              "      <td>4126400000</td>\n",
              "      <td>SP500_Ind</td>\n",
              "      <td>NaN</td>\n",
              "    </tr>\n",
              "  </tbody>\n",
              "</table>\n",
              "</div>\n",
              "      <button class=\"colab-df-convert\" onclick=\"convertToInteractive('df-52d38ac0-fffd-48fd-97ed-0ed33034534b')\"\n",
              "              title=\"Convert this dataframe to an interactive table.\"\n",
              "              style=\"display:none;\">\n",
              "        \n",
              "  <svg xmlns=\"http://www.w3.org/2000/svg\" height=\"24px\"viewBox=\"0 0 24 24\"\n",
              "       width=\"24px\">\n",
              "    <path d=\"M0 0h24v24H0V0z\" fill=\"none\"/>\n",
              "    <path d=\"M18.56 5.44l.94 2.06.94-2.06 2.06-.94-2.06-.94-.94-2.06-.94 2.06-2.06.94zm-11 1L8.5 8.5l.94-2.06 2.06-.94-2.06-.94L8.5 2.5l-.94 2.06-2.06.94zm10 10l.94 2.06.94-2.06 2.06-.94-2.06-.94-.94-2.06-.94 2.06-2.06.94z\"/><path d=\"M17.41 7.96l-1.37-1.37c-.4-.4-.92-.59-1.43-.59-.52 0-1.04.2-1.43.59L10.3 9.45l-7.72 7.72c-.78.78-.78 2.05 0 2.83L4 21.41c.39.39.9.59 1.41.59.51 0 1.02-.2 1.41-.59l7.78-7.78 2.81-2.81c.8-.78.8-2.07 0-2.86zM5.41 20L4 18.59l7.72-7.72 1.47 1.35L5.41 20z\"/>\n",
              "  </svg>\n",
              "      </button>\n",
              "      \n",
              "  <style>\n",
              "    .colab-df-container {\n",
              "      display:flex;\n",
              "      flex-wrap:wrap;\n",
              "      gap: 12px;\n",
              "    }\n",
              "\n",
              "    .colab-df-convert {\n",
              "      background-color: #E8F0FE;\n",
              "      border: none;\n",
              "      border-radius: 50%;\n",
              "      cursor: pointer;\n",
              "      display: none;\n",
              "      fill: #1967D2;\n",
              "      height: 32px;\n",
              "      padding: 0 0 0 0;\n",
              "      width: 32px;\n",
              "    }\n",
              "\n",
              "    .colab-df-convert:hover {\n",
              "      background-color: #E2EBFA;\n",
              "      box-shadow: 0px 1px 2px rgba(60, 64, 67, 0.3), 0px 1px 3px 1px rgba(60, 64, 67, 0.15);\n",
              "      fill: #174EA6;\n",
              "    }\n",
              "\n",
              "    [theme=dark] .colab-df-convert {\n",
              "      background-color: #3B4455;\n",
              "      fill: #D2E3FC;\n",
              "    }\n",
              "\n",
              "    [theme=dark] .colab-df-convert:hover {\n",
              "      background-color: #434B5C;\n",
              "      box-shadow: 0px 1px 3px 1px rgba(0, 0, 0, 0.15);\n",
              "      filter: drop-shadow(0px 1px 2px rgba(0, 0, 0, 0.3));\n",
              "      fill: #FFFFFF;\n",
              "    }\n",
              "  </style>\n",
              "\n",
              "      <script>\n",
              "        const buttonEl =\n",
              "          document.querySelector('#df-52d38ac0-fffd-48fd-97ed-0ed33034534b button.colab-df-convert');\n",
              "        buttonEl.style.display =\n",
              "          google.colab.kernel.accessAllowed ? 'block' : 'none';\n",
              "\n",
              "        async function convertToInteractive(key) {\n",
              "          const element = document.querySelector('#df-52d38ac0-fffd-48fd-97ed-0ed33034534b');\n",
              "          const dataTable =\n",
              "            await google.colab.kernel.invokeFunction('convertToInteractive',\n",
              "                                                     [key], {});\n",
              "          if (!dataTable) return;\n",
              "\n",
              "          const docLinkHtml = 'Like what you see? Visit the ' +\n",
              "            '<a target=\"_blank\" href=https://colab.research.google.com/notebooks/data_table.ipynb>data table notebook</a>'\n",
              "            + ' to learn more about interactive tables.';\n",
              "          element.innerHTML = '';\n",
              "          dataTable['output_type'] = 'display_data';\n",
              "          await google.colab.output.renderOutput(dataTable, element);\n",
              "          const docLink = document.createElement('div');\n",
              "          docLink.innerHTML = docLinkHtml;\n",
              "          element.appendChild(docLink);\n",
              "        }\n",
              "      </script>\n",
              "    </div>\n",
              "  </div>\n",
              "  "
            ]
          },
          "metadata": {},
          "execution_count": 22
        }
      ]
    },
    {
      "cell_type": "markdown",
      "source": [
        "<h3> Conclusion : </h3>\n",
        "\n",
        "- The last row is Null, because there is no next day to calculate , return on current day price"
      ],
      "metadata": {
        "id": "hPxpOZNzYxvP"
      }
    },
    {
      "cell_type": "code",
      "source": [
        "data.shape"
      ],
      "metadata": {
        "colab": {
          "base_uri": "https://localhost:8080/"
        },
        "id": "Nj4lOORC_rIz",
        "outputId": "c7d10d32-b8b3-41ef-cb3c-fe2d867bde39"
      },
      "execution_count": 23,
      "outputs": [
        {
          "output_type": "execute_result",
          "data": {
            "text/plain": [
              "(1259, 10)"
            ]
          },
          "metadata": {},
          "execution_count": 23
        }
      ]
    },
    {
      "cell_type": "markdown",
      "source": [
        "<h3> Conclusion </h3>\n",
        "\n",
        "- We have 1259 row and 10 columns, and since last row is Null, we need to drop it"
      ],
      "metadata": {
        "id": "otH9Ln6uZZa4"
      }
    },
    {
      "cell_type": "code",
      "source": [
        "df = data[['Date','Open','High','Low','Close','Volume','returns']]"
      ],
      "metadata": {
        "id": "-yAC_GwHcD5t"
      },
      "execution_count": 24,
      "outputs": []
    },
    {
      "cell_type": "code",
      "source": [
        "df.head()"
      ],
      "metadata": {
        "colab": {
          "base_uri": "https://localhost:8080/",
          "height": 206
        },
        "id": "zZVMdz060UFW",
        "outputId": "6da23003-8609-4535-c958-f937074c4158"
      },
      "execution_count": 25,
      "outputs": [
        {
          "output_type": "execute_result",
          "data": {
            "text/plain": [
              "         Date         Open         High          Low        Close      Volume  \\\n",
              "0  2017-06-15  2424.139893  2433.949951  2418.530029  2432.459961  3353050000   \n",
              "1  2017-06-16  2431.239990  2433.149902  2422.879883  2433.149902  5284720000   \n",
              "2  2017-06-19  2442.550049  2453.820068  2441.790039  2453.459961  3264700000   \n",
              "3  2017-06-20  2450.659912  2450.659912  2436.600098  2437.030029  3416510000   \n",
              "4  2017-06-21  2439.310059  2442.229980  2430.739990  2435.610107  3594820000   \n",
              "\n",
              "    returns  \n",
              "0  0.002929  \n",
              "1  0.004652  \n",
              "2  0.003320  \n",
              "3 -0.004631  \n",
              "4 -0.000783  "
            ],
            "text/html": [
              "\n",
              "  <div id=\"df-0be2b062-4d9d-4d40-a688-22701984064e\">\n",
              "    <div class=\"colab-df-container\">\n",
              "      <div>\n",
              "<style scoped>\n",
              "    .dataframe tbody tr th:only-of-type {\n",
              "        vertical-align: middle;\n",
              "    }\n",
              "\n",
              "    .dataframe tbody tr th {\n",
              "        vertical-align: top;\n",
              "    }\n",
              "\n",
              "    .dataframe thead th {\n",
              "        text-align: right;\n",
              "    }\n",
              "</style>\n",
              "<table border=\"1\" class=\"dataframe\">\n",
              "  <thead>\n",
              "    <tr style=\"text-align: right;\">\n",
              "      <th></th>\n",
              "      <th>Date</th>\n",
              "      <th>Open</th>\n",
              "      <th>High</th>\n",
              "      <th>Low</th>\n",
              "      <th>Close</th>\n",
              "      <th>Volume</th>\n",
              "      <th>returns</th>\n",
              "    </tr>\n",
              "  </thead>\n",
              "  <tbody>\n",
              "    <tr>\n",
              "      <th>0</th>\n",
              "      <td>2017-06-15</td>\n",
              "      <td>2424.139893</td>\n",
              "      <td>2433.949951</td>\n",
              "      <td>2418.530029</td>\n",
              "      <td>2432.459961</td>\n",
              "      <td>3353050000</td>\n",
              "      <td>0.002929</td>\n",
              "    </tr>\n",
              "    <tr>\n",
              "      <th>1</th>\n",
              "      <td>2017-06-16</td>\n",
              "      <td>2431.239990</td>\n",
              "      <td>2433.149902</td>\n",
              "      <td>2422.879883</td>\n",
              "      <td>2433.149902</td>\n",
              "      <td>5284720000</td>\n",
              "      <td>0.004652</td>\n",
              "    </tr>\n",
              "    <tr>\n",
              "      <th>2</th>\n",
              "      <td>2017-06-19</td>\n",
              "      <td>2442.550049</td>\n",
              "      <td>2453.820068</td>\n",
              "      <td>2441.790039</td>\n",
              "      <td>2453.459961</td>\n",
              "      <td>3264700000</td>\n",
              "      <td>0.003320</td>\n",
              "    </tr>\n",
              "    <tr>\n",
              "      <th>3</th>\n",
              "      <td>2017-06-20</td>\n",
              "      <td>2450.659912</td>\n",
              "      <td>2450.659912</td>\n",
              "      <td>2436.600098</td>\n",
              "      <td>2437.030029</td>\n",
              "      <td>3416510000</td>\n",
              "      <td>-0.004631</td>\n",
              "    </tr>\n",
              "    <tr>\n",
              "      <th>4</th>\n",
              "      <td>2017-06-21</td>\n",
              "      <td>2439.310059</td>\n",
              "      <td>2442.229980</td>\n",
              "      <td>2430.739990</td>\n",
              "      <td>2435.610107</td>\n",
              "      <td>3594820000</td>\n",
              "      <td>-0.000783</td>\n",
              "    </tr>\n",
              "  </tbody>\n",
              "</table>\n",
              "</div>\n",
              "      <button class=\"colab-df-convert\" onclick=\"convertToInteractive('df-0be2b062-4d9d-4d40-a688-22701984064e')\"\n",
              "              title=\"Convert this dataframe to an interactive table.\"\n",
              "              style=\"display:none;\">\n",
              "        \n",
              "  <svg xmlns=\"http://www.w3.org/2000/svg\" height=\"24px\"viewBox=\"0 0 24 24\"\n",
              "       width=\"24px\">\n",
              "    <path d=\"M0 0h24v24H0V0z\" fill=\"none\"/>\n",
              "    <path d=\"M18.56 5.44l.94 2.06.94-2.06 2.06-.94-2.06-.94-.94-2.06-.94 2.06-2.06.94zm-11 1L8.5 8.5l.94-2.06 2.06-.94-2.06-.94L8.5 2.5l-.94 2.06-2.06.94zm10 10l.94 2.06.94-2.06 2.06-.94-2.06-.94-.94-2.06-.94 2.06-2.06.94z\"/><path d=\"M17.41 7.96l-1.37-1.37c-.4-.4-.92-.59-1.43-.59-.52 0-1.04.2-1.43.59L10.3 9.45l-7.72 7.72c-.78.78-.78 2.05 0 2.83L4 21.41c.39.39.9.59 1.41.59.51 0 1.02-.2 1.41-.59l7.78-7.78 2.81-2.81c.8-.78.8-2.07 0-2.86zM5.41 20L4 18.59l7.72-7.72 1.47 1.35L5.41 20z\"/>\n",
              "  </svg>\n",
              "      </button>\n",
              "      \n",
              "  <style>\n",
              "    .colab-df-container {\n",
              "      display:flex;\n",
              "      flex-wrap:wrap;\n",
              "      gap: 12px;\n",
              "    }\n",
              "\n",
              "    .colab-df-convert {\n",
              "      background-color: #E8F0FE;\n",
              "      border: none;\n",
              "      border-radius: 50%;\n",
              "      cursor: pointer;\n",
              "      display: none;\n",
              "      fill: #1967D2;\n",
              "      height: 32px;\n",
              "      padding: 0 0 0 0;\n",
              "      width: 32px;\n",
              "    }\n",
              "\n",
              "    .colab-df-convert:hover {\n",
              "      background-color: #E2EBFA;\n",
              "      box-shadow: 0px 1px 2px rgba(60, 64, 67, 0.3), 0px 1px 3px 1px rgba(60, 64, 67, 0.15);\n",
              "      fill: #174EA6;\n",
              "    }\n",
              "\n",
              "    [theme=dark] .colab-df-convert {\n",
              "      background-color: #3B4455;\n",
              "      fill: #D2E3FC;\n",
              "    }\n",
              "\n",
              "    [theme=dark] .colab-df-convert:hover {\n",
              "      background-color: #434B5C;\n",
              "      box-shadow: 0px 1px 3px 1px rgba(0, 0, 0, 0.15);\n",
              "      filter: drop-shadow(0px 1px 2px rgba(0, 0, 0, 0.3));\n",
              "      fill: #FFFFFF;\n",
              "    }\n",
              "  </style>\n",
              "\n",
              "      <script>\n",
              "        const buttonEl =\n",
              "          document.querySelector('#df-0be2b062-4d9d-4d40-a688-22701984064e button.colab-df-convert');\n",
              "        buttonEl.style.display =\n",
              "          google.colab.kernel.accessAllowed ? 'block' : 'none';\n",
              "\n",
              "        async function convertToInteractive(key) {\n",
              "          const element = document.querySelector('#df-0be2b062-4d9d-4d40-a688-22701984064e');\n",
              "          const dataTable =\n",
              "            await google.colab.kernel.invokeFunction('convertToInteractive',\n",
              "                                                     [key], {});\n",
              "          if (!dataTable) return;\n",
              "\n",
              "          const docLinkHtml = 'Like what you see? Visit the ' +\n",
              "            '<a target=\"_blank\" href=https://colab.research.google.com/notebooks/data_table.ipynb>data table notebook</a>'\n",
              "            + ' to learn more about interactive tables.';\n",
              "          element.innerHTML = '';\n",
              "          dataTable['output_type'] = 'display_data';\n",
              "          await google.colab.output.renderOutput(dataTable, element);\n",
              "          const docLink = document.createElement('div');\n",
              "          docLink.innerHTML = docLinkHtml;\n",
              "          element.appendChild(docLink);\n",
              "        }\n",
              "      </script>\n",
              "    </div>\n",
              "  </div>\n",
              "  "
            ]
          },
          "metadata": {},
          "execution_count": 25
        }
      ]
    },
    {
      "cell_type": "code",
      "source": [
        "df.tail()"
      ],
      "metadata": {
        "colab": {
          "base_uri": "https://localhost:8080/",
          "height": 206
        },
        "id": "PW7LyX1xAq4c",
        "outputId": "3a25a79e-79d8-49df-94f9-472c7f62421d"
      },
      "execution_count": 26,
      "outputs": [
        {
          "output_type": "execute_result",
          "data": {
            "text/plain": [
              "            Date         Open         High          Low        Close  \\\n",
              "1254  2022-06-08  4147.120117  4160.140137  4107.200195  4115.770020   \n",
              "1255  2022-06-09  4101.649902  4119.100098  4017.169922  4017.820068   \n",
              "1256  2022-06-10  3974.389893  3974.389893  3900.159912  3900.860107   \n",
              "1257  2022-06-13  3838.149902  3838.149902  3734.300049  3749.629883   \n",
              "1258  2022-06-14  3763.520020  3778.179932  3705.679932  3735.479980   \n",
              "\n",
              "          Volume   returns  \n",
              "1254  3090180000 -0.010964  \n",
              "1255  3192330000 -0.031027  \n",
              "1256  3936120000 -0.034279  \n",
              "1257  4572820000 -0.019444  \n",
              "1258  4126400000       NaN  "
            ],
            "text/html": [
              "\n",
              "  <div id=\"df-9eb433f2-9a3c-4f2b-932a-13c7912d160e\">\n",
              "    <div class=\"colab-df-container\">\n",
              "      <div>\n",
              "<style scoped>\n",
              "    .dataframe tbody tr th:only-of-type {\n",
              "        vertical-align: middle;\n",
              "    }\n",
              "\n",
              "    .dataframe tbody tr th {\n",
              "        vertical-align: top;\n",
              "    }\n",
              "\n",
              "    .dataframe thead th {\n",
              "        text-align: right;\n",
              "    }\n",
              "</style>\n",
              "<table border=\"1\" class=\"dataframe\">\n",
              "  <thead>\n",
              "    <tr style=\"text-align: right;\">\n",
              "      <th></th>\n",
              "      <th>Date</th>\n",
              "      <th>Open</th>\n",
              "      <th>High</th>\n",
              "      <th>Low</th>\n",
              "      <th>Close</th>\n",
              "      <th>Volume</th>\n",
              "      <th>returns</th>\n",
              "    </tr>\n",
              "  </thead>\n",
              "  <tbody>\n",
              "    <tr>\n",
              "      <th>1254</th>\n",
              "      <td>2022-06-08</td>\n",
              "      <td>4147.120117</td>\n",
              "      <td>4160.140137</td>\n",
              "      <td>4107.200195</td>\n",
              "      <td>4115.770020</td>\n",
              "      <td>3090180000</td>\n",
              "      <td>-0.010964</td>\n",
              "    </tr>\n",
              "    <tr>\n",
              "      <th>1255</th>\n",
              "      <td>2022-06-09</td>\n",
              "      <td>4101.649902</td>\n",
              "      <td>4119.100098</td>\n",
              "      <td>4017.169922</td>\n",
              "      <td>4017.820068</td>\n",
              "      <td>3192330000</td>\n",
              "      <td>-0.031027</td>\n",
              "    </tr>\n",
              "    <tr>\n",
              "      <th>1256</th>\n",
              "      <td>2022-06-10</td>\n",
              "      <td>3974.389893</td>\n",
              "      <td>3974.389893</td>\n",
              "      <td>3900.159912</td>\n",
              "      <td>3900.860107</td>\n",
              "      <td>3936120000</td>\n",
              "      <td>-0.034279</td>\n",
              "    </tr>\n",
              "    <tr>\n",
              "      <th>1257</th>\n",
              "      <td>2022-06-13</td>\n",
              "      <td>3838.149902</td>\n",
              "      <td>3838.149902</td>\n",
              "      <td>3734.300049</td>\n",
              "      <td>3749.629883</td>\n",
              "      <td>4572820000</td>\n",
              "      <td>-0.019444</td>\n",
              "    </tr>\n",
              "    <tr>\n",
              "      <th>1258</th>\n",
              "      <td>2022-06-14</td>\n",
              "      <td>3763.520020</td>\n",
              "      <td>3778.179932</td>\n",
              "      <td>3705.679932</td>\n",
              "      <td>3735.479980</td>\n",
              "      <td>4126400000</td>\n",
              "      <td>NaN</td>\n",
              "    </tr>\n",
              "  </tbody>\n",
              "</table>\n",
              "</div>\n",
              "      <button class=\"colab-df-convert\" onclick=\"convertToInteractive('df-9eb433f2-9a3c-4f2b-932a-13c7912d160e')\"\n",
              "              title=\"Convert this dataframe to an interactive table.\"\n",
              "              style=\"display:none;\">\n",
              "        \n",
              "  <svg xmlns=\"http://www.w3.org/2000/svg\" height=\"24px\"viewBox=\"0 0 24 24\"\n",
              "       width=\"24px\">\n",
              "    <path d=\"M0 0h24v24H0V0z\" fill=\"none\"/>\n",
              "    <path d=\"M18.56 5.44l.94 2.06.94-2.06 2.06-.94-2.06-.94-.94-2.06-.94 2.06-2.06.94zm-11 1L8.5 8.5l.94-2.06 2.06-.94-2.06-.94L8.5 2.5l-.94 2.06-2.06.94zm10 10l.94 2.06.94-2.06 2.06-.94-2.06-.94-.94-2.06-.94 2.06-2.06.94z\"/><path d=\"M17.41 7.96l-1.37-1.37c-.4-.4-.92-.59-1.43-.59-.52 0-1.04.2-1.43.59L10.3 9.45l-7.72 7.72c-.78.78-.78 2.05 0 2.83L4 21.41c.39.39.9.59 1.41.59.51 0 1.02-.2 1.41-.59l7.78-7.78 2.81-2.81c.8-.78.8-2.07 0-2.86zM5.41 20L4 18.59l7.72-7.72 1.47 1.35L5.41 20z\"/>\n",
              "  </svg>\n",
              "      </button>\n",
              "      \n",
              "  <style>\n",
              "    .colab-df-container {\n",
              "      display:flex;\n",
              "      flex-wrap:wrap;\n",
              "      gap: 12px;\n",
              "    }\n",
              "\n",
              "    .colab-df-convert {\n",
              "      background-color: #E8F0FE;\n",
              "      border: none;\n",
              "      border-radius: 50%;\n",
              "      cursor: pointer;\n",
              "      display: none;\n",
              "      fill: #1967D2;\n",
              "      height: 32px;\n",
              "      padding: 0 0 0 0;\n",
              "      width: 32px;\n",
              "    }\n",
              "\n",
              "    .colab-df-convert:hover {\n",
              "      background-color: #E2EBFA;\n",
              "      box-shadow: 0px 1px 2px rgba(60, 64, 67, 0.3), 0px 1px 3px 1px rgba(60, 64, 67, 0.15);\n",
              "      fill: #174EA6;\n",
              "    }\n",
              "\n",
              "    [theme=dark] .colab-df-convert {\n",
              "      background-color: #3B4455;\n",
              "      fill: #D2E3FC;\n",
              "    }\n",
              "\n",
              "    [theme=dark] .colab-df-convert:hover {\n",
              "      background-color: #434B5C;\n",
              "      box-shadow: 0px 1px 3px 1px rgba(0, 0, 0, 0.15);\n",
              "      filter: drop-shadow(0px 1px 2px rgba(0, 0, 0, 0.3));\n",
              "      fill: #FFFFFF;\n",
              "    }\n",
              "  </style>\n",
              "\n",
              "      <script>\n",
              "        const buttonEl =\n",
              "          document.querySelector('#df-9eb433f2-9a3c-4f2b-932a-13c7912d160e button.colab-df-convert');\n",
              "        buttonEl.style.display =\n",
              "          google.colab.kernel.accessAllowed ? 'block' : 'none';\n",
              "\n",
              "        async function convertToInteractive(key) {\n",
              "          const element = document.querySelector('#df-9eb433f2-9a3c-4f2b-932a-13c7912d160e');\n",
              "          const dataTable =\n",
              "            await google.colab.kernel.invokeFunction('convertToInteractive',\n",
              "                                                     [key], {});\n",
              "          if (!dataTable) return;\n",
              "\n",
              "          const docLinkHtml = 'Like what you see? Visit the ' +\n",
              "            '<a target=\"_blank\" href=https://colab.research.google.com/notebooks/data_table.ipynb>data table notebook</a>'\n",
              "            + ' to learn more about interactive tables.';\n",
              "          element.innerHTML = '';\n",
              "          dataTable['output_type'] = 'display_data';\n",
              "          await google.colab.output.renderOutput(dataTable, element);\n",
              "          const docLink = document.createElement('div');\n",
              "          docLink.innerHTML = docLinkHtml;\n",
              "          element.appendChild(docLink);\n",
              "        }\n",
              "      </script>\n",
              "    </div>\n",
              "  </div>\n",
              "  "
            ]
          },
          "metadata": {},
          "execution_count": 26
        }
      ]
    },
    {
      "cell_type": "markdown",
      "source": [
        "<h2> Plotting daily return on stock price </h2>"
      ],
      "metadata": {
        "id": "TiUpPp-DZ6qz"
      }
    },
    {
      "cell_type": "code",
      "source": [
        "import matplotlib.pyplot as plt\n"
      ],
      "metadata": {
        "id": "K8XYj-v0pqhD"
      },
      "execution_count": 27,
      "outputs": []
    },
    {
      "cell_type": "code",
      "source": [
        "fig, (ax1,ax2) = plt.subplots(1,2, figsize=(16,6))\n",
        "ax1.plot(df['returns'])\n",
        "ax2.hist(df['returns'], density = True)\n",
        "print(\"Mean change in stock price :\", abs(df['returns']).mean())"
      ],
      "metadata": {
        "colab": {
          "base_uri": "https://localhost:8080/",
          "height": 394
        },
        "id": "N0E5FUAgEps2",
        "outputId": "86aa1763-c4f9-4dcb-f2f9-3feb54d1a018"
      },
      "execution_count": 28,
      "outputs": [
        {
          "output_type": "stream",
          "name": "stdout",
          "text": [
            "Mean change in stock price : 0.007208017689023189\n"
          ]
        },
        {
          "output_type": "display_data",
          "data": {
            "text/plain": [
              "<Figure size 1152x432 with 2 Axes>"
            ],
            "image/png": "[encoded data removed]"
          },
          "metadata": {
            "needs_background": "light"
          }
        }
      ]
    },
    {
      "cell_type": "markdown",
      "source": [
        "<h3> Conclusion </h3>\n",
        "\n",
        "- From the above plot we can see that before covid in most cases fluctuation in return on index values on alternate days was between 0 - 0.06 but after covid it increased and reached in the range of 0 - 0.04.\n",
        "\n",
        "- But, During covid period daily fluctuation in return on index values reached to even 0.06%, which tells us how volatile the market had become during covid time\n",
        "- An the maximum return values lies in the range of -0.02 to + 0.02"
      ],
      "metadata": {
        "id": "agenvPl8aamB"
      }
    },
    {
      "cell_type": "code",
      "source": [
        "data.dropna(inplace=True)\n",
        "X = data[['Open','High','Low','Close','Volume']].values"
      ],
      "metadata": {
        "id": "DPzizlwSM37t"
      },
      "execution_count": 29,
      "outputs": []
    },
    {
      "cell_type": "code",
      "source": [
        "y = data[['returns']].values"
      ],
      "metadata": {
        "id": "nI_OmwL3UpQp"
      },
      "execution_count": 30,
      "outputs": []
    },
    {
      "cell_type": "code",
      "source": [
        "X.shape, y.shape"
      ],
      "metadata": {
        "colab": {
          "base_uri": "https://localhost:8080/"
        },
        "id": "gyZW_M3EF5J_",
        "outputId": "2f5cd0af-9042-43f6-fc7e-8ab566053886"
      },
      "execution_count": 31,
      "outputs": [
        {
          "output_type": "execute_result",
          "data": {
            "text/plain": [
              "((1258, 5), (1258, 1))"
            ]
          },
          "metadata": {},
          "execution_count": 31
        }
      ]
    },
    {
      "cell_type": "markdown",
      "source": [
        "<h3> Conclusion </h3>\n",
        "\n",
        "- After dropping the Null values and unnecessery columns, we are left with 1258 rows and 5 columns in independent features\n",
        "- And we have 1258 rows in dependent variable whih are continyous variable."
      ],
      "metadata": {
        "id": "lDDw2RxZdGo6"
      }
    },
    {
      "cell_type": "markdown",
      "source": [
        "<h1> 1. Data Preprocessing </h1>"
      ],
      "metadata": {
        "id": "W5gh_oHxeNgm"
      }
    },
    {
      "cell_type": "markdown",
      "source": [
        "<h3> Step 1.i. Scaling the feature variable <h3>\n",
        "\n",
        "- In machine learning algorithms if the values of the features are closer to each other, there are chances for the algorithm to get trained well and faster instead of the data set where the data points or features values have high differences with each other will take more time to understand the data and the accuracy will be lower."
      ],
      "metadata": {
        "id": "lxpWpNMNd-d-"
      }
    },
    {
      "cell_type": "code",
      "execution_count": 32,
      "metadata": {
        "id": "wYBefM4Xx7ag"
      },
      "outputs": [],
      "source": [
        "#from sklearn.preprocessing import StandardScaler\n",
        "from sklearn.preprocessing import MinMaxScaler\n",
        "scaler_x=MinMaxScaler()\n",
        "scaler_y=MinMaxScaler()\n",
        "X_scaled=scaler_x.fit_transform(np.array(X))\n",
        "Y_scaled=scaler_y.fit_transform(np.array(y))"
      ]
    },
    {
      "cell_type": "markdown",
      "source": [
        "<h3>Step 1.ii. Splitting the data into train and test data</h3>"
      ],
      "metadata": {
        "id": "FBgreorFelft"
      }
    },
    {
      "cell_type": "code",
      "source": [
        "split = int(len(X_scaled) * 0.9)\n",
        "print(split)"
      ],
      "metadata": {
        "colab": {
          "base_uri": "https://localhost:8080/"
        },
        "id": "PuwnQ1TMOsY_",
        "outputId": "0fdfcc1e-104d-4468-b259-6a15f0348bd5"
      },
      "execution_count": 33,
      "outputs": [
        {
          "output_type": "stream",
          "name": "stdout",
          "text": [
            "1132\n"
          ]
        }
      ]
    },
    {
      "cell_type": "code",
      "execution_count": 34,
      "metadata": {
        "id": "-0gehaGmx7ag"
      },
      "outputs": [],
      "source": [
        "##splitting dataset into train and test split\n",
        "X_tr, X_tst = X_scaled[:split], X_scaled[split:]\n"
      ]
    },
    {
      "cell_type": "code",
      "source": [
        "X_tr.shape, X_tst.shape"
      ],
      "metadata": {
        "colab": {
          "base_uri": "https://localhost:8080/"
        },
        "id": "oSje4gdSFK4D",
        "outputId": "ec11c120-0e8e-4dd9-a505-d1bc6c56904f"
      },
      "execution_count": 35,
      "outputs": [
        {
          "output_type": "execute_result",
          "data": {
            "text/plain": [
              "((1132, 5), (126, 5))"
            ]
          },
          "metadata": {},
          "execution_count": 35
        }
      ]
    },
    {
      "cell_type": "code",
      "source": [
        "##splitting dataset into train and test split\n",
        "y_tr, y_tst = Y_scaled[:split], Y_scaled[split:]"
      ],
      "metadata": {
        "id": "W-mxkI444If_"
      },
      "execution_count": 36,
      "outputs": []
    },
    {
      "cell_type": "code",
      "source": [
        "y_tr.shape, y_tst.shape"
      ],
      "metadata": {
        "colab": {
          "base_uri": "https://localhost:8080/"
        },
        "id": "_3q9OuP5IFoL",
        "outputId": "328c5237-6399-48a4-effb-d40fc01ec135"
      },
      "execution_count": 37,
      "outputs": [
        {
          "output_type": "execute_result",
          "data": {
            "text/plain": [
              "((1132, 1), (126, 1))"
            ]
          },
          "metadata": {},
          "execution_count": 37
        }
      ]
    },
    {
      "cell_type": "markdown",
      "source": [
        "<h3> Conclusion </h3>\n",
        "\n",
        "- We have 1132 rows in training data and 126 rows in test data"
      ],
      "metadata": {
        "id": "FfwY-DKCe0m8"
      }
    },
    {
      "cell_type": "markdown",
      "source": [
        "<h3>1.iii. Creating Dataset </h3>\n",
        "\n",
        "- Here we will be using LSTM to train our model, which takes sequence of time step input, instead of single input, so we need to prepare our dataset, which are sequence of time step input."
      ],
      "metadata": {
        "id": "ZwAYl-z2f0Os"
      }
    },
    {
      "cell_type": "code",
      "execution_count": 38,
      "metadata": {
        "id": "6qgJp4dBx7ai"
      },
      "outputs": [],
      "source": [
        "# convert an array of values into a dataset matrix\n",
        "def create_dataset(data_x, data_y, time_step=1):\n",
        "\tdata_X, data_Y = [], []\n",
        "\tfor i in range(len(data_x)-time_step+1):\n",
        "\t\ta = data_x[i:(i+time_step), : ]   ###i=0, 0,1,2,3-----99   100 \n",
        "\t\tdata_X.append(a)\n",
        "\t\tdata_Y.append(data_y[i + time_step -1])\n",
        "\treturn np.array(data_X), np.array(data_Y)"
      ]
    },
    {
      "cell_type": "code",
      "execution_count": 39,
      "metadata": {
        "id": "wx5BKEmjx7ai"
      },
      "outputs": [],
      "source": [
        "# reshape into X=t,t+1,t+2,t+3 and Y=t+4\n",
        "time_step = 63 #quarterly dataset, we will use prior of 3 months data to predict future values\n",
        "X_train, y_train = create_dataset(X_tr,y_tr, time_step)\n",
        "X_test, y_test = create_dataset(X_tst,y_tst, time_step)"
      ]
    },
    {
      "cell_type": "code",
      "source": [
        "X_train.shape, y_train.shape"
      ],
      "metadata": {
        "colab": {
          "base_uri": "https://localhost:8080/"
        },
        "id": "PJUoG4ooxXwU",
        "outputId": "ff3b1a4d-6d08-468d-f8fe-9a17fceb5b59"
      },
      "execution_count": 40,
      "outputs": [
        {
          "output_type": "execute_result",
          "data": {
            "text/plain": [
              "((1070, 63, 5), (1070, 1))"
            ]
          },
          "metadata": {},
          "execution_count": 40
        }
      ]
    },
    {
      "cell_type": "code",
      "source": [
        "print('Number of input rows = ',X_train.shape[0])\n",
        "print('Number of sequence input which will be fed into lstm model to train it = ',X_train.shape[1])\n",
        "print('Number of columns = ',X_train.shape[2])"
      ],
      "metadata": {
        "colab": {
          "base_uri": "https://localhost:8080/"
        },
        "id": "FvmA9QZAgXLm",
        "outputId": "cdc2cf17-3096-42ec-8973-5aef0d30d9eb"
      },
      "execution_count": 41,
      "outputs": [
        {
          "output_type": "stream",
          "name": "stdout",
          "text": [
            "Number of input rows =  1070\n",
            "Number of sequence input which will be fed into lstm model to train it =  63\n",
            "Number of columns =  5\n"
          ]
        }
      ]
    },
    {
      "cell_type": "code",
      "source": [
        "X_test.shape, y_test.shape"
      ],
      "metadata": {
        "colab": {
          "base_uri": "https://localhost:8080/"
        },
        "id": "KdPmgNo2hPbb",
        "outputId": "7c01f600-e184-4a71-c40c-333d5bf237be"
      },
      "execution_count": 42,
      "outputs": [
        {
          "output_type": "execute_result",
          "data": {
            "text/plain": [
              "((64, 63, 5), (64, 1))"
            ]
          },
          "metadata": {},
          "execution_count": 42
        }
      ]
    },
    {
      "cell_type": "code",
      "execution_count": 43,
      "metadata": {
        "id": "zZmH5aFix7ak"
      },
      "outputs": [],
      "source": [
        "# reshape input to be [samples, time steps, features] which is required for LSTM\n",
        "X_train =X_train.reshape(X_train.shape[0],X_train.shape[1] , X_train.shape[2])\n",
        "X_test = X_test.reshape(X_test.shape[0],X_test.shape[1] , X_test.shape[2])"
      ]
    },
    {
      "cell_type": "markdown",
      "source": [
        "<h1>2. Creating LSTM model</h1>"
      ],
      "metadata": {
        "id": "EYlnSAb7hlWR"
      }
    },
    {
      "cell_type": "code",
      "execution_count": 44,
      "metadata": {
        "id": "djPW09kyx7ak"
      },
      "outputs": [],
      "source": [
        "## importing necessery library\n",
        "from tensorflow.keras.models import Sequential\n",
        "from tensorflow.keras.layers import Dense\n",
        "from tensorflow.keras.layers import LSTM\n",
        "from tensorflow.keras.layers import Dropout"
      ]
    },
    {
      "cell_type": "code",
      "execution_count": 45,
      "metadata": {
        "id": "C0LcYTLbx7ak"
      },
      "outputs": [],
      "source": [
        "#creating stacked model\n",
        "model=Sequential()\n",
        "model.add(LSTM(50,return_sequences=True,input_shape=(X_train.shape[1],X_train.shape[2])))\n",
        "model.add(Dropout(0.3))\n",
        "model.add(LSTM(50,return_sequences=True))\n",
        "model.add(Dropout(0.3))\n",
        "model.add(LSTM(50))\n",
        "model.add(Dropout(0.3))\n",
        "model.add(Dense(1))\n",
        "model.compile(loss='mean_squared_error',optimizer='adam')\n"
      ]
    },
    {
      "cell_type": "code",
      "execution_count": 46,
      "metadata": {
        "colab": {
          "base_uri": "https://localhost:8080/"
        },
        "id": "aWfjeHIxx7ak",
        "outputId": "f9dc8463-2a30-4d1f-87ba-73bfc12391b1"
      },
      "outputs": [
        {
          "output_type": "stream",
          "name": "stdout",
          "text": [
            "Model: \"sequential\"\n",
            "_________________________________________________________________\n",
            " Layer (type)                Output Shape              Param #   \n",
            "=================================================================\n",
            " lstm (LSTM)                 (None, 63, 50)            11200     \n",
            "                                                                 \n",
            " dropout (Dropout)           (None, 63, 50)            0         \n",
            "                                                                 \n",
            " lstm_1 (LSTM)               (None, 63, 50)            20200     \n",
            "                                                                 \n",
            " dropout_1 (Dropout)         (None, 63, 50)            0         \n",
            "                                                                 \n",
            " lstm_2 (LSTM)               (None, 50)                20200     \n",
            "                                                                 \n",
            " dropout_2 (Dropout)         (None, 50)                0         \n",
            "                                                                 \n",
            " dense (Dense)               (None, 1)                 51        \n",
            "                                                                 \n",
            "=================================================================\n",
            "Total params: 51,651\n",
            "Trainable params: 51,651\n",
            "Non-trainable params: 0\n",
            "_________________________________________________________________\n"
          ]
        }
      ],
      "source": [
        "model.summary()"
      ]
    },
    {
      "cell_type": "markdown",
      "source": [
        "- Number of trainable parameters = 51,651, thsese parameter will predict future price for stock data based on 63 previous days\n",
        "\n"
      ],
      "metadata": {
        "id": "wgf9Tdfhh10e"
      }
    },
    {
      "cell_type": "code",
      "execution_count": 47,
      "metadata": {
        "colab": {
          "base_uri": "https://localhost:8080/"
        },
        "id": "KJOACl7-x7al",
        "outputId": "ef020aca-6970-43c6-9222-86cd50ac9117"
      },
      "outputs": [
        {
          "output_type": "stream",
          "name": "stdout",
          "text": [
            "Epoch 1/60\n",
            "17/17 [==============================] - 6s 78ms/step - loss: 0.0880 - val_loss: 0.0134\n",
            "Epoch 2/60\n",
            "17/17 [==============================] - 0s 13ms/step - loss: 0.0197 - val_loss: 0.0130\n",
            "Epoch 3/60\n",
            "17/17 [==============================] - 0s 13ms/step - loss: 0.0129 - val_loss: 0.0128\n",
            "Epoch 4/60\n",
            "17/17 [==============================] - 0s 12ms/step - loss: 0.0111 - val_loss: 0.0128\n",
            "Epoch 5/60\n",
            "17/17 [==============================] - 0s 13ms/step - loss: 0.0112 - val_loss: 0.0138\n",
            "Epoch 6/60\n",
            "17/17 [==============================] - 0s 13ms/step - loss: 0.0112 - val_loss: 0.0135\n",
            "Epoch 7/60\n",
            "17/17 [==============================] - 0s 12ms/step - loss: 0.0103 - val_loss: 0.0131\n",
            "Epoch 8/60\n",
            "17/17 [==============================] - 0s 12ms/step - loss: 0.0100 - val_loss: 0.0131\n",
            "Epoch 9/60\n",
            "17/17 [==============================] - 0s 13ms/step - loss: 0.0101 - val_loss: 0.0138\n",
            "Epoch 10/60\n",
            "17/17 [==============================] - 0s 12ms/step - loss: 0.0098 - val_loss: 0.0138\n",
            "Epoch 11/60\n",
            "17/17 [==============================] - 0s 12ms/step - loss: 0.0098 - val_loss: 0.0135\n",
            "Epoch 12/60\n",
            "17/17 [==============================] - 0s 13ms/step - loss: 0.0093 - val_loss: 0.0134\n",
            "Epoch 13/60\n",
            "17/17 [==============================] - 0s 13ms/step - loss: 0.0097 - val_loss: 0.0152\n",
            "Epoch 14/60\n",
            "17/17 [==============================] - 0s 13ms/step - loss: 0.0101 - val_loss: 0.0133\n",
            "Epoch 15/60\n",
            "17/17 [==============================] - 0s 12ms/step - loss: 0.0098 - val_loss: 0.0148\n",
            "Epoch 16/60\n",
            "17/17 [==============================] - 0s 13ms/step - loss: 0.0092 - val_loss: 0.0131\n",
            "Epoch 17/60\n",
            "17/17 [==============================] - 0s 12ms/step - loss: 0.0087 - val_loss: 0.0132\n",
            "Epoch 18/60\n",
            "17/17 [==============================] - 0s 12ms/step - loss: 0.0089 - val_loss: 0.0133\n",
            "Epoch 19/60\n",
            "17/17 [==============================] - 0s 13ms/step - loss: 0.0089 - val_loss: 0.0147\n",
            "Epoch 20/60\n",
            "17/17 [==============================] - 0s 13ms/step - loss: 0.0090 - val_loss: 0.0135\n",
            "Epoch 21/60\n",
            "17/17 [==============================] - 0s 13ms/step - loss: 0.0090 - val_loss: 0.0133\n",
            "Epoch 22/60\n",
            "17/17 [==============================] - 0s 12ms/step - loss: 0.0088 - val_loss: 0.0133\n",
            "Epoch 23/60\n",
            "17/17 [==============================] - 0s 13ms/step - loss: 0.0083 - val_loss: 0.0132\n",
            "Epoch 24/60\n",
            "17/17 [==============================] - 0s 13ms/step - loss: 0.0090 - val_loss: 0.0151\n",
            "Epoch 25/60\n",
            "17/17 [==============================] - 0s 12ms/step - loss: 0.0087 - val_loss: 0.0132\n",
            "Epoch 26/60\n",
            "17/17 [==============================] - 0s 12ms/step - loss: 0.0084 - val_loss: 0.0132\n",
            "Epoch 27/60\n",
            "17/17 [==============================] - 0s 13ms/step - loss: 0.0084 - val_loss: 0.0132\n",
            "Epoch 28/60\n",
            "17/17 [==============================] - 0s 13ms/step - loss: 0.0089 - val_loss: 0.0134\n",
            "Epoch 29/60\n",
            "17/17 [==============================] - 0s 12ms/step - loss: 0.0087 - val_loss: 0.0132\n",
            "Epoch 30/60\n",
            "17/17 [==============================] - 0s 13ms/step - loss: 0.0085 - val_loss: 0.0135\n",
            "Epoch 31/60\n",
            "17/17 [==============================] - 0s 12ms/step - loss: 0.0089 - val_loss: 0.0132\n",
            "Epoch 32/60\n",
            "17/17 [==============================] - 0s 13ms/step - loss: 0.0082 - val_loss: 0.0136\n",
            "Epoch 33/60\n",
            "17/17 [==============================] - 0s 14ms/step - loss: 0.0081 - val_loss: 0.0136\n",
            "Epoch 34/60\n",
            "17/17 [==============================] - 0s 13ms/step - loss: 0.0081 - val_loss: 0.0132\n",
            "Epoch 35/60\n",
            "17/17 [==============================] - 0s 13ms/step - loss: 0.0087 - val_loss: 0.0145\n",
            "Epoch 36/60\n",
            "17/17 [==============================] - 0s 12ms/step - loss: 0.0083 - val_loss: 0.0138\n",
            "Epoch 37/60\n",
            "17/17 [==============================] - 0s 13ms/step - loss: 0.0086 - val_loss: 0.0134\n",
            "Epoch 38/60\n",
            "17/17 [==============================] - 0s 13ms/step - loss: 0.0080 - val_loss: 0.0133\n",
            "Epoch 39/60\n",
            "17/17 [==============================] - 0s 12ms/step - loss: 0.0086 - val_loss: 0.0140\n",
            "Epoch 40/60\n",
            "17/17 [==============================] - 0s 13ms/step - loss: 0.0082 - val_loss: 0.0134\n",
            "Epoch 41/60\n",
            "17/17 [==============================] - 0s 12ms/step - loss: 0.0081 - val_loss: 0.0137\n",
            "Epoch 42/60\n",
            "17/17 [==============================] - 0s 13ms/step - loss: 0.0082 - val_loss: 0.0136\n",
            "Epoch 43/60\n",
            "17/17 [==============================] - 0s 13ms/step - loss: 0.0084 - val_loss: 0.0132\n",
            "Epoch 44/60\n",
            "17/17 [==============================] - 0s 14ms/step - loss: 0.0083 - val_loss: 0.0132\n",
            "Epoch 45/60\n",
            "17/17 [==============================] - 0s 12ms/step - loss: 0.0080 - val_loss: 0.0137\n",
            "Epoch 46/60\n",
            "17/17 [==============================] - 0s 13ms/step - loss: 0.0082 - val_loss: 0.0134\n",
            "Epoch 47/60\n",
            "17/17 [==============================] - 0s 13ms/step - loss: 0.0089 - val_loss: 0.0132\n",
            "Epoch 48/60\n",
            "17/17 [==============================] - 0s 13ms/step - loss: 0.0082 - val_loss: 0.0141\n",
            "Epoch 49/60\n",
            "17/17 [==============================] - 0s 13ms/step - loss: 0.0085 - val_loss: 0.0132\n",
            "Epoch 50/60\n",
            "17/17 [==============================] - 0s 12ms/step - loss: 0.0084 - val_loss: 0.0132\n",
            "Epoch 51/60\n",
            "17/17 [==============================] - 0s 17ms/step - loss: 0.0082 - val_loss: 0.0135\n",
            "Epoch 52/60\n",
            "17/17 [==============================] - 0s 27ms/step - loss: 0.0082 - val_loss: 0.0132\n",
            "Epoch 53/60\n",
            "17/17 [==============================] - 0s 16ms/step - loss: 0.0083 - val_loss: 0.0139\n",
            "Epoch 54/60\n",
            "17/17 [==============================] - 0s 13ms/step - loss: 0.0079 - val_loss: 0.0144\n",
            "Epoch 55/60\n",
            "17/17 [==============================] - 0s 24ms/step - loss: 0.0079 - val_loss: 0.0133\n",
            "Epoch 56/60\n",
            "17/17 [==============================] - 0s 24ms/step - loss: 0.0082 - val_loss: 0.0133\n",
            "Epoch 57/60\n",
            "17/17 [==============================] - 0s 12ms/step - loss: 0.0077 - val_loss: 0.0133\n",
            "Epoch 58/60\n",
            "17/17 [==============================] - 0s 13ms/step - loss: 0.0077 - val_loss: 0.0134\n",
            "Epoch 59/60\n",
            "17/17 [==============================] - 0s 13ms/step - loss: 0.0079 - val_loss: 0.0133\n",
            "Epoch 60/60\n",
            "17/17 [==============================] - 0s 14ms/step - loss: 0.0076 - val_loss: 0.0133\n"
          ]
        },
        {
          "output_type": "execute_result",
          "data": {
            "text/plain": [
              "<keras.callbacks.History at 0x7f6cbef14ed0>"
            ]
          },
          "metadata": {},
          "execution_count": 47
        }
      ],
      "source": [
        "#training the model\n",
        "model.fit(X_train,y_train,validation_data=(X_test,y_test),epochs=60,batch_size=64,verbose=1)"
      ]
    },
    {
      "cell_type": "markdown",
      "source": [
        "<h3> Conclusion </h3>\n",
        "\n",
        " - Imp point to be noted here is that, mean squarred error at each epoch is not for predicted price of stock , but for return values."
      ],
      "metadata": {
        "id": "HJXOewc3icOm"
      }
    },
    {
      "cell_type": "code",
      "execution_count": 48,
      "metadata": {
        "id": "RDkkL8yax7am"
      },
      "outputs": [],
      "source": [
        "### Lets Do the prediction and check performance metrics\n",
        "train_predict=model.predict(X_train)\n",
        "test_predict=model.predict(X_test)"
      ]
    },
    {
      "cell_type": "code",
      "source": [
        "train_predict.shape, test_predict.shape"
      ],
      "metadata": {
        "colab": {
          "base_uri": "https://localhost:8080/"
        },
        "id": "nZp0i2_Ts3aq",
        "outputId": "8ed872bc-e9f0-4652-8167-ee6aaccc76c0"
      },
      "execution_count": 49,
      "outputs": [
        {
          "output_type": "execute_result",
          "data": {
            "text/plain": [
              "((1070, 1), (64, 1))"
            ]
          },
          "metadata": {},
          "execution_count": 49
        }
      ]
    },
    {
      "cell_type": "markdown",
      "source": [
        "<h3> Creating single row data<h3>\n",
        "\n",
        "- During the training of our model we used 63 days of stok info, but to analyse the performence of our model, we will only take last day stock info and ignore the remaining 62 days info."
      ],
      "metadata": {
        "id": "4eDgbfKbkA6G"
      }
    },
    {
      "cell_type": "code",
      "source": [
        "X_train.shape"
      ],
      "metadata": {
        "colab": {
          "base_uri": "https://localhost:8080/"
        },
        "id": "5UKOU_n2kIH8",
        "outputId": "260e98da-0b8d-4ebe-b2a5-46c73e62561a"
      },
      "execution_count": 50,
      "outputs": [
        {
          "output_type": "execute_result",
          "data": {
            "text/plain": [
              "(1070, 63, 5)"
            ]
          },
          "metadata": {},
          "execution_count": 50
        }
      ]
    },
    {
      "cell_type": "code",
      "source": [
        "x_train = []\n",
        "for timestep in X_train :\n",
        "  x_train.append(timestep[time_step-1])"
      ],
      "metadata": {
        "id": "1N4q51wfTafa"
      },
      "execution_count": 51,
      "outputs": []
    },
    {
      "cell_type": "code",
      "source": [
        "x_train[0]"
      ],
      "metadata": {
        "colab": {
          "base_uri": "https://localhost:8080/"
        },
        "id": "Q0-8ue-IkdDM",
        "outputId": "bd64f749-6526-43f0-e062-28ddb8520b8f"
      },
      "execution_count": 52,
      "outputs": [
        {
          "output_type": "execute_result",
          "data": {
            "text/plain": [
              "array([0.08082582, 0.07849434, 0.11601967, 0.10197494, 0.24139253])"
            ]
          },
          "metadata": {},
          "execution_count": 52
        }
      ]
    },
    {
      "cell_type": "code",
      "source": [
        "y_tr[0]"
      ],
      "metadata": {
        "colab": {
          "base_uri": "https://localhost:8080/"
        },
        "id": "q-Anjeqytmd3",
        "outputId": "b40333ef-c7b0-439a-8691-2c6ae1ae492e"
      },
      "execution_count": 53,
      "outputs": [
        {
          "output_type": "execute_result",
          "data": {
            "text/plain": [
              "array([0.54796121])"
            ]
          },
          "metadata": {},
          "execution_count": 53
        }
      ]
    },
    {
      "cell_type": "code",
      "source": [
        "x_test = []\n",
        "for timestep in X_test :\n",
        "  x_test.append(timestep[time_step-1])"
      ],
      "metadata": {
        "id": "3JMOkY34lNiV"
      },
      "execution_count": 54,
      "outputs": []
    },
    {
      "cell_type": "markdown",
      "source": [
        "<h3> Scaling up the data </h3> \n",
        "\n",
        "- During the min max scaling process, we scale down every values in between 0-1, and now we will upscale the values in their original values"
      ],
      "metadata": {
        "id": "s-OudFzukg50"
      }
    },
    {
      "cell_type": "code",
      "source": [
        "x_train = scaler_x.inverse_transform(x_train)"
      ],
      "metadata": {
        "id": "rqBCir7eKslC"
      },
      "execution_count": 56,
      "outputs": []
    },
    {
      "cell_type": "code",
      "source": [
        "y_train = scaler_y.inverse_transform(y_train)"
      ],
      "metadata": {
        "id": "vXd0OulnuKuq"
      },
      "execution_count": 57,
      "outputs": []
    },
    {
      "cell_type": "code",
      "source": [
        "x_train[0], y_train[0]"
      ],
      "metadata": {
        "colab": {
          "base_uri": "https://localhost:8080/"
        },
        "id": "6kiFuYKkYV-4",
        "outputId": "763fb72f-37ae-4f06-bb9d-ea562a9744a7"
      },
      "execution_count": 58,
      "outputs": [
        {
          "output_type": "execute_result",
          "data": {
            "text/plain": [
              "(array([2.49388989e+03, 2.49837012e+03, 2.49213989e+03, 2.49837012e+03,\n",
              "        3.36805000e+09]), array([0.00026872]))"
            ]
          },
          "metadata": {},
          "execution_count": 58
        }
      ]
    },
    {
      "cell_type": "code",
      "source": [
        "train_predict=scaler_y.inverse_transform(train_predict)"
      ],
      "metadata": {
        "id": "NV3cwLLeuipn"
      },
      "execution_count": 59,
      "outputs": []
    },
    {
      "cell_type": "code",
      "source": [
        "train_predict[0]"
      ],
      "metadata": {
        "colab": {
          "base_uri": "https://localhost:8080/"
        },
        "id": "ReQKiM0qu19b",
        "outputId": "c4c9af3f-5450-4b97-9d63-0bf94dc2aa50"
      },
      "execution_count": 60,
      "outputs": [
        {
          "output_type": "execute_result",
          "data": {
            "text/plain": [
              "array([-0.00092478], dtype=float32)"
            ]
          },
          "metadata": {},
          "execution_count": 60
        }
      ]
    },
    {
      "cell_type": "code",
      "source": [
        "x_test = scaler_x.inverse_transform(x_test)"
      ],
      "metadata": {
        "id": "kzt-kELuNtEv"
      },
      "execution_count": 61,
      "outputs": []
    },
    {
      "cell_type": "code",
      "source": [
        "y_test = y_test.reshape(-1,1)"
      ],
      "metadata": {
        "id": "Z9MR5xshPXKr"
      },
      "execution_count": 62,
      "outputs": []
    },
    {
      "cell_type": "code",
      "source": [
        "y_test = scaler_y.inverse_transform(y_test)"
      ],
      "metadata": {
        "id": "XxDM6dyeO30j"
      },
      "execution_count": 63,
      "outputs": []
    },
    {
      "cell_type": "code",
      "source": [
        "test_predict=scaler_y.inverse_transform(test_predict)"
      ],
      "metadata": {
        "id": "J3Ta7DYKwXC-"
      },
      "execution_count": 64,
      "outputs": []
    },
    {
      "cell_type": "markdown",
      "source": [
        "<h1>4.Creating Dataframe for train and test data to better analyse and visualise the data.</h1>"
      ],
      "metadata": {
        "id": "v9mEx6ejl9IP"
      }
    },
    {
      "cell_type": "code",
      "source": [
        "#concatinating dependent and independent features in training data\n",
        "X_train = np.concatenate((x_train,y_train,train_predict), axis = 1)"
      ],
      "metadata": {
        "id": "YHCgoKNwP-io"
      },
      "execution_count": 65,
      "outputs": []
    },
    {
      "cell_type": "code",
      "source": [
        "#concatinating dependent and independent features in test data\n",
        "X_test = np.concatenate((x_test,y_test,test_predict), axis = 1)"
      ],
      "metadata": {
        "id": "CdqDS-AQRY8a"
      },
      "execution_count": 66,
      "outputs": []
    },
    {
      "cell_type": "code",
      "source": [
        "#Creating pandas dataframe for training data\n",
        "X_train = pd.DataFrame(X_train, columns = ['Open','High','Low','Close','Volume','returns','pred_return'])"
      ],
      "metadata": {
        "id": "wZitm3APSRgu"
      },
      "execution_count": 67,
      "outputs": []
    },
    {
      "cell_type": "code",
      "source": [
        "#Creating pandas dataframe for test data\n",
        "X_test = pd.DataFrame(X_test, columns = ['Open','High','Low','Close','Volume','returns','pred_return'])"
      ],
      "metadata": {
        "id": "BfhMzMJwS9jP"
      },
      "execution_count": 68,
      "outputs": []
    },
    {
      "cell_type": "code",
      "source": [
        "X_train.head()"
      ],
      "metadata": {
        "colab": {
          "base_uri": "https://localhost:8080/",
          "height": 206
        },
        "id": "kRNkD1t5xOWo",
        "outputId": "241c553c-6019-4c2a-8962-8fb346b10fcc"
      },
      "execution_count": 69,
      "outputs": [
        {
          "output_type": "execute_result",
          "data": {
            "text/plain": [
              "          Open         High          Low        Close        Volume   returns  \\\n",
              "0  2493.889893  2498.370117  2492.139893  2498.370117  3.368050e+09  0.000269   \n",
              "1  2494.560059  2498.429932  2491.350098  2495.620117  3.414460e+09  0.000445   \n",
              "2  2495.669922  2500.229980  2493.159912  2500.229980  4.853170e+09  0.002741   \n",
              "3  2502.510010  2508.320068  2499.919922  2503.870117  3.194300e+09  0.001510   \n",
              "4  2506.290039  2507.840088  2503.189941  2506.649902  3.249100e+09  0.000219   \n",
              "\n",
              "   pred_return  \n",
              "0    -0.000925  \n",
              "1    -0.000948  \n",
              "2    -0.000992  \n",
              "3    -0.001021  \n",
              "4    -0.001025  "
            ],
            "text/html": [
              "\n",
              "  <div id=\"df-afe8d4db-aed3-43a7-a84a-5a33776509e3\">\n",
              "    <div class=\"colab-df-container\">\n",
              "      <div>\n",
              "<style scoped>\n",
              "    .dataframe tbody tr th:only-of-type {\n",
              "        vertical-align: middle;\n",
              "    }\n",
              "\n",
              "    .dataframe tbody tr th {\n",
              "        vertical-align: top;\n",
              "    }\n",
              "\n",
              "    .dataframe thead th {\n",
              "        text-align: right;\n",
              "    }\n",
              "</style>\n",
              "<table border=\"1\" class=\"dataframe\">\n",
              "  <thead>\n",
              "    <tr style=\"text-align: right;\">\n",
              "      <th></th>\n",
              "      <th>Open</th>\n",
              "      <th>High</th>\n",
              "      <th>Low</th>\n",
              "      <th>Close</th>\n",
              "      <th>Volume</th>\n",
              "      <th>returns</th>\n",
              "      <th>pred_return</th>\n",
              "    </tr>\n",
              "  </thead>\n",
              "  <tbody>\n",
              "    <tr>\n",
              "      <th>0</th>\n",
              "      <td>2493.889893</td>\n",
              "      <td>2498.370117</td>\n",
              "      <td>2492.139893</td>\n",
              "      <td>2498.370117</td>\n",
              "      <td>3.368050e+09</td>\n",
              "      <td>0.000269</td>\n",
              "      <td>-0.000925</td>\n",
              "    </tr>\n",
              "    <tr>\n",
              "      <th>1</th>\n",
              "      <td>2494.560059</td>\n",
              "      <td>2498.429932</td>\n",
              "      <td>2491.350098</td>\n",
              "      <td>2495.620117</td>\n",
              "      <td>3.414460e+09</td>\n",
              "      <td>0.000445</td>\n",
              "      <td>-0.000948</td>\n",
              "    </tr>\n",
              "    <tr>\n",
              "      <th>2</th>\n",
              "      <td>2495.669922</td>\n",
              "      <td>2500.229980</td>\n",
              "      <td>2493.159912</td>\n",
              "      <td>2500.229980</td>\n",
              "      <td>4.853170e+09</td>\n",
              "      <td>0.002741</td>\n",
              "      <td>-0.000992</td>\n",
              "    </tr>\n",
              "    <tr>\n",
              "      <th>3</th>\n",
              "      <td>2502.510010</td>\n",
              "      <td>2508.320068</td>\n",
              "      <td>2499.919922</td>\n",
              "      <td>2503.870117</td>\n",
              "      <td>3.194300e+09</td>\n",
              "      <td>0.001510</td>\n",
              "      <td>-0.001021</td>\n",
              "    </tr>\n",
              "    <tr>\n",
              "      <th>4</th>\n",
              "      <td>2506.290039</td>\n",
              "      <td>2507.840088</td>\n",
              "      <td>2503.189941</td>\n",
              "      <td>2506.649902</td>\n",
              "      <td>3.249100e+09</td>\n",
              "      <td>0.000219</td>\n",
              "      <td>-0.001025</td>\n",
              "    </tr>\n",
              "  </tbody>\n",
              "</table>\n",
              "</div>\n",
              "      <button class=\"colab-df-convert\" onclick=\"convertToInteractive('df-afe8d4db-aed3-43a7-a84a-5a33776509e3')\"\n",
              "              title=\"Convert this dataframe to an interactive table.\"\n",
              "              style=\"display:none;\">\n",
              "        \n",
              "  <svg xmlns=\"http://www.w3.org/2000/svg\" height=\"24px\"viewBox=\"0 0 24 24\"\n",
              "       width=\"24px\">\n",
              "    <path d=\"M0 0h24v24H0V0z\" fill=\"none\"/>\n",
              "    <path d=\"M18.56 5.44l.94 2.06.94-2.06 2.06-.94-2.06-.94-.94-2.06-.94 2.06-2.06.94zm-11 1L8.5 8.5l.94-2.06 2.06-.94-2.06-.94L8.5 2.5l-.94 2.06-2.06.94zm10 10l.94 2.06.94-2.06 2.06-.94-2.06-.94-.94-2.06-.94 2.06-2.06.94z\"/><path d=\"M17.41 7.96l-1.37-1.37c-.4-.4-.92-.59-1.43-.59-.52 0-1.04.2-1.43.59L10.3 9.45l-7.72 7.72c-.78.78-.78 2.05 0 2.83L4 21.41c.39.39.9.59 1.41.59.51 0 1.02-.2 1.41-.59l7.78-7.78 2.81-2.81c.8-.78.8-2.07 0-2.86zM5.41 20L4 18.59l7.72-7.72 1.47 1.35L5.41 20z\"/>\n",
              "  </svg>\n",
              "      </button>\n",
              "      \n",
              "  <style>\n",
              "    .colab-df-container {\n",
              "      display:flex;\n",
              "      flex-wrap:wrap;\n",
              "      gap: 12px;\n",
              "    }\n",
              "\n",
              "    .colab-df-convert {\n",
              "      background-color: #E8F0FE;\n",
              "      border: none;\n",
              "      border-radius: 50%;\n",
              "      cursor: pointer;\n",
              "      display: none;\n",
              "      fill: #1967D2;\n",
              "      height: 32px;\n",
              "      padding: 0 0 0 0;\n",
              "      width: 32px;\n",
              "    }\n",
              "\n",
              "    .colab-df-convert:hover {\n",
              "      background-color: #E2EBFA;\n",
              "      box-shadow: 0px 1px 2px rgba(60, 64, 67, 0.3), 0px 1px 3px 1px rgba(60, 64, 67, 0.15);\n",
              "      fill: #174EA6;\n",
              "    }\n",
              "\n",
              "    [theme=dark] .colab-df-convert {\n",
              "      background-color: #3B4455;\n",
              "      fill: #D2E3FC;\n",
              "    }\n",
              "\n",
              "    [theme=dark] .colab-df-convert:hover {\n",
              "      background-color: #434B5C;\n",
              "      box-shadow: 0px 1px 3px 1px rgba(0, 0, 0, 0.15);\n",
              "      filter: drop-shadow(0px 1px 2px rgba(0, 0, 0, 0.3));\n",
              "      fill: #FFFFFF;\n",
              "    }\n",
              "  </style>\n",
              "\n",
              "      <script>\n",
              "        const buttonEl =\n",
              "          document.querySelector('#df-afe8d4db-aed3-43a7-a84a-5a33776509e3 button.colab-df-convert');\n",
              "        buttonEl.style.display =\n",
              "          google.colab.kernel.accessAllowed ? 'block' : 'none';\n",
              "\n",
              "        async function convertToInteractive(key) {\n",
              "          const element = document.querySelector('#df-afe8d4db-aed3-43a7-a84a-5a33776509e3');\n",
              "          const dataTable =\n",
              "            await google.colab.kernel.invokeFunction('convertToInteractive',\n",
              "                                                     [key], {});\n",
              "          if (!dataTable) return;\n",
              "\n",
              "          const docLinkHtml = 'Like what you see? Visit the ' +\n",
              "            '<a target=\"_blank\" href=https://colab.research.google.com/notebooks/data_table.ipynb>data table notebook</a>'\n",
              "            + ' to learn more about interactive tables.';\n",
              "          element.innerHTML = '';\n",
              "          dataTable['output_type'] = 'display_data';\n",
              "          await google.colab.output.renderOutput(dataTable, element);\n",
              "          const docLink = document.createElement('div');\n",
              "          docLink.innerHTML = docLinkHtml;\n",
              "          element.appendChild(docLink);\n",
              "        }\n",
              "      </script>\n",
              "    </div>\n",
              "  </div>\n",
              "  "
            ]
          },
          "metadata": {},
          "execution_count": 69
        }
      ]
    },
    {
      "cell_type": "markdown",
      "source": [
        "<h3> Calculating original future stock price from return values </h3>\n",
        "\n",
        "- Return = (Price tomorrow  / Price today) -  1 \n",
        "- =>  Return + 1 = Price tomorrow  / Price today\n",
        "- =>  Price tomorrow = Price today * (Return + 1)"
      ],
      "metadata": {
        "id": "peCcQ2WCmeUP"
      }
    },
    {
      "cell_type": "code",
      "source": [
        "X_train['pred_output'] = X_train['Open'] * (1+X_train['pred_return'])\n"
      ],
      "metadata": {
        "id": "dMa5WlQ8xUzM"
      },
      "execution_count": 70,
      "outputs": []
    },
    {
      "cell_type": "code",
      "source": [
        "#this future stock price column will be used to test our prediction\n",
        "X_train['future_output'] = X_train['Open'].shift(-1)"
      ],
      "metadata": {
        "id": "M_mND5JE_jK4"
      },
      "execution_count": 71,
      "outputs": []
    },
    {
      "cell_type": "code",
      "source": [
        "X_train.head()"
      ],
      "metadata": {
        "colab": {
          "base_uri": "https://localhost:8080/",
          "height": 206
        },
        "id": "GETCtTdQxbSM",
        "outputId": "340cf6cb-bac0-4907-d3dd-b664a1993093"
      },
      "execution_count": 72,
      "outputs": [
        {
          "output_type": "execute_result",
          "data": {
            "text/plain": [
              "          Open         High          Low        Close        Volume   returns  \\\n",
              "0  2493.889893  2498.370117  2492.139893  2498.370117  3.368050e+09  0.000269   \n",
              "1  2494.560059  2498.429932  2491.350098  2495.620117  3.414460e+09  0.000445   \n",
              "2  2495.669922  2500.229980  2493.159912  2500.229980  4.853170e+09  0.002741   \n",
              "3  2502.510010  2508.320068  2499.919922  2503.870117  3.194300e+09  0.001510   \n",
              "4  2506.290039  2507.840088  2503.189941  2506.649902  3.249100e+09  0.000219   \n",
              "\n",
              "   pred_return  pred_output  future_output  \n",
              "0    -0.000925  2491.583593    2494.560059  \n",
              "1    -0.000948  2492.195041    2495.669922  \n",
              "2    -0.000992  2493.194022    2502.510010  \n",
              "3    -0.001021  2499.953864    2506.290039  \n",
              "4    -0.001025  2503.722021    2506.840088  "
            ],
            "text/html": [
              "\n",
              "  <div id=\"df-07a70739-31f7-4508-af51-2eb332f8783a\">\n",
              "    <div class=\"colab-df-container\">\n",
              "      <div>\n",
              "<style scoped>\n",
              "    .dataframe tbody tr th:only-of-type {\n",
              "        vertical-align: middle;\n",
              "    }\n",
              "\n",
              "    .dataframe tbody tr th {\n",
              "        vertical-align: top;\n",
              "    }\n",
              "\n",
              "    .dataframe thead th {\n",
              "        text-align: right;\n",
              "    }\n",
              "</style>\n",
              "<table border=\"1\" class=\"dataframe\">\n",
              "  <thead>\n",
              "    <tr style=\"text-align: right;\">\n",
              "      <th></th>\n",
              "      <th>Open</th>\n",
              "      <th>High</th>\n",
              "      <th>Low</th>\n",
              "      <th>Close</th>\n",
              "      <th>Volume</th>\n",
              "      <th>returns</th>\n",
              "      <th>pred_return</th>\n",
              "      <th>pred_output</th>\n",
              "      <th>future_output</th>\n",
              "    </tr>\n",
              "  </thead>\n",
              "  <tbody>\n",
              "    <tr>\n",
              "      <th>0</th>\n",
              "      <td>2493.889893</td>\n",
              "      <td>2498.370117</td>\n",
              "      <td>2492.139893</td>\n",
              "      <td>2498.370117</td>\n",
              "      <td>3.368050e+09</td>\n",
              "      <td>0.000269</td>\n",
              "      <td>-0.000925</td>\n",
              "      <td>2491.583593</td>\n",
              "      <td>2494.560059</td>\n",
              "    </tr>\n",
              "    <tr>\n",
              "      <th>1</th>\n",
              "      <td>2494.560059</td>\n",
              "      <td>2498.429932</td>\n",
              "      <td>2491.350098</td>\n",
              "      <td>2495.620117</td>\n",
              "      <td>3.414460e+09</td>\n",
              "      <td>0.000445</td>\n",
              "      <td>-0.000948</td>\n",
              "      <td>2492.195041</td>\n",
              "      <td>2495.669922</td>\n",
              "    </tr>\n",
              "    <tr>\n",
              "      <th>2</th>\n",
              "      <td>2495.669922</td>\n",
              "      <td>2500.229980</td>\n",
              "      <td>2493.159912</td>\n",
              "      <td>2500.229980</td>\n",
              "      <td>4.853170e+09</td>\n",
              "      <td>0.002741</td>\n",
              "      <td>-0.000992</td>\n",
              "      <td>2493.194022</td>\n",
              "      <td>2502.510010</td>\n",
              "    </tr>\n",
              "    <tr>\n",
              "      <th>3</th>\n",
              "      <td>2502.510010</td>\n",
              "      <td>2508.320068</td>\n",
              "      <td>2499.919922</td>\n",
              "      <td>2503.870117</td>\n",
              "      <td>3.194300e+09</td>\n",
              "      <td>0.001510</td>\n",
              "      <td>-0.001021</td>\n",
              "      <td>2499.953864</td>\n",
              "      <td>2506.290039</td>\n",
              "    </tr>\n",
              "    <tr>\n",
              "      <th>4</th>\n",
              "      <td>2506.290039</td>\n",
              "      <td>2507.840088</td>\n",
              "      <td>2503.189941</td>\n",
              "      <td>2506.649902</td>\n",
              "      <td>3.249100e+09</td>\n",
              "      <td>0.000219</td>\n",
              "      <td>-0.001025</td>\n",
              "      <td>2503.722021</td>\n",
              "      <td>2506.840088</td>\n",
              "    </tr>\n",
              "  </tbody>\n",
              "</table>\n",
              "</div>\n",
              "      <button class=\"colab-df-convert\" onclick=\"convertToInteractive('df-07a70739-31f7-4508-af51-2eb332f8783a')\"\n",
              "              title=\"Convert this dataframe to an interactive table.\"\n",
              "              style=\"display:none;\">\n",
              "        \n",
              "  <svg xmlns=\"http://www.w3.org/2000/svg\" height=\"24px\"viewBox=\"0 0 24 24\"\n",
              "       width=\"24px\">\n",
              "    <path d=\"M0 0h24v24H0V0z\" fill=\"none\"/>\n",
              "    <path d=\"M18.56 5.44l.94 2.06.94-2.06 2.06-.94-2.06-.94-.94-2.06-.94 2.06-2.06.94zm-11 1L8.5 8.5l.94-2.06 2.06-.94-2.06-.94L8.5 2.5l-.94 2.06-2.06.94zm10 10l.94 2.06.94-2.06 2.06-.94-2.06-.94-.94-2.06-.94 2.06-2.06.94z\"/><path d=\"M17.41 7.96l-1.37-1.37c-.4-.4-.92-.59-1.43-.59-.52 0-1.04.2-1.43.59L10.3 9.45l-7.72 7.72c-.78.78-.78 2.05 0 2.83L4 21.41c.39.39.9.59 1.41.59.51 0 1.02-.2 1.41-.59l7.78-7.78 2.81-2.81c.8-.78.8-2.07 0-2.86zM5.41 20L4 18.59l7.72-7.72 1.47 1.35L5.41 20z\"/>\n",
              "  </svg>\n",
              "      </button>\n",
              "      \n",
              "  <style>\n",
              "    .colab-df-container {\n",
              "      display:flex;\n",
              "      flex-wrap:wrap;\n",
              "      gap: 12px;\n",
              "    }\n",
              "\n",
              "    .colab-df-convert {\n",
              "      background-color: #E8F0FE;\n",
              "      border: none;\n",
              "      border-radius: 50%;\n",
              "      cursor: pointer;\n",
              "      display: none;\n",
              "      fill: #1967D2;\n",
              "      height: 32px;\n",
              "      padding: 0 0 0 0;\n",
              "      width: 32px;\n",
              "    }\n",
              "\n",
              "    .colab-df-convert:hover {\n",
              "      background-color: #E2EBFA;\n",
              "      box-shadow: 0px 1px 2px rgba(60, 64, 67, 0.3), 0px 1px 3px 1px rgba(60, 64, 67, 0.15);\n",
              "      fill: #174EA6;\n",
              "    }\n",
              "\n",
              "    [theme=dark] .colab-df-convert {\n",
              "      background-color: #3B4455;\n",
              "      fill: #D2E3FC;\n",
              "    }\n",
              "\n",
              "    [theme=dark] .colab-df-convert:hover {\n",
              "      background-color: #434B5C;\n",
              "      box-shadow: 0px 1px 3px 1px rgba(0, 0, 0, 0.15);\n",
              "      filter: drop-shadow(0px 1px 2px rgba(0, 0, 0, 0.3));\n",
              "      fill: #FFFFFF;\n",
              "    }\n",
              "  </style>\n",
              "\n",
              "      <script>\n",
              "        const buttonEl =\n",
              "          document.querySelector('#df-07a70739-31f7-4508-af51-2eb332f8783a button.colab-df-convert');\n",
              "        buttonEl.style.display =\n",
              "          google.colab.kernel.accessAllowed ? 'block' : 'none';\n",
              "\n",
              "        async function convertToInteractive(key) {\n",
              "          const element = document.querySelector('#df-07a70739-31f7-4508-af51-2eb332f8783a');\n",
              "          const dataTable =\n",
              "            await google.colab.kernel.invokeFunction('convertToInteractive',\n",
              "                                                     [key], {});\n",
              "          if (!dataTable) return;\n",
              "\n",
              "          const docLinkHtml = 'Like what you see? Visit the ' +\n",
              "            '<a target=\"_blank\" href=https://colab.research.google.com/notebooks/data_table.ipynb>data table notebook</a>'\n",
              "            + ' to learn more about interactive tables.';\n",
              "          element.innerHTML = '';\n",
              "          dataTable['output_type'] = 'display_data';\n",
              "          await google.colab.output.renderOutput(dataTable, element);\n",
              "          const docLink = document.createElement('div');\n",
              "          docLink.innerHTML = docLinkHtml;\n",
              "          element.appendChild(docLink);\n",
              "        }\n",
              "      </script>\n",
              "    </div>\n",
              "  </div>\n",
              "  "
            ]
          },
          "metadata": {},
          "execution_count": 72
        }
      ]
    },
    {
      "cell_type": "code",
      "source": [
        "X_train.tail()"
      ],
      "metadata": {
        "colab": {
          "base_uri": "https://localhost:8080/",
          "height": 206
        },
        "id": "BX18lnJG07Qd",
        "outputId": "cc3cffbd-9f50-4dd1-9fea-ee54bc437e54"
      },
      "execution_count": 73,
      "outputs": [
        {
          "output_type": "execute_result",
          "data": {
            "text/plain": [
              "             Open         High          Low        Close        Volume  \\\n",
              "1065  4548.370117  4612.600098  4540.509766  4591.669922  3.305690e+09   \n",
              "1066  4631.970215  4694.040039  4631.970215  4686.750000  3.334320e+09   \n",
              "1067  4690.859863  4705.060059  4674.520020  4701.209961  3.061550e+09   \n",
              "1068  4691.000000  4695.259766  4665.979980  4667.450195  2.851660e+09   \n",
              "1069  4687.640137  4713.569824  4670.240234  4712.020020  2.858310e+09   \n",
              "\n",
              "       returns  pred_return  pred_output  future_output  \n",
              "1065  0.018380    -0.000227  4547.338382    4631.970215  \n",
              "1066  0.012714    -0.000259  4630.768307    4690.859863  \n",
              "1067  0.000030    -0.000260  4689.639375    4691.000000  \n",
              "1068 -0.000716    -0.000229  4689.924290    4687.640137  \n",
              "1069  0.004834    -0.000174  4686.825237            NaN  "
            ],
            "text/html": [
              "\n",
              "  <div id=\"df-ca701b79-50c1-4a3d-8187-04c041e8744c\">\n",
              "    <div class=\"colab-df-container\">\n",
              "      <div>\n",
              "<style scoped>\n",
              "    .dataframe tbody tr th:only-of-type {\n",
              "        vertical-align: middle;\n",
              "    }\n",
              "\n",
              "    .dataframe tbody tr th {\n",
              "        vertical-align: top;\n",
              "    }\n",
              "\n",
              "    .dataframe thead th {\n",
              "        text-align: right;\n",
              "    }\n",
              "</style>\n",
              "<table border=\"1\" class=\"dataframe\">\n",
              "  <thead>\n",
              "    <tr style=\"text-align: right;\">\n",
              "      <th></th>\n",
              "      <th>Open</th>\n",
              "      <th>High</th>\n",
              "      <th>Low</th>\n",
              "      <th>Close</th>\n",
              "      <th>Volume</th>\n",
              "      <th>returns</th>\n",
              "      <th>pred_return</th>\n",
              "      <th>pred_output</th>\n",
              "      <th>future_output</th>\n",
              "    </tr>\n",
              "  </thead>\n",
              "  <tbody>\n",
              "    <tr>\n",
              "      <th>1065</th>\n",
              "      <td>4548.370117</td>\n",
              "      <td>4612.600098</td>\n",
              "      <td>4540.509766</td>\n",
              "      <td>4591.669922</td>\n",
              "      <td>3.305690e+09</td>\n",
              "      <td>0.018380</td>\n",
              "      <td>-0.000227</td>\n",
              "      <td>4547.338382</td>\n",
              "      <td>4631.970215</td>\n",
              "    </tr>\n",
              "    <tr>\n",
              "      <th>1066</th>\n",
              "      <td>4631.970215</td>\n",
              "      <td>4694.040039</td>\n",
              "      <td>4631.970215</td>\n",
              "      <td>4686.750000</td>\n",
              "      <td>3.334320e+09</td>\n",
              "      <td>0.012714</td>\n",
              "      <td>-0.000259</td>\n",
              "      <td>4630.768307</td>\n",
              "      <td>4690.859863</td>\n",
              "    </tr>\n",
              "    <tr>\n",
              "      <th>1067</th>\n",
              "      <td>4690.859863</td>\n",
              "      <td>4705.060059</td>\n",
              "      <td>4674.520020</td>\n",
              "      <td>4701.209961</td>\n",
              "      <td>3.061550e+09</td>\n",
              "      <td>0.000030</td>\n",
              "      <td>-0.000260</td>\n",
              "      <td>4689.639375</td>\n",
              "      <td>4691.000000</td>\n",
              "    </tr>\n",
              "    <tr>\n",
              "      <th>1068</th>\n",
              "      <td>4691.000000</td>\n",
              "      <td>4695.259766</td>\n",
              "      <td>4665.979980</td>\n",
              "      <td>4667.450195</td>\n",
              "      <td>2.851660e+09</td>\n",
              "      <td>-0.000716</td>\n",
              "      <td>-0.000229</td>\n",
              "      <td>4689.924290</td>\n",
              "      <td>4687.640137</td>\n",
              "    </tr>\n",
              "    <tr>\n",
              "      <th>1069</th>\n",
              "      <td>4687.640137</td>\n",
              "      <td>4713.569824</td>\n",
              "      <td>4670.240234</td>\n",
              "      <td>4712.020020</td>\n",
              "      <td>2.858310e+09</td>\n",
              "      <td>0.004834</td>\n",
              "      <td>-0.000174</td>\n",
              "      <td>4686.825237</td>\n",
              "      <td>NaN</td>\n",
              "    </tr>\n",
              "  </tbody>\n",
              "</table>\n",
              "</div>\n",
              "      <button class=\"colab-df-convert\" onclick=\"convertToInteractive('df-ca701b79-50c1-4a3d-8187-04c041e8744c')\"\n",
              "              title=\"Convert this dataframe to an interactive table.\"\n",
              "              style=\"display:none;\">\n",
              "        \n",
              "  <svg xmlns=\"http://www.w3.org/2000/svg\" height=\"24px\"viewBox=\"0 0 24 24\"\n",
              "       width=\"24px\">\n",
              "    <path d=\"M0 0h24v24H0V0z\" fill=\"none\"/>\n",
              "    <path d=\"M18.56 5.44l.94 2.06.94-2.06 2.06-.94-2.06-.94-.94-2.06-.94 2.06-2.06.94zm-11 1L8.5 8.5l.94-2.06 2.06-.94-2.06-.94L8.5 2.5l-.94 2.06-2.06.94zm10 10l.94 2.06.94-2.06 2.06-.94-2.06-.94-.94-2.06-.94 2.06-2.06.94z\"/><path d=\"M17.41 7.96l-1.37-1.37c-.4-.4-.92-.59-1.43-.59-.52 0-1.04.2-1.43.59L10.3 9.45l-7.72 7.72c-.78.78-.78 2.05 0 2.83L4 21.41c.39.39.9.59 1.41.59.51 0 1.02-.2 1.41-.59l7.78-7.78 2.81-2.81c.8-.78.8-2.07 0-2.86zM5.41 20L4 18.59l7.72-7.72 1.47 1.35L5.41 20z\"/>\n",
              "  </svg>\n",
              "      </button>\n",
              "      \n",
              "  <style>\n",
              "    .colab-df-container {\n",
              "      display:flex;\n",
              "      flex-wrap:wrap;\n",
              "      gap: 12px;\n",
              "    }\n",
              "\n",
              "    .colab-df-convert {\n",
              "      background-color: #E8F0FE;\n",
              "      border: none;\n",
              "      border-radius: 50%;\n",
              "      cursor: pointer;\n",
              "      display: none;\n",
              "      fill: #1967D2;\n",
              "      height: 32px;\n",
              "      padding: 0 0 0 0;\n",
              "      width: 32px;\n",
              "    }\n",
              "\n",
              "    .colab-df-convert:hover {\n",
              "      background-color: #E2EBFA;\n",
              "      box-shadow: 0px 1px 2px rgba(60, 64, 67, 0.3), 0px 1px 3px 1px rgba(60, 64, 67, 0.15);\n",
              "      fill: #174EA6;\n",
              "    }\n",
              "\n",
              "    [theme=dark] .colab-df-convert {\n",
              "      background-color: #3B4455;\n",
              "      fill: #D2E3FC;\n",
              "    }\n",
              "\n",
              "    [theme=dark] .colab-df-convert:hover {\n",
              "      background-color: #434B5C;\n",
              "      box-shadow: 0px 1px 3px 1px rgba(0, 0, 0, 0.15);\n",
              "      filter: drop-shadow(0px 1px 2px rgba(0, 0, 0, 0.3));\n",
              "      fill: #FFFFFF;\n",
              "    }\n",
              "  </style>\n",
              "\n",
              "      <script>\n",
              "        const buttonEl =\n",
              "          document.querySelector('#df-ca701b79-50c1-4a3d-8187-04c041e8744c button.colab-df-convert');\n",
              "        buttonEl.style.display =\n",
              "          google.colab.kernel.accessAllowed ? 'block' : 'none';\n",
              "\n",
              "        async function convertToInteractive(key) {\n",
              "          const element = document.querySelector('#df-ca701b79-50c1-4a3d-8187-04c041e8744c');\n",
              "          const dataTable =\n",
              "            await google.colab.kernel.invokeFunction('convertToInteractive',\n",
              "                                                     [key], {});\n",
              "          if (!dataTable) return;\n",
              "\n",
              "          const docLinkHtml = 'Like what you see? Visit the ' +\n",
              "            '<a target=\"_blank\" href=https://colab.research.google.com/notebooks/data_table.ipynb>data table notebook</a>'\n",
              "            + ' to learn more about interactive tables.';\n",
              "          element.innerHTML = '';\n",
              "          dataTable['output_type'] = 'display_data';\n",
              "          await google.colab.output.renderOutput(dataTable, element);\n",
              "          const docLink = document.createElement('div');\n",
              "          docLink.innerHTML = docLinkHtml;\n",
              "          element.appendChild(docLink);\n",
              "        }\n",
              "      </script>\n",
              "    </div>\n",
              "  </div>\n",
              "  "
            ]
          },
          "metadata": {},
          "execution_count": 73
        }
      ]
    },
    {
      "cell_type": "markdown",
      "source": [
        "<h3> Conclusion </h3>\n",
        "\n",
        "- There is null values in future output column for last row, becaues there is no future values for last column"
      ],
      "metadata": {
        "id": "qCZL0LpqoHgW"
      }
    },
    {
      "cell_type": "code",
      "source": [
        "X_test['pred_output'] = X_test['Open'] * (1+X_test['pred_return'])\n"
      ],
      "metadata": {
        "id": "j_Gxz63LaEFV"
      },
      "execution_count": 74,
      "outputs": []
    },
    {
      "cell_type": "code",
      "source": [
        "X_test['future_output'] = X_test['Open'].shift(-1)"
      ],
      "metadata": {
        "id": "-9XwMELt_9Y9"
      },
      "execution_count": 75,
      "outputs": []
    },
    {
      "cell_type": "code",
      "source": [
        "X_test.head()"
      ],
      "metadata": {
        "colab": {
          "base_uri": "https://localhost:8080/",
          "height": 206
        },
        "id": "0FxwIIJdyONf",
        "outputId": "691dd8fe-9d06-437b-c114-b38bc62c602e"
      },
      "execution_count": 76,
      "outputs": [
        {
          "output_type": "execute_result",
          "data": {
            "text/plain": [
              "          Open         High          Low        Close        Volume   returns  \\\n",
              "0  4202.750000  4247.569824  4161.720215  4173.109863  4.757600e+09 -0.003315   \n",
              "1  4188.819824  4271.049805  4187.899902  4262.450195  4.331170e+09  0.023711   \n",
              "2  4288.140137  4358.899902  4251.990234  4357.859863  5.002240e+09  0.013285   \n",
              "3  4345.109863  4412.669922  4335.649902  4411.669922  4.174170e+09  0.014322   \n",
              "4  4407.339844  4465.399902  4390.569824  4463.120117  6.681510e+09  0.012493   \n",
              "\n",
              "   pred_return  pred_output  future_output  \n",
              "0    -0.000796  4199.402614    4188.819824  \n",
              "1    -0.000758  4185.643945    4288.140137  \n",
              "2    -0.000725  4285.030818    4345.109863  \n",
              "3    -0.000683  4342.144072    4407.339844  \n",
              "4    -0.000679  4404.347525    4462.399902  "
            ],
            "text/html": [
              "\n",
              "  <div id=\"df-a0d0d0c5-5c9e-4fec-89ff-39f4869251ef\">\n",
              "    <div class=\"colab-df-container\">\n",
              "      <div>\n",
              "<style scoped>\n",
              "    .dataframe tbody tr th:only-of-type {\n",
              "        vertical-align: middle;\n",
              "    }\n",
              "\n",
              "    .dataframe tbody tr th {\n",
              "        vertical-align: top;\n",
              "    }\n",
              "\n",
              "    .dataframe thead th {\n",
              "        text-align: right;\n",
              "    }\n",
              "</style>\n",
              "<table border=\"1\" class=\"dataframe\">\n",
              "  <thead>\n",
              "    <tr style=\"text-align: right;\">\n",
              "      <th></th>\n",
              "      <th>Open</th>\n",
              "      <th>High</th>\n",
              "      <th>Low</th>\n",
              "      <th>Close</th>\n",
              "      <th>Volume</th>\n",
              "      <th>returns</th>\n",
              "      <th>pred_return</th>\n",
              "      <th>pred_output</th>\n",
              "      <th>future_output</th>\n",
              "    </tr>\n",
              "  </thead>\n",
              "  <tbody>\n",
              "    <tr>\n",
              "      <th>0</th>\n",
              "      <td>4202.750000</td>\n",
              "      <td>4247.569824</td>\n",
              "      <td>4161.720215</td>\n",
              "      <td>4173.109863</td>\n",
              "      <td>4.757600e+09</td>\n",
              "      <td>-0.003315</td>\n",
              "      <td>-0.000796</td>\n",
              "      <td>4199.402614</td>\n",
              "      <td>4188.819824</td>\n",
              "    </tr>\n",
              "    <tr>\n",
              "      <th>1</th>\n",
              "      <td>4188.819824</td>\n",
              "      <td>4271.049805</td>\n",
              "      <td>4187.899902</td>\n",
              "      <td>4262.450195</td>\n",
              "      <td>4.331170e+09</td>\n",
              "      <td>0.023711</td>\n",
              "      <td>-0.000758</td>\n",
              "      <td>4185.643945</td>\n",
              "      <td>4288.140137</td>\n",
              "    </tr>\n",
              "    <tr>\n",
              "      <th>2</th>\n",
              "      <td>4288.140137</td>\n",
              "      <td>4358.899902</td>\n",
              "      <td>4251.990234</td>\n",
              "      <td>4357.859863</td>\n",
              "      <td>5.002240e+09</td>\n",
              "      <td>0.013285</td>\n",
              "      <td>-0.000725</td>\n",
              "      <td>4285.030818</td>\n",
              "      <td>4345.109863</td>\n",
              "    </tr>\n",
              "    <tr>\n",
              "      <th>3</th>\n",
              "      <td>4345.109863</td>\n",
              "      <td>4412.669922</td>\n",
              "      <td>4335.649902</td>\n",
              "      <td>4411.669922</td>\n",
              "      <td>4.174170e+09</td>\n",
              "      <td>0.014322</td>\n",
              "      <td>-0.000683</td>\n",
              "      <td>4342.144072</td>\n",
              "      <td>4407.339844</td>\n",
              "    </tr>\n",
              "    <tr>\n",
              "      <th>4</th>\n",
              "      <td>4407.339844</td>\n",
              "      <td>4465.399902</td>\n",
              "      <td>4390.569824</td>\n",
              "      <td>4463.120117</td>\n",
              "      <td>6.681510e+09</td>\n",
              "      <td>0.012493</td>\n",
              "      <td>-0.000679</td>\n",
              "      <td>4404.347525</td>\n",
              "      <td>4462.399902</td>\n",
              "    </tr>\n",
              "  </tbody>\n",
              "</table>\n",
              "</div>\n",
              "      <button class=\"colab-df-convert\" onclick=\"convertToInteractive('df-a0d0d0c5-5c9e-4fec-89ff-39f4869251ef')\"\n",
              "              title=\"Convert this dataframe to an interactive table.\"\n",
              "              style=\"display:none;\">\n",
              "        \n",
              "  <svg xmlns=\"http://www.w3.org/2000/svg\" height=\"24px\"viewBox=\"0 0 24 24\"\n",
              "       width=\"24px\">\n",
              "    <path d=\"M0 0h24v24H0V0z\" fill=\"none\"/>\n",
              "    <path d=\"M18.56 5.44l.94 2.06.94-2.06 2.06-.94-2.06-.94-.94-2.06-.94 2.06-2.06.94zm-11 1L8.5 8.5l.94-2.06 2.06-.94-2.06-.94L8.5 2.5l-.94 2.06-2.06.94zm10 10l.94 2.06.94-2.06 2.06-.94-2.06-.94-.94-2.06-.94 2.06-2.06.94z\"/><path d=\"M17.41 7.96l-1.37-1.37c-.4-.4-.92-.59-1.43-.59-.52 0-1.04.2-1.43.59L10.3 9.45l-7.72 7.72c-.78.78-.78 2.05 0 2.83L4 21.41c.39.39.9.59 1.41.59.51 0 1.02-.2 1.41-.59l7.78-7.78 2.81-2.81c.8-.78.8-2.07 0-2.86zM5.41 20L4 18.59l7.72-7.72 1.47 1.35L5.41 20z\"/>\n",
              "  </svg>\n",
              "      </button>\n",
              "      \n",
              "  <style>\n",
              "    .colab-df-container {\n",
              "      display:flex;\n",
              "      flex-wrap:wrap;\n",
              "      gap: 12px;\n",
              "    }\n",
              "\n",
              "    .colab-df-convert {\n",
              "      background-color: #E8F0FE;\n",
              "      border: none;\n",
              "      border-radius: 50%;\n",
              "      cursor: pointer;\n",
              "      display: none;\n",
              "      fill: #1967D2;\n",
              "      height: 32px;\n",
              "      padding: 0 0 0 0;\n",
              "      width: 32px;\n",
              "    }\n",
              "\n",
              "    .colab-df-convert:hover {\n",
              "      background-color: #E2EBFA;\n",
              "      box-shadow: 0px 1px 2px rgba(60, 64, 67, 0.3), 0px 1px 3px 1px rgba(60, 64, 67, 0.15);\n",
              "      fill: #174EA6;\n",
              "    }\n",
              "\n",
              "    [theme=dark] .colab-df-convert {\n",
              "      background-color: #3B4455;\n",
              "      fill: #D2E3FC;\n",
              "    }\n",
              "\n",
              "    [theme=dark] .colab-df-convert:hover {\n",
              "      background-color: #434B5C;\n",
              "      box-shadow: 0px 1px 3px 1px rgba(0, 0, 0, 0.15);\n",
              "      filter: drop-shadow(0px 1px 2px rgba(0, 0, 0, 0.3));\n",
              "      fill: #FFFFFF;\n",
              "    }\n",
              "  </style>\n",
              "\n",
              "      <script>\n",
              "        const buttonEl =\n",
              "          document.querySelector('#df-a0d0d0c5-5c9e-4fec-89ff-39f4869251ef button.colab-df-convert');\n",
              "        buttonEl.style.display =\n",
              "          google.colab.kernel.accessAllowed ? 'block' : 'none';\n",
              "\n",
              "        async function convertToInteractive(key) {\n",
              "          const element = document.querySelector('#df-a0d0d0c5-5c9e-4fec-89ff-39f4869251ef');\n",
              "          const dataTable =\n",
              "            await google.colab.kernel.invokeFunction('convertToInteractive',\n",
              "                                                     [key], {});\n",
              "          if (!dataTable) return;\n",
              "\n",
              "          const docLinkHtml = 'Like what you see? Visit the ' +\n",
              "            '<a target=\"_blank\" href=https://colab.research.google.com/notebooks/data_table.ipynb>data table notebook</a>'\n",
              "            + ' to learn more about interactive tables.';\n",
              "          element.innerHTML = '';\n",
              "          dataTable['output_type'] = 'display_data';\n",
              "          await google.colab.output.renderOutput(dataTable, element);\n",
              "          const docLink = document.createElement('div');\n",
              "          docLink.innerHTML = docLinkHtml;\n",
              "          element.appendChild(docLink);\n",
              "        }\n",
              "      </script>\n",
              "    </div>\n",
              "  </div>\n",
              "  "
            ]
          },
          "metadata": {},
          "execution_count": 76
        }
      ]
    },
    {
      "cell_type": "code",
      "source": [
        "X_test.tail()"
      ],
      "metadata": {
        "colab": {
          "base_uri": "https://localhost:8080/",
          "height": 206
        },
        "id": "JjTN9j09ydSd",
        "outputId": "9afd3610-a6d8-40d0-c766-ade3394ec9d9"
      },
      "execution_count": 77,
      "outputs": [
        {
          "output_type": "execute_result",
          "data": {
            "text/plain": [
              "           Open         High          Low        Close        Volume  \\\n",
              "59  4096.470215  4164.859863  4080.189941  4160.680176  3.476470e+09   \n",
              "60  4147.120117  4160.140137  4107.200195  4115.770020  3.090180e+09   \n",
              "61  4101.649902  4119.100098  4017.169922  4017.820068  3.192330e+09   \n",
              "62  3974.389893  3974.389893  3900.159912  3900.860107  3.936120e+09   \n",
              "63  3838.149902  3838.149902  3734.300049  3749.629883  4.572820e+09   \n",
              "\n",
              "     returns  pred_return  pred_output  future_output  \n",
              "59  0.012364    -0.000575  4094.115340    4147.120117  \n",
              "60 -0.010964    -0.000500  4145.045199    4101.649902  \n",
              "61 -0.031027    -0.000427  4099.897233    3974.389893  \n",
              "62 -0.034279    -0.000381  3972.875828    3838.149902  \n",
              "63 -0.019444    -0.000385  3836.671090            NaN  "
            ],
            "text/html": [
              "\n",
              "  <div id=\"df-c82cc282-be44-48e3-9a56-788073e2198d\">\n",
              "    <div class=\"colab-df-container\">\n",
              "      <div>\n",
              "<style scoped>\n",
              "    .dataframe tbody tr th:only-of-type {\n",
              "        vertical-align: middle;\n",
              "    }\n",
              "\n",
              "    .dataframe tbody tr th {\n",
              "        vertical-align: top;\n",
              "    }\n",
              "\n",
              "    .dataframe thead th {\n",
              "        text-align: right;\n",
              "    }\n",
              "</style>\n",
              "<table border=\"1\" class=\"dataframe\">\n",
              "  <thead>\n",
              "    <tr style=\"text-align: right;\">\n",
              "      <th></th>\n",
              "      <th>Open</th>\n",
              "      <th>High</th>\n",
              "      <th>Low</th>\n",
              "      <th>Close</th>\n",
              "      <th>Volume</th>\n",
              "      <th>returns</th>\n",
              "      <th>pred_return</th>\n",
              "      <th>pred_output</th>\n",
              "      <th>future_output</th>\n",
              "    </tr>\n",
              "  </thead>\n",
              "  <tbody>\n",
              "    <tr>\n",
              "      <th>59</th>\n",
              "      <td>4096.470215</td>\n",
              "      <td>4164.859863</td>\n",
              "      <td>4080.189941</td>\n",
              "      <td>4160.680176</td>\n",
              "      <td>3.476470e+09</td>\n",
              "      <td>0.012364</td>\n",
              "      <td>-0.000575</td>\n",
              "      <td>4094.115340</td>\n",
              "      <td>4147.120117</td>\n",
              "    </tr>\n",
              "    <tr>\n",
              "      <th>60</th>\n",
              "      <td>4147.120117</td>\n",
              "      <td>4160.140137</td>\n",
              "      <td>4107.200195</td>\n",
              "      <td>4115.770020</td>\n",
              "      <td>3.090180e+09</td>\n",
              "      <td>-0.010964</td>\n",
              "      <td>-0.000500</td>\n",
              "      <td>4145.045199</td>\n",
              "      <td>4101.649902</td>\n",
              "    </tr>\n",
              "    <tr>\n",
              "      <th>61</th>\n",
              "      <td>4101.649902</td>\n",
              "      <td>4119.100098</td>\n",
              "      <td>4017.169922</td>\n",
              "      <td>4017.820068</td>\n",
              "      <td>3.192330e+09</td>\n",
              "      <td>-0.031027</td>\n",
              "      <td>-0.000427</td>\n",
              "      <td>4099.897233</td>\n",
              "      <td>3974.389893</td>\n",
              "    </tr>\n",
              "    <tr>\n",
              "      <th>62</th>\n",
              "      <td>3974.389893</td>\n",
              "      <td>3974.389893</td>\n",
              "      <td>3900.159912</td>\n",
              "      <td>3900.860107</td>\n",
              "      <td>3.936120e+09</td>\n",
              "      <td>-0.034279</td>\n",
              "      <td>-0.000381</td>\n",
              "      <td>3972.875828</td>\n",
              "      <td>3838.149902</td>\n",
              "    </tr>\n",
              "    <tr>\n",
              "      <th>63</th>\n",
              "      <td>3838.149902</td>\n",
              "      <td>3838.149902</td>\n",
              "      <td>3734.300049</td>\n",
              "      <td>3749.629883</td>\n",
              "      <td>4.572820e+09</td>\n",
              "      <td>-0.019444</td>\n",
              "      <td>-0.000385</td>\n",
              "      <td>3836.671090</td>\n",
              "      <td>NaN</td>\n",
              "    </tr>\n",
              "  </tbody>\n",
              "</table>\n",
              "</div>\n",
              "      <button class=\"colab-df-convert\" onclick=\"convertToInteractive('df-c82cc282-be44-48e3-9a56-788073e2198d')\"\n",
              "              title=\"Convert this dataframe to an interactive table.\"\n",
              "              style=\"display:none;\">\n",
              "        \n",
              "  <svg xmlns=\"http://www.w3.org/2000/svg\" height=\"24px\"viewBox=\"0 0 24 24\"\n",
              "       width=\"24px\">\n",
              "    <path d=\"M0 0h24v24H0V0z\" fill=\"none\"/>\n",
              "    <path d=\"M18.56 5.44l.94 2.06.94-2.06 2.06-.94-2.06-.94-.94-2.06-.94 2.06-2.06.94zm-11 1L8.5 8.5l.94-2.06 2.06-.94-2.06-.94L8.5 2.5l-.94 2.06-2.06.94zm10 10l.94 2.06.94-2.06 2.06-.94-2.06-.94-.94-2.06-.94 2.06-2.06.94z\"/><path d=\"M17.41 7.96l-1.37-1.37c-.4-.4-.92-.59-1.43-.59-.52 0-1.04.2-1.43.59L10.3 9.45l-7.72 7.72c-.78.78-.78 2.05 0 2.83L4 21.41c.39.39.9.59 1.41.59.51 0 1.02-.2 1.41-.59l7.78-7.78 2.81-2.81c.8-.78.8-2.07 0-2.86zM5.41 20L4 18.59l7.72-7.72 1.47 1.35L5.41 20z\"/>\n",
              "  </svg>\n",
              "      </button>\n",
              "      \n",
              "  <style>\n",
              "    .colab-df-container {\n",
              "      display:flex;\n",
              "      flex-wrap:wrap;\n",
              "      gap: 12px;\n",
              "    }\n",
              "\n",
              "    .colab-df-convert {\n",
              "      background-color: #E8F0FE;\n",
              "      border: none;\n",
              "      border-radius: 50%;\n",
              "      cursor: pointer;\n",
              "      display: none;\n",
              "      fill: #1967D2;\n",
              "      height: 32px;\n",
              "      padding: 0 0 0 0;\n",
              "      width: 32px;\n",
              "    }\n",
              "\n",
              "    .colab-df-convert:hover {\n",
              "      background-color: #E2EBFA;\n",
              "      box-shadow: 0px 1px 2px rgba(60, 64, 67, 0.3), 0px 1px 3px 1px rgba(60, 64, 67, 0.15);\n",
              "      fill: #174EA6;\n",
              "    }\n",
              "\n",
              "    [theme=dark] .colab-df-convert {\n",
              "      background-color: #3B4455;\n",
              "      fill: #D2E3FC;\n",
              "    }\n",
              "\n",
              "    [theme=dark] .colab-df-convert:hover {\n",
              "      background-color: #434B5C;\n",
              "      box-shadow: 0px 1px 3px 1px rgba(0, 0, 0, 0.15);\n",
              "      filter: drop-shadow(0px 1px 2px rgba(0, 0, 0, 0.3));\n",
              "      fill: #FFFFFF;\n",
              "    }\n",
              "  </style>\n",
              "\n",
              "      <script>\n",
              "        const buttonEl =\n",
              "          document.querySelector('#df-c82cc282-be44-48e3-9a56-788073e2198d button.colab-df-convert');\n",
              "        buttonEl.style.display =\n",
              "          google.colab.kernel.accessAllowed ? 'block' : 'none';\n",
              "\n",
              "        async function convertToInteractive(key) {\n",
              "          const element = document.querySelector('#df-c82cc282-be44-48e3-9a56-788073e2198d');\n",
              "          const dataTable =\n",
              "            await google.colab.kernel.invokeFunction('convertToInteractive',\n",
              "                                                     [key], {});\n",
              "          if (!dataTable) return;\n",
              "\n",
              "          const docLinkHtml = 'Like what you see? Visit the ' +\n",
              "            '<a target=\"_blank\" href=https://colab.research.google.com/notebooks/data_table.ipynb>data table notebook</a>'\n",
              "            + ' to learn more about interactive tables.';\n",
              "          element.innerHTML = '';\n",
              "          dataTable['output_type'] = 'display_data';\n",
              "          await google.colab.output.renderOutput(dataTable, element);\n",
              "          const docLink = document.createElement('div');\n",
              "          docLink.innerHTML = docLinkHtml;\n",
              "          element.appendChild(docLink);\n",
              "        }\n",
              "      </script>\n",
              "    </div>\n",
              "  </div>\n",
              "  "
            ]
          },
          "metadata": {},
          "execution_count": 77
        }
      ]
    },
    {
      "cell_type": "code",
      "source": [
        "#let' analyse the loss\n",
        "# function to calculate absolute percentage error\n",
        "def cal_ape(y_true, y_pred):\n",
        "    ape = abs((y_true-y_pred)/y_true) *100\n",
        "    return ape"
      ],
      "metadata": {
        "id": "a4nhPtkYzTga"
      },
      "execution_count": 78,
      "outputs": []
    },
    {
      "cell_type": "code",
      "source": [
        "X_train['abs_perc_error'] = cal_ape(X_train['pred_output'], X_train['future_output'])"
      ],
      "metadata": {
        "id": "gsG-oDkizXEE"
      },
      "execution_count": 79,
      "outputs": []
    },
    {
      "cell_type": "code",
      "source": [
        "X_test['abs_perc_error'] = cal_ape(X_test['pred_output'], X_test['future_output'])"
      ],
      "metadata": {
        "id": "gT5efDvwbi6H"
      },
      "execution_count": 80,
      "outputs": []
    },
    {
      "cell_type": "code",
      "source": [
        "X_test.head()"
      ],
      "metadata": {
        "colab": {
          "base_uri": "https://localhost:8080/",
          "height": 206
        },
        "id": "JmzGuAWybQER",
        "outputId": "556093f8-c36a-42bf-dff8-463404a36b41"
      },
      "execution_count": 81,
      "outputs": [
        {
          "output_type": "execute_result",
          "data": {
            "text/plain": [
              "          Open         High          Low        Close        Volume   returns  \\\n",
              "0  4202.750000  4247.569824  4161.720215  4173.109863  4.757600e+09 -0.003315   \n",
              "1  4188.819824  4271.049805  4187.899902  4262.450195  4.331170e+09  0.023711   \n",
              "2  4288.140137  4358.899902  4251.990234  4357.859863  5.002240e+09  0.013285   \n",
              "3  4345.109863  4412.669922  4335.649902  4411.669922  4.174170e+09  0.014322   \n",
              "4  4407.339844  4465.399902  4390.569824  4463.120117  6.681510e+09  0.012493   \n",
              "\n",
              "   pred_return  pred_output  future_output  abs_perc_error  \n",
              "0    -0.000796  4199.402614    4188.819824        0.252007  \n",
              "1    -0.000758  4185.643945    4288.140137        2.448756  \n",
              "2    -0.000725  4285.030818    4345.109863        1.402068  \n",
              "3    -0.000683  4342.144072    4407.339844        1.501465  \n",
              "4    -0.000679  4404.347525    4462.399902        1.318070  "
            ],
            "text/html": [
              "\n",
              "  <div id=\"df-e29b1dfc-d067-4ce6-8d65-e4405b50d951\">\n",
              "    <div class=\"colab-df-container\">\n",
              "      <div>\n",
              "<style scoped>\n",
              "    .dataframe tbody tr th:only-of-type {\n",
              "        vertical-align: middle;\n",
              "    }\n",
              "\n",
              "    .dataframe tbody tr th {\n",
              "        vertical-align: top;\n",
              "    }\n",
              "\n",
              "    .dataframe thead th {\n",
              "        text-align: right;\n",
              "    }\n",
              "</style>\n",
              "<table border=\"1\" class=\"dataframe\">\n",
              "  <thead>\n",
              "    <tr style=\"text-align: right;\">\n",
              "      <th></th>\n",
              "      <th>Open</th>\n",
              "      <th>High</th>\n",
              "      <th>Low</th>\n",
              "      <th>Close</th>\n",
              "      <th>Volume</th>\n",
              "      <th>returns</th>\n",
              "      <th>pred_return</th>\n",
              "      <th>pred_output</th>\n",
              "      <th>future_output</th>\n",
              "      <th>abs_perc_error</th>\n",
              "    </tr>\n",
              "  </thead>\n",
              "  <tbody>\n",
              "    <tr>\n",
              "      <th>0</th>\n",
              "      <td>4202.750000</td>\n",
              "      <td>4247.569824</td>\n",
              "      <td>4161.720215</td>\n",
              "      <td>4173.109863</td>\n",
              "      <td>4.757600e+09</td>\n",
              "      <td>-0.003315</td>\n",
              "      <td>-0.000796</td>\n",
              "      <td>4199.402614</td>\n",
              "      <td>4188.819824</td>\n",
              "      <td>0.252007</td>\n",
              "    </tr>\n",
              "    <tr>\n",
              "      <th>1</th>\n",
              "      <td>4188.819824</td>\n",
              "      <td>4271.049805</td>\n",
              "      <td>4187.899902</td>\n",
              "      <td>4262.450195</td>\n",
              "      <td>4.331170e+09</td>\n",
              "      <td>0.023711</td>\n",
              "      <td>-0.000758</td>\n",
              "      <td>4185.643945</td>\n",
              "      <td>4288.140137</td>\n",
              "      <td>2.448756</td>\n",
              "    </tr>\n",
              "    <tr>\n",
              "      <th>2</th>\n",
              "      <td>4288.140137</td>\n",
              "      <td>4358.899902</td>\n",
              "      <td>4251.990234</td>\n",
              "      <td>4357.859863</td>\n",
              "      <td>5.002240e+09</td>\n",
              "      <td>0.013285</td>\n",
              "      <td>-0.000725</td>\n",
              "      <td>4285.030818</td>\n",
              "      <td>4345.109863</td>\n",
              "      <td>1.402068</td>\n",
              "    </tr>\n",
              "    <tr>\n",
              "      <th>3</th>\n",
              "      <td>4345.109863</td>\n",
              "      <td>4412.669922</td>\n",
              "      <td>4335.649902</td>\n",
              "      <td>4411.669922</td>\n",
              "      <td>4.174170e+09</td>\n",
              "      <td>0.014322</td>\n",
              "      <td>-0.000683</td>\n",
              "      <td>4342.144072</td>\n",
              "      <td>4407.339844</td>\n",
              "      <td>1.501465</td>\n",
              "    </tr>\n",
              "    <tr>\n",
              "      <th>4</th>\n",
              "      <td>4407.339844</td>\n",
              "      <td>4465.399902</td>\n",
              "      <td>4390.569824</td>\n",
              "      <td>4463.120117</td>\n",
              "      <td>6.681510e+09</td>\n",
              "      <td>0.012493</td>\n",
              "      <td>-0.000679</td>\n",
              "      <td>4404.347525</td>\n",
              "      <td>4462.399902</td>\n",
              "      <td>1.318070</td>\n",
              "    </tr>\n",
              "  </tbody>\n",
              "</table>\n",
              "</div>\n",
              "      <button class=\"colab-df-convert\" onclick=\"convertToInteractive('df-e29b1dfc-d067-4ce6-8d65-e4405b50d951')\"\n",
              "              title=\"Convert this dataframe to an interactive table.\"\n",
              "              style=\"display:none;\">\n",
              "        \n",
              "  <svg xmlns=\"http://www.w3.org/2000/svg\" height=\"24px\"viewBox=\"0 0 24 24\"\n",
              "       width=\"24px\">\n",
              "    <path d=\"M0 0h24v24H0V0z\" fill=\"none\"/>\n",
              "    <path d=\"M18.56 5.44l.94 2.06.94-2.06 2.06-.94-2.06-.94-.94-2.06-.94 2.06-2.06.94zm-11 1L8.5 8.5l.94-2.06 2.06-.94-2.06-.94L8.5 2.5l-.94 2.06-2.06.94zm10 10l.94 2.06.94-2.06 2.06-.94-2.06-.94-.94-2.06-.94 2.06-2.06.94z\"/><path d=\"M17.41 7.96l-1.37-1.37c-.4-.4-.92-.59-1.43-.59-.52 0-1.04.2-1.43.59L10.3 9.45l-7.72 7.72c-.78.78-.78 2.05 0 2.83L4 21.41c.39.39.9.59 1.41.59.51 0 1.02-.2 1.41-.59l7.78-7.78 2.81-2.81c.8-.78.8-2.07 0-2.86zM5.41 20L4 18.59l7.72-7.72 1.47 1.35L5.41 20z\"/>\n",
              "  </svg>\n",
              "      </button>\n",
              "      \n",
              "  <style>\n",
              "    .colab-df-container {\n",
              "      display:flex;\n",
              "      flex-wrap:wrap;\n",
              "      gap: 12px;\n",
              "    }\n",
              "\n",
              "    .colab-df-convert {\n",
              "      background-color: #E8F0FE;\n",
              "      border: none;\n",
              "      border-radius: 50%;\n",
              "      cursor: pointer;\n",
              "      display: none;\n",
              "      fill: #1967D2;\n",
              "      height: 32px;\n",
              "      padding: 0 0 0 0;\n",
              "      width: 32px;\n",
              "    }\n",
              "\n",
              "    .colab-df-convert:hover {\n",
              "      background-color: #E2EBFA;\n",
              "      box-shadow: 0px 1px 2px rgba(60, 64, 67, 0.3), 0px 1px 3px 1px rgba(60, 64, 67, 0.15);\n",
              "      fill: #174EA6;\n",
              "    }\n",
              "\n",
              "    [theme=dark] .colab-df-convert {\n",
              "      background-color: #3B4455;\n",
              "      fill: #D2E3FC;\n",
              "    }\n",
              "\n",
              "    [theme=dark] .colab-df-convert:hover {\n",
              "      background-color: #434B5C;\n",
              "      box-shadow: 0px 1px 3px 1px rgba(0, 0, 0, 0.15);\n",
              "      filter: drop-shadow(0px 1px 2px rgba(0, 0, 0, 0.3));\n",
              "      fill: #FFFFFF;\n",
              "    }\n",
              "  </style>\n",
              "\n",
              "      <script>\n",
              "        const buttonEl =\n",
              "          document.querySelector('#df-e29b1dfc-d067-4ce6-8d65-e4405b50d951 button.colab-df-convert');\n",
              "        buttonEl.style.display =\n",
              "          google.colab.kernel.accessAllowed ? 'block' : 'none';\n",
              "\n",
              "        async function convertToInteractive(key) {\n",
              "          const element = document.querySelector('#df-e29b1dfc-d067-4ce6-8d65-e4405b50d951');\n",
              "          const dataTable =\n",
              "            await google.colab.kernel.invokeFunction('convertToInteractive',\n",
              "                                                     [key], {});\n",
              "          if (!dataTable) return;\n",
              "\n",
              "          const docLinkHtml = 'Like what you see? Visit the ' +\n",
              "            '<a target=\"_blank\" href=https://colab.research.google.com/notebooks/data_table.ipynb>data table notebook</a>'\n",
              "            + ' to learn more about interactive tables.';\n",
              "          element.innerHTML = '';\n",
              "          dataTable['output_type'] = 'display_data';\n",
              "          await google.colab.output.renderOutput(dataTable, element);\n",
              "          const docLink = document.createElement('div');\n",
              "          docLink.innerHTML = docLinkHtml;\n",
              "          element.appendChild(docLink);\n",
              "        }\n",
              "      </script>\n",
              "    </div>\n",
              "  </div>\n",
              "  "
            ]
          },
          "metadata": {},
          "execution_count": 81
        }
      ]
    },
    {
      "cell_type": "code",
      "source": [
        "X_test.tail()"
      ],
      "metadata": {
        "colab": {
          "base_uri": "https://localhost:8080/",
          "height": 206
        },
        "id": "nHsqN-2Dbriy",
        "outputId": "56bfff12-3448-4a5f-cbd8-bf7a4c467d34"
      },
      "execution_count": 82,
      "outputs": [
        {
          "output_type": "execute_result",
          "data": {
            "text/plain": [
              "           Open         High          Low        Close        Volume  \\\n",
              "59  4096.470215  4164.859863  4080.189941  4160.680176  3.476470e+09   \n",
              "60  4147.120117  4160.140137  4107.200195  4115.770020  3.090180e+09   \n",
              "61  4101.649902  4119.100098  4017.169922  4017.820068  3.192330e+09   \n",
              "62  3974.389893  3974.389893  3900.159912  3900.860107  3.936120e+09   \n",
              "63  3838.149902  3838.149902  3734.300049  3749.629883  4.572820e+09   \n",
              "\n",
              "     returns  pred_return  pred_output  future_output  abs_perc_error  \n",
              "59  0.012364    -0.000575  4094.115340    4147.120117        1.294658  \n",
              "60 -0.010964    -0.000500  4145.045199    4101.649902        1.046920  \n",
              "61 -0.031027    -0.000427  4099.897233    3974.389893        3.061231  \n",
              "62 -0.034279    -0.000381  3972.875828    3838.149902        3.391144  \n",
              "63 -0.019444    -0.000385  3836.671090            NaN             NaN  "
            ],
            "text/html": [
              "\n",
              "  <div id=\"df-826b31f6-e4e4-4a1b-b6c7-df3dcc3cebed\">\n",
              "    <div class=\"colab-df-container\">\n",
              "      <div>\n",
              "<style scoped>\n",
              "    .dataframe tbody tr th:only-of-type {\n",
              "        vertical-align: middle;\n",
              "    }\n",
              "\n",
              "    .dataframe tbody tr th {\n",
              "        vertical-align: top;\n",
              "    }\n",
              "\n",
              "    .dataframe thead th {\n",
              "        text-align: right;\n",
              "    }\n",
              "</style>\n",
              "<table border=\"1\" class=\"dataframe\">\n",
              "  <thead>\n",
              "    <tr style=\"text-align: right;\">\n",
              "      <th></th>\n",
              "      <th>Open</th>\n",
              "      <th>High</th>\n",
              "      <th>Low</th>\n",
              "      <th>Close</th>\n",
              "      <th>Volume</th>\n",
              "      <th>returns</th>\n",
              "      <th>pred_return</th>\n",
              "      <th>pred_output</th>\n",
              "      <th>future_output</th>\n",
              "      <th>abs_perc_error</th>\n",
              "    </tr>\n",
              "  </thead>\n",
              "  <tbody>\n",
              "    <tr>\n",
              "      <th>59</th>\n",
              "      <td>4096.470215</td>\n",
              "      <td>4164.859863</td>\n",
              "      <td>4080.189941</td>\n",
              "      <td>4160.680176</td>\n",
              "      <td>3.476470e+09</td>\n",
              "      <td>0.012364</td>\n",
              "      <td>-0.000575</td>\n",
              "      <td>4094.115340</td>\n",
              "      <td>4147.120117</td>\n",
              "      <td>1.294658</td>\n",
              "    </tr>\n",
              "    <tr>\n",
              "      <th>60</th>\n",
              "      <td>4147.120117</td>\n",
              "      <td>4160.140137</td>\n",
              "      <td>4107.200195</td>\n",
              "      <td>4115.770020</td>\n",
              "      <td>3.090180e+09</td>\n",
              "      <td>-0.010964</td>\n",
              "      <td>-0.000500</td>\n",
              "      <td>4145.045199</td>\n",
              "      <td>4101.649902</td>\n",
              "      <td>1.046920</td>\n",
              "    </tr>\n",
              "    <tr>\n",
              "      <th>61</th>\n",
              "      <td>4101.649902</td>\n",
              "      <td>4119.100098</td>\n",
              "      <td>4017.169922</td>\n",
              "      <td>4017.820068</td>\n",
              "      <td>3.192330e+09</td>\n",
              "      <td>-0.031027</td>\n",
              "      <td>-0.000427</td>\n",
              "      <td>4099.897233</td>\n",
              "      <td>3974.389893</td>\n",
              "      <td>3.061231</td>\n",
              "    </tr>\n",
              "    <tr>\n",
              "      <th>62</th>\n",
              "      <td>3974.389893</td>\n",
              "      <td>3974.389893</td>\n",
              "      <td>3900.159912</td>\n",
              "      <td>3900.860107</td>\n",
              "      <td>3.936120e+09</td>\n",
              "      <td>-0.034279</td>\n",
              "      <td>-0.000381</td>\n",
              "      <td>3972.875828</td>\n",
              "      <td>3838.149902</td>\n",
              "      <td>3.391144</td>\n",
              "    </tr>\n",
              "    <tr>\n",
              "      <th>63</th>\n",
              "      <td>3838.149902</td>\n",
              "      <td>3838.149902</td>\n",
              "      <td>3734.300049</td>\n",
              "      <td>3749.629883</td>\n",
              "      <td>4.572820e+09</td>\n",
              "      <td>-0.019444</td>\n",
              "      <td>-0.000385</td>\n",
              "      <td>3836.671090</td>\n",
              "      <td>NaN</td>\n",
              "      <td>NaN</td>\n",
              "    </tr>\n",
              "  </tbody>\n",
              "</table>\n",
              "</div>\n",
              "      <button class=\"colab-df-convert\" onclick=\"convertToInteractive('df-826b31f6-e4e4-4a1b-b6c7-df3dcc3cebed')\"\n",
              "              title=\"Convert this dataframe to an interactive table.\"\n",
              "              style=\"display:none;\">\n",
              "        \n",
              "  <svg xmlns=\"http://www.w3.org/2000/svg\" height=\"24px\"viewBox=\"0 0 24 24\"\n",
              "       width=\"24px\">\n",
              "    <path d=\"M0 0h24v24H0V0z\" fill=\"none\"/>\n",
              "    <path d=\"M18.56 5.44l.94 2.06.94-2.06 2.06-.94-2.06-.94-.94-2.06-.94 2.06-2.06.94zm-11 1L8.5 8.5l.94-2.06 2.06-.94-2.06-.94L8.5 2.5l-.94 2.06-2.06.94zm10 10l.94 2.06.94-2.06 2.06-.94-2.06-.94-.94-2.06-.94 2.06-2.06.94z\"/><path d=\"M17.41 7.96l-1.37-1.37c-.4-.4-.92-.59-1.43-.59-.52 0-1.04.2-1.43.59L10.3 9.45l-7.72 7.72c-.78.78-.78 2.05 0 2.83L4 21.41c.39.39.9.59 1.41.59.51 0 1.02-.2 1.41-.59l7.78-7.78 2.81-2.81c.8-.78.8-2.07 0-2.86zM5.41 20L4 18.59l7.72-7.72 1.47 1.35L5.41 20z\"/>\n",
              "  </svg>\n",
              "      </button>\n",
              "      \n",
              "  <style>\n",
              "    .colab-df-container {\n",
              "      display:flex;\n",
              "      flex-wrap:wrap;\n",
              "      gap: 12px;\n",
              "    }\n",
              "\n",
              "    .colab-df-convert {\n",
              "      background-color: #E8F0FE;\n",
              "      border: none;\n",
              "      border-radius: 50%;\n",
              "      cursor: pointer;\n",
              "      display: none;\n",
              "      fill: #1967D2;\n",
              "      height: 32px;\n",
              "      padding: 0 0 0 0;\n",
              "      width: 32px;\n",
              "    }\n",
              "\n",
              "    .colab-df-convert:hover {\n",
              "      background-color: #E2EBFA;\n",
              "      box-shadow: 0px 1px 2px rgba(60, 64, 67, 0.3), 0px 1px 3px 1px rgba(60, 64, 67, 0.15);\n",
              "      fill: #174EA6;\n",
              "    }\n",
              "\n",
              "    [theme=dark] .colab-df-convert {\n",
              "      background-color: #3B4455;\n",
              "      fill: #D2E3FC;\n",
              "    }\n",
              "\n",
              "    [theme=dark] .colab-df-convert:hover {\n",
              "      background-color: #434B5C;\n",
              "      box-shadow: 0px 1px 3px 1px rgba(0, 0, 0, 0.15);\n",
              "      filter: drop-shadow(0px 1px 2px rgba(0, 0, 0, 0.3));\n",
              "      fill: #FFFFFF;\n",
              "    }\n",
              "  </style>\n",
              "\n",
              "      <script>\n",
              "        const buttonEl =\n",
              "          document.querySelector('#df-826b31f6-e4e4-4a1b-b6c7-df3dcc3cebed button.colab-df-convert');\n",
              "        buttonEl.style.display =\n",
              "          google.colab.kernel.accessAllowed ? 'block' : 'none';\n",
              "\n",
              "        async function convertToInteractive(key) {\n",
              "          const element = document.querySelector('#df-826b31f6-e4e4-4a1b-b6c7-df3dcc3cebed');\n",
              "          const dataTable =\n",
              "            await google.colab.kernel.invokeFunction('convertToInteractive',\n",
              "                                                     [key], {});\n",
              "          if (!dataTable) return;\n",
              "\n",
              "          const docLinkHtml = 'Like what you see? Visit the ' +\n",
              "            '<a target=\"_blank\" href=https://colab.research.google.com/notebooks/data_table.ipynb>data table notebook</a>'\n",
              "            + ' to learn more about interactive tables.';\n",
              "          element.innerHTML = '';\n",
              "          dataTable['output_type'] = 'display_data';\n",
              "          await google.colab.output.renderOutput(dataTable, element);\n",
              "          const docLink = document.createElement('div');\n",
              "          docLink.innerHTML = docLinkHtml;\n",
              "          element.appendChild(docLink);\n",
              "        }\n",
              "      </script>\n",
              "    </div>\n",
              "  </div>\n",
              "  "
            ]
          },
          "metadata": {},
          "execution_count": 82
        }
      ]
    },
    {
      "cell_type": "code",
      "source": [
        "fig, ax = plt.subplots(figsize = (18,6))\n",
        "plt.plot(X_train['future_output'],label='Next day Opening price of S&P 500 ind value ')\n",
        "plt.plot(X_train['pred_output'],label = 'Output predicted by lstm model')\n",
        "plt.legend()\n",
        "plt.show()"
      ],
      "metadata": {
        "colab": {
          "base_uri": "https://localhost:8080/",
          "height": 374
        },
        "id": "nSyHWtRSqwF7",
        "outputId": "6b11e9ff-cf1b-49ec-8162-0b03e5fac359"
      },
      "execution_count": 90,
      "outputs": [
        {
          "output_type": "display_data",
          "data": {
            "text/plain": [
              "<Figure size 1296x432 with 1 Axes>"
            ],
            "image/png": "[encoded data removed]"
          },
          "metadata": {
            "needs_background": "light"
          }
        }
      ]
    },
    {
      "cell_type": "code",
      "source": [
        "fig, ax = plt.subplots(figsize = (18,6))\n",
        "plt.plot(X_test['future_output'],label='Next daya pening price of S&P 500 ind value')\n",
        "plt.plot(X_test['pred_output'],label = 'Output predicted by lstm model')\n",
        "plt.legend()\n",
        "plt.show()"
      ],
      "metadata": {
        "colab": {
          "base_uri": "https://localhost:8080/",
          "height": 374
        },
        "id": "bccSVgraq0DF",
        "outputId": "e0766837-6fba-47d3-fe5a-cc5a7edfd683"
      },
      "execution_count": 91,
      "outputs": [
        {
          "output_type": "display_data",
          "data": {
            "text/plain": [
              "<Figure size 1296x432 with 1 Axes>"
            ],
            "image/png": "[encoded data removed]"
          },
          "metadata": {
            "needs_background": "light"
          }
        }
      ]
    },
    {
      "cell_type": "code",
      "source": [
        "def plot_dist_error(data):\n",
        "    fig, (ax1,ax2) = plt.subplots(1,2, figsize=(16,5))\n",
        "\n",
        "    ax1.plot(data.dropna())\n",
        "    ax2.hist(data.dropna(), density = True)\n",
        "    \n",
        "    mape = data.mean()\n",
        "    print(f'Mean absolute percentage error of the model is : {mape:.3f} %')"
      ],
      "metadata": {
        "id": "OOkBQWTtz2eu"
      },
      "execution_count": 83,
      "outputs": []
    },
    {
      "cell_type": "code",
      "source": [
        "plot_dist_error(X_train['abs_perc_error'])"
      ],
      "metadata": {
        "colab": {
          "base_uri": "https://localhost:8080/",
          "height": 340
        },
        "id": "FufV4IXMz37N",
        "outputId": "cf9cda90-5424-4d0a-e13b-ecadb18f7ce2"
      },
      "execution_count": 85,
      "outputs": [
        {
          "output_type": "stream",
          "name": "stdout",
          "text": [
            "Mean absolute percentage error of the model is : 0.713 %\n"
          ]
        },
        {
          "output_type": "display_data",
          "data": {
            "text/plain": [
              "<Figure size 1152x360 with 2 Axes>"
            ],
            "image/png": "[encoded data removed]"
          },
          "metadata": {
            "needs_background": "light"
          }
        }
      ]
    },
    {
      "cell_type": "code",
      "source": [
        "plot_dist_error(X_test['abs_perc_error'])"
      ],
      "metadata": {
        "colab": {
          "base_uri": "https://localhost:8080/",
          "height": 337
        },
        "id": "8Btazz810Cle",
        "outputId": "d049fe7e-601d-42cf-9793-6c89000cc11a"
      },
      "execution_count": 86,
      "outputs": [
        {
          "output_type": "stream",
          "name": "stdout",
          "text": [
            "Mean absolute percentage error of the model is : 1.209 %\n"
          ]
        },
        {
          "output_type": "display_data",
          "data": {
            "text/plain": [
              "<Figure size 1152x360 with 2 Axes>"
            ],
            "image/png": "[encoded data removed]"
          },
          "metadata": {
            "needs_background": "light"
          }
        }
      ]
    },
    {
      "cell_type": "markdown",
      "source": [
        "<h2> Conclusion </h2>\n",
        "\n",
        "- From the above plot we can see that,about 50% of the time error lies between 0% to 1.5%.\n",
        "- In some cases error may even shoot up to 3.5% which is not a good sign for our model, but still this is better than ARIMA model, where highest ape(abs percentage error) was 4.5% and mape was 1.232%\n",
        "- Mape(mean abs percentage error) for our LSTM model is 1.209%, which is not good model, but still this model should not be used to perform intraday trading."
      ],
      "metadata": {
        "id": "BFwZZWgfsA4g"
      }
    }
  ],
  "metadata": {
    "kernelspec": {
      "display_name": "Python 3",
      "language": "python",
      "name": "python3"
    },
    "language_info": {
      "codemirror_mode": {
        "name": "ipython",
        "version": 3
      },
      "file_extension": ".py",
      "mimetype": "text/x-python",
      "name": "python",
      "nbconvert_exporter": "python",
      "pygments_lexer": "ipython3",
      "version": "3.6.9"
    },
    "colab": {
      "provenance": [],
      "collapsed_sections": []
    },
    "accelerator": "GPU"
  },
  "nbformat": 4,
  "nbformat_minor": 0
}