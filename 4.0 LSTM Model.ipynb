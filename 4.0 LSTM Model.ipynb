{
 "cells": [
  {
   "cell_type": "markdown",
   "metadata": {
    "id": "cYD1obvwx7aT"
   },
   "source": [
    "### S&P 500 Index Prediction Using Stacked LSTM"
   ]
  },
  {
   "cell_type": "code",
   "execution_count": 1,
   "metadata": {
    "id": "jsM8JpISx7aX"
   },
   "outputs": [],
   "source": [
    "import pandas as pd\n",
    "import numpy as np"
   ]
  },
  {
   "cell_type": "code",
   "execution_count": 3,
   "metadata": {
    "id": "NxXXhCT10rDD"
   },
   "outputs": [],
   "source": [
    "#reading the data\n",
    "data = pd.read_csv(r'C:\\Users\\DELL\\Desktop\\Final Project\\i. hist_data\\sp500_ind.csv',encoding='utf-8')"
   ]
  },
  {
   "cell_type": "code",
   "execution_count": 4,
   "metadata": {
    "colab": {
     "base_uri": "https://localhost:8080/",
     "height": 206
    },
    "id": "FKl21aCBYQqq",
    "outputId": "c7573a82-0543-426c-b4bc-40b53c0ca006"
   },
   "outputs": [
    {
     "data": {
      "text/html": [
       "<div>\n",
       "<style scoped>\n",
       "    .dataframe tbody tr th:only-of-type {\n",
       "        vertical-align: middle;\n",
       "    }\n",
       "\n",
       "    .dataframe tbody tr th {\n",
       "        vertical-align: top;\n",
       "    }\n",
       "\n",
       "    .dataframe thead th {\n",
       "        text-align: right;\n",
       "    }\n",
       "</style>\n",
       "<table border=\"1\" class=\"dataframe\">\n",
       "  <thead>\n",
       "    <tr style=\"text-align: right;\">\n",
       "      <th></th>\n",
       "      <th>Unnamed: 0</th>\n",
       "      <th>Date</th>\n",
       "      <th>Open</th>\n",
       "      <th>High</th>\n",
       "      <th>Low</th>\n",
       "      <th>Close</th>\n",
       "      <th>Adj Close</th>\n",
       "      <th>Volume</th>\n",
       "      <th>Ticker</th>\n",
       "    </tr>\n",
       "  </thead>\n",
       "  <tbody>\n",
       "    <tr>\n",
       "      <th>0</th>\n",
       "      <td>0</td>\n",
       "      <td>2017-06-15</td>\n",
       "      <td>2424.139893</td>\n",
       "      <td>2433.949951</td>\n",
       "      <td>2418.530029</td>\n",
       "      <td>2432.459961</td>\n",
       "      <td>2432.459961</td>\n",
       "      <td>3353050000</td>\n",
       "      <td>SP500_Ind</td>\n",
       "    </tr>\n",
       "    <tr>\n",
       "      <th>1</th>\n",
       "      <td>1</td>\n",
       "      <td>2017-06-16</td>\n",
       "      <td>2431.239990</td>\n",
       "      <td>2433.149902</td>\n",
       "      <td>2422.879883</td>\n",
       "      <td>2433.149902</td>\n",
       "      <td>2433.149902</td>\n",
       "      <td>5284720000</td>\n",
       "      <td>SP500_Ind</td>\n",
       "    </tr>\n",
       "    <tr>\n",
       "      <th>2</th>\n",
       "      <td>2</td>\n",
       "      <td>2017-06-19</td>\n",
       "      <td>2442.550049</td>\n",
       "      <td>2453.820068</td>\n",
       "      <td>2441.790039</td>\n",
       "      <td>2453.459961</td>\n",
       "      <td>2453.459961</td>\n",
       "      <td>3264700000</td>\n",
       "      <td>SP500_Ind</td>\n",
       "    </tr>\n",
       "    <tr>\n",
       "      <th>3</th>\n",
       "      <td>3</td>\n",
       "      <td>2017-06-20</td>\n",
       "      <td>2450.659912</td>\n",
       "      <td>2450.659912</td>\n",
       "      <td>2436.600098</td>\n",
       "      <td>2437.030029</td>\n",
       "      <td>2437.030029</td>\n",
       "      <td>3416510000</td>\n",
       "      <td>SP500_Ind</td>\n",
       "    </tr>\n",
       "    <tr>\n",
       "      <th>4</th>\n",
       "      <td>4</td>\n",
       "      <td>2017-06-21</td>\n",
       "      <td>2439.310059</td>\n",
       "      <td>2442.229980</td>\n",
       "      <td>2430.739990</td>\n",
       "      <td>2435.610107</td>\n",
       "      <td>2435.610107</td>\n",
       "      <td>3594820000</td>\n",
       "      <td>SP500_Ind</td>\n",
       "    </tr>\n",
       "  </tbody>\n",
       "</table>\n",
       "</div>"
      ],
      "text/plain": [
       "   Unnamed: 0        Date         Open         High          Low        Close  \\\n",
       "0           0  2017-06-15  2424.139893  2433.949951  2418.530029  2432.459961   \n",
       "1           1  2017-06-16  2431.239990  2433.149902  2422.879883  2433.149902   \n",
       "2           2  2017-06-19  2442.550049  2453.820068  2441.790039  2453.459961   \n",
       "3           3  2017-06-20  2450.659912  2450.659912  2436.600098  2437.030029   \n",
       "4           4  2017-06-21  2439.310059  2442.229980  2430.739990  2435.610107   \n",
       "\n",
       "     Adj Close      Volume     Ticker  \n",
       "0  2432.459961  3353050000  SP500_Ind  \n",
       "1  2433.149902  5284720000  SP500_Ind  \n",
       "2  2453.459961  3264700000  SP500_Ind  \n",
       "3  2437.030029  3416510000  SP500_Ind  \n",
       "4  2435.610107  3594820000  SP500_Ind  "
      ]
     },
     "execution_count": 4,
     "metadata": {},
     "output_type": "execute_result"
    }
   ],
   "source": [
    "data.head()"
   ]
  },
  {
   "cell_type": "code",
   "execution_count": 5,
   "metadata": {
    "colab": {
     "base_uri": "https://localhost:8080/",
     "height": 206
    },
    "id": "xX0OqOusnYnM",
    "outputId": "ac864f0c-37a3-4fad-84a4-08c4367aef37"
   },
   "outputs": [
    {
     "data": {
      "text/html": [
       "<div>\n",
       "<style scoped>\n",
       "    .dataframe tbody tr th:only-of-type {\n",
       "        vertical-align: middle;\n",
       "    }\n",
       "\n",
       "    .dataframe tbody tr th {\n",
       "        vertical-align: top;\n",
       "    }\n",
       "\n",
       "    .dataframe thead th {\n",
       "        text-align: right;\n",
       "    }\n",
       "</style>\n",
       "<table border=\"1\" class=\"dataframe\">\n",
       "  <thead>\n",
       "    <tr style=\"text-align: right;\">\n",
       "      <th></th>\n",
       "      <th>Unnamed: 0</th>\n",
       "      <th>Date</th>\n",
       "      <th>Open</th>\n",
       "      <th>High</th>\n",
       "      <th>Low</th>\n",
       "      <th>Close</th>\n",
       "      <th>Adj Close</th>\n",
       "      <th>Volume</th>\n",
       "      <th>Ticker</th>\n",
       "    </tr>\n",
       "  </thead>\n",
       "  <tbody>\n",
       "    <tr>\n",
       "      <th>1254</th>\n",
       "      <td>1254</td>\n",
       "      <td>2022-06-08</td>\n",
       "      <td>4147.120117</td>\n",
       "      <td>4160.140137</td>\n",
       "      <td>4107.200195</td>\n",
       "      <td>4115.770020</td>\n",
       "      <td>4115.770020</td>\n",
       "      <td>3090180000</td>\n",
       "      <td>SP500_Ind</td>\n",
       "    </tr>\n",
       "    <tr>\n",
       "      <th>1255</th>\n",
       "      <td>1255</td>\n",
       "      <td>2022-06-09</td>\n",
       "      <td>4101.649902</td>\n",
       "      <td>4119.100098</td>\n",
       "      <td>4017.169922</td>\n",
       "      <td>4017.820068</td>\n",
       "      <td>4017.820068</td>\n",
       "      <td>3192330000</td>\n",
       "      <td>SP500_Ind</td>\n",
       "    </tr>\n",
       "    <tr>\n",
       "      <th>1256</th>\n",
       "      <td>1256</td>\n",
       "      <td>2022-06-10</td>\n",
       "      <td>3974.389893</td>\n",
       "      <td>3974.389893</td>\n",
       "      <td>3900.159912</td>\n",
       "      <td>3900.860107</td>\n",
       "      <td>3900.860107</td>\n",
       "      <td>3936120000</td>\n",
       "      <td>SP500_Ind</td>\n",
       "    </tr>\n",
       "    <tr>\n",
       "      <th>1257</th>\n",
       "      <td>1257</td>\n",
       "      <td>2022-06-13</td>\n",
       "      <td>3838.149902</td>\n",
       "      <td>3838.149902</td>\n",
       "      <td>3734.300049</td>\n",
       "      <td>3749.629883</td>\n",
       "      <td>3749.629883</td>\n",
       "      <td>4572820000</td>\n",
       "      <td>SP500_Ind</td>\n",
       "    </tr>\n",
       "    <tr>\n",
       "      <th>1258</th>\n",
       "      <td>1258</td>\n",
       "      <td>2022-06-14</td>\n",
       "      <td>3763.520020</td>\n",
       "      <td>3778.179932</td>\n",
       "      <td>3705.679932</td>\n",
       "      <td>3735.479980</td>\n",
       "      <td>3735.479980</td>\n",
       "      <td>4126400000</td>\n",
       "      <td>SP500_Ind</td>\n",
       "    </tr>\n",
       "  </tbody>\n",
       "</table>\n",
       "</div>"
      ],
      "text/plain": [
       "      Unnamed: 0        Date         Open         High          Low  \\\n",
       "1254        1254  2022-06-08  4147.120117  4160.140137  4107.200195   \n",
       "1255        1255  2022-06-09  4101.649902  4119.100098  4017.169922   \n",
       "1256        1256  2022-06-10  3974.389893  3974.389893  3900.159912   \n",
       "1257        1257  2022-06-13  3838.149902  3838.149902  3734.300049   \n",
       "1258        1258  2022-06-14  3763.520020  3778.179932  3705.679932   \n",
       "\n",
       "            Close    Adj Close      Volume     Ticker  \n",
       "1254  4115.770020  4115.770020  3090180000  SP500_Ind  \n",
       "1255  4017.820068  4017.820068  3192330000  SP500_Ind  \n",
       "1256  3900.860107  3900.860107  3936120000  SP500_Ind  \n",
       "1257  3749.629883  3749.629883  4572820000  SP500_Ind  \n",
       "1258  3735.479980  3735.479980  4126400000  SP500_Ind  "
      ]
     },
     "execution_count": 5,
     "metadata": {},
     "output_type": "execute_result"
    }
   ],
   "source": [
    "data.tail()"
   ]
  },
  {
   "cell_type": "markdown",
   "metadata": {
    "id": "w4NSBwQgVuGz"
   },
   "source": [
    "<h3>Predicting returns on stock price</h3>\n",
    " \n",
    "- Here we will directly not predict future stock price, but will predict change in stock price ,because the return on stock price will be a stationery time series, which can give us better result than non stationery time series which is calculated using below formula \n",
    "\n",
    "- Return = (Price tomorrow  / Price today) -  1 \n"
   ]
  },
  {
   "cell_type": "code",
   "execution_count": 6,
   "metadata": {
    "id": "jKGvFFV8baz1"
   },
   "outputs": [],
   "source": [
    "data['returns'] = data['Open'].pct_change()\n",
    "data['returns'] = data['returns'].shift(-1)"
   ]
  },
  {
   "cell_type": "code",
   "execution_count": 7,
   "metadata": {
    "colab": {
     "base_uri": "https://localhost:8080/",
     "height": 206
    },
    "id": "IcsdQE6UJa4B",
    "outputId": "c4b2dce1-3823-4766-9797-ae0f5d0ba1fe"
   },
   "outputs": [
    {
     "data": {
      "text/html": [
       "<div>\n",
       "<style scoped>\n",
       "    .dataframe tbody tr th:only-of-type {\n",
       "        vertical-align: middle;\n",
       "    }\n",
       "\n",
       "    .dataframe tbody tr th {\n",
       "        vertical-align: top;\n",
       "    }\n",
       "\n",
       "    .dataframe thead th {\n",
       "        text-align: right;\n",
       "    }\n",
       "</style>\n",
       "<table border=\"1\" class=\"dataframe\">\n",
       "  <thead>\n",
       "    <tr style=\"text-align: right;\">\n",
       "      <th></th>\n",
       "      <th>Unnamed: 0</th>\n",
       "      <th>Date</th>\n",
       "      <th>Open</th>\n",
       "      <th>High</th>\n",
       "      <th>Low</th>\n",
       "      <th>Close</th>\n",
       "      <th>Adj Close</th>\n",
       "      <th>Volume</th>\n",
       "      <th>Ticker</th>\n",
       "      <th>returns</th>\n",
       "    </tr>\n",
       "  </thead>\n",
       "  <tbody>\n",
       "    <tr>\n",
       "      <th>0</th>\n",
       "      <td>0</td>\n",
       "      <td>2017-06-15</td>\n",
       "      <td>2424.139893</td>\n",
       "      <td>2433.949951</td>\n",
       "      <td>2418.530029</td>\n",
       "      <td>2432.459961</td>\n",
       "      <td>2432.459961</td>\n",
       "      <td>3353050000</td>\n",
       "      <td>SP500_Ind</td>\n",
       "      <td>0.002929</td>\n",
       "    </tr>\n",
       "    <tr>\n",
       "      <th>1</th>\n",
       "      <td>1</td>\n",
       "      <td>2017-06-16</td>\n",
       "      <td>2431.239990</td>\n",
       "      <td>2433.149902</td>\n",
       "      <td>2422.879883</td>\n",
       "      <td>2433.149902</td>\n",
       "      <td>2433.149902</td>\n",
       "      <td>5284720000</td>\n",
       "      <td>SP500_Ind</td>\n",
       "      <td>0.004652</td>\n",
       "    </tr>\n",
       "    <tr>\n",
       "      <th>2</th>\n",
       "      <td>2</td>\n",
       "      <td>2017-06-19</td>\n",
       "      <td>2442.550049</td>\n",
       "      <td>2453.820068</td>\n",
       "      <td>2441.790039</td>\n",
       "      <td>2453.459961</td>\n",
       "      <td>2453.459961</td>\n",
       "      <td>3264700000</td>\n",
       "      <td>SP500_Ind</td>\n",
       "      <td>0.003320</td>\n",
       "    </tr>\n",
       "    <tr>\n",
       "      <th>3</th>\n",
       "      <td>3</td>\n",
       "      <td>2017-06-20</td>\n",
       "      <td>2450.659912</td>\n",
       "      <td>2450.659912</td>\n",
       "      <td>2436.600098</td>\n",
       "      <td>2437.030029</td>\n",
       "      <td>2437.030029</td>\n",
       "      <td>3416510000</td>\n",
       "      <td>SP500_Ind</td>\n",
       "      <td>-0.004631</td>\n",
       "    </tr>\n",
       "    <tr>\n",
       "      <th>4</th>\n",
       "      <td>4</td>\n",
       "      <td>2017-06-21</td>\n",
       "      <td>2439.310059</td>\n",
       "      <td>2442.229980</td>\n",
       "      <td>2430.739990</td>\n",
       "      <td>2435.610107</td>\n",
       "      <td>2435.610107</td>\n",
       "      <td>3594820000</td>\n",
       "      <td>SP500_Ind</td>\n",
       "      <td>-0.000783</td>\n",
       "    </tr>\n",
       "  </tbody>\n",
       "</table>\n",
       "</div>"
      ],
      "text/plain": [
       "   Unnamed: 0        Date         Open         High          Low        Close  \\\n",
       "0           0  2017-06-15  2424.139893  2433.949951  2418.530029  2432.459961   \n",
       "1           1  2017-06-16  2431.239990  2433.149902  2422.879883  2433.149902   \n",
       "2           2  2017-06-19  2442.550049  2453.820068  2441.790039  2453.459961   \n",
       "3           3  2017-06-20  2450.659912  2450.659912  2436.600098  2437.030029   \n",
       "4           4  2017-06-21  2439.310059  2442.229980  2430.739990  2435.610107   \n",
       "\n",
       "     Adj Close      Volume     Ticker   returns  \n",
       "0  2432.459961  3353050000  SP500_Ind  0.002929  \n",
       "1  2433.149902  5284720000  SP500_Ind  0.004652  \n",
       "2  2453.459961  3264700000  SP500_Ind  0.003320  \n",
       "3  2437.030029  3416510000  SP500_Ind -0.004631  \n",
       "4  2435.610107  3594820000  SP500_Ind -0.000783  "
      ]
     },
     "execution_count": 7,
     "metadata": {},
     "output_type": "execute_result"
    }
   ],
   "source": [
    "data.head()"
   ]
  },
  {
   "cell_type": "markdown",
   "metadata": {
    "id": "MiQG1SgNYNj4"
   },
   "source": [
    "<h3>Conclusion :</h3>\n",
    "\n",
    "- So based on given input ['Date','Open','High','Low','Close','Volume'], return columns tell us the return for next day , that is why we used shift operator."
   ]
  },
  {
   "cell_type": "code",
   "execution_count": 8,
   "metadata": {
    "colab": {
     "base_uri": "https://localhost:8080/",
     "height": 206
    },
    "id": "yNQeCIq00pts",
    "outputId": "fe75273e-cf8f-48f5-efec-008a9feb9f30"
   },
   "outputs": [
    {
     "data": {
      "text/html": [
       "<div>\n",
       "<style scoped>\n",
       "    .dataframe tbody tr th:only-of-type {\n",
       "        vertical-align: middle;\n",
       "    }\n",
       "\n",
       "    .dataframe tbody tr th {\n",
       "        vertical-align: top;\n",
       "    }\n",
       "\n",
       "    .dataframe thead th {\n",
       "        text-align: right;\n",
       "    }\n",
       "</style>\n",
       "<table border=\"1\" class=\"dataframe\">\n",
       "  <thead>\n",
       "    <tr style=\"text-align: right;\">\n",
       "      <th></th>\n",
       "      <th>Unnamed: 0</th>\n",
       "      <th>Date</th>\n",
       "      <th>Open</th>\n",
       "      <th>High</th>\n",
       "      <th>Low</th>\n",
       "      <th>Close</th>\n",
       "      <th>Adj Close</th>\n",
       "      <th>Volume</th>\n",
       "      <th>Ticker</th>\n",
       "      <th>returns</th>\n",
       "    </tr>\n",
       "  </thead>\n",
       "  <tbody>\n",
       "    <tr>\n",
       "      <th>1254</th>\n",
       "      <td>1254</td>\n",
       "      <td>2022-06-08</td>\n",
       "      <td>4147.120117</td>\n",
       "      <td>4160.140137</td>\n",
       "      <td>4107.200195</td>\n",
       "      <td>4115.770020</td>\n",
       "      <td>4115.770020</td>\n",
       "      <td>3090180000</td>\n",
       "      <td>SP500_Ind</td>\n",
       "      <td>-0.010964</td>\n",
       "    </tr>\n",
       "    <tr>\n",
       "      <th>1255</th>\n",
       "      <td>1255</td>\n",
       "      <td>2022-06-09</td>\n",
       "      <td>4101.649902</td>\n",
       "      <td>4119.100098</td>\n",
       "      <td>4017.169922</td>\n",
       "      <td>4017.820068</td>\n",
       "      <td>4017.820068</td>\n",
       "      <td>3192330000</td>\n",
       "      <td>SP500_Ind</td>\n",
       "      <td>-0.031027</td>\n",
       "    </tr>\n",
       "    <tr>\n",
       "      <th>1256</th>\n",
       "      <td>1256</td>\n",
       "      <td>2022-06-10</td>\n",
       "      <td>3974.389893</td>\n",
       "      <td>3974.389893</td>\n",
       "      <td>3900.159912</td>\n",
       "      <td>3900.860107</td>\n",
       "      <td>3900.860107</td>\n",
       "      <td>3936120000</td>\n",
       "      <td>SP500_Ind</td>\n",
       "      <td>-0.034279</td>\n",
       "    </tr>\n",
       "    <tr>\n",
       "      <th>1257</th>\n",
       "      <td>1257</td>\n",
       "      <td>2022-06-13</td>\n",
       "      <td>3838.149902</td>\n",
       "      <td>3838.149902</td>\n",
       "      <td>3734.300049</td>\n",
       "      <td>3749.629883</td>\n",
       "      <td>3749.629883</td>\n",
       "      <td>4572820000</td>\n",
       "      <td>SP500_Ind</td>\n",
       "      <td>-0.019444</td>\n",
       "    </tr>\n",
       "    <tr>\n",
       "      <th>1258</th>\n",
       "      <td>1258</td>\n",
       "      <td>2022-06-14</td>\n",
       "      <td>3763.520020</td>\n",
       "      <td>3778.179932</td>\n",
       "      <td>3705.679932</td>\n",
       "      <td>3735.479980</td>\n",
       "      <td>3735.479980</td>\n",
       "      <td>4126400000</td>\n",
       "      <td>SP500_Ind</td>\n",
       "      <td>NaN</td>\n",
       "    </tr>\n",
       "  </tbody>\n",
       "</table>\n",
       "</div>"
      ],
      "text/plain": [
       "      Unnamed: 0        Date         Open         High          Low  \\\n",
       "1254        1254  2022-06-08  4147.120117  4160.140137  4107.200195   \n",
       "1255        1255  2022-06-09  4101.649902  4119.100098  4017.169922   \n",
       "1256        1256  2022-06-10  3974.389893  3974.389893  3900.159912   \n",
       "1257        1257  2022-06-13  3838.149902  3838.149902  3734.300049   \n",
       "1258        1258  2022-06-14  3763.520020  3778.179932  3705.679932   \n",
       "\n",
       "            Close    Adj Close      Volume     Ticker   returns  \n",
       "1254  4115.770020  4115.770020  3090180000  SP500_Ind -0.010964  \n",
       "1255  4017.820068  4017.820068  3192330000  SP500_Ind -0.031027  \n",
       "1256  3900.860107  3900.860107  3936120000  SP500_Ind -0.034279  \n",
       "1257  3749.629883  3749.629883  4572820000  SP500_Ind -0.019444  \n",
       "1258  3735.479980  3735.479980  4126400000  SP500_Ind       NaN  "
      ]
     },
     "execution_count": 8,
     "metadata": {},
     "output_type": "execute_result"
    }
   ],
   "source": [
    "data.tail()"
   ]
  },
  {
   "cell_type": "markdown",
   "metadata": {
    "id": "hPxpOZNzYxvP"
   },
   "source": [
    "<h3> Conclusion : </h3>\n",
    "\n",
    "- The last row is Null, because there is no next day to calculate , return on current day price"
   ]
  },
  {
   "cell_type": "code",
   "execution_count": 9,
   "metadata": {
    "colab": {
     "base_uri": "https://localhost:8080/"
    },
    "id": "Nj4lOORC_rIz",
    "outputId": "c7d10d32-b8b3-41ef-cb3c-fe2d867bde39"
   },
   "outputs": [
    {
     "data": {
      "text/plain": [
       "(1259, 10)"
      ]
     },
     "execution_count": 9,
     "metadata": {},
     "output_type": "execute_result"
    }
   ],
   "source": [
    "data.shape"
   ]
  },
  {
   "cell_type": "markdown",
   "metadata": {
    "id": "otH9Ln6uZZa4"
   },
   "source": [
    "<h3> Conclusion </h3>\n",
    "\n",
    "- We have 1259 row and 10 columns, and since last row is Null, we need to drop it"
   ]
  },
  {
   "cell_type": "code",
   "execution_count": 10,
   "metadata": {
    "id": "-yAC_GwHcD5t"
   },
   "outputs": [],
   "source": [
    "df = data[['Date','Open','High','Low','Close','Volume','returns']]"
   ]
  },
  {
   "cell_type": "code",
   "execution_count": 11,
   "metadata": {
    "colab": {
     "base_uri": "https://localhost:8080/",
     "height": 206
    },
    "id": "zZVMdz060UFW",
    "outputId": "6da23003-8609-4535-c958-f937074c4158"
   },
   "outputs": [
    {
     "data": {
      "text/html": [
       "<div>\n",
       "<style scoped>\n",
       "    .dataframe tbody tr th:only-of-type {\n",
       "        vertical-align: middle;\n",
       "    }\n",
       "\n",
       "    .dataframe tbody tr th {\n",
       "        vertical-align: top;\n",
       "    }\n",
       "\n",
       "    .dataframe thead th {\n",
       "        text-align: right;\n",
       "    }\n",
       "</style>\n",
       "<table border=\"1\" class=\"dataframe\">\n",
       "  <thead>\n",
       "    <tr style=\"text-align: right;\">\n",
       "      <th></th>\n",
       "      <th>Date</th>\n",
       "      <th>Open</th>\n",
       "      <th>High</th>\n",
       "      <th>Low</th>\n",
       "      <th>Close</th>\n",
       "      <th>Volume</th>\n",
       "      <th>returns</th>\n",
       "    </tr>\n",
       "  </thead>\n",
       "  <tbody>\n",
       "    <tr>\n",
       "      <th>0</th>\n",
       "      <td>2017-06-15</td>\n",
       "      <td>2424.139893</td>\n",
       "      <td>2433.949951</td>\n",
       "      <td>2418.530029</td>\n",
       "      <td>2432.459961</td>\n",
       "      <td>3353050000</td>\n",
       "      <td>0.002929</td>\n",
       "    </tr>\n",
       "    <tr>\n",
       "      <th>1</th>\n",
       "      <td>2017-06-16</td>\n",
       "      <td>2431.239990</td>\n",
       "      <td>2433.149902</td>\n",
       "      <td>2422.879883</td>\n",
       "      <td>2433.149902</td>\n",
       "      <td>5284720000</td>\n",
       "      <td>0.004652</td>\n",
       "    </tr>\n",
       "    <tr>\n",
       "      <th>2</th>\n",
       "      <td>2017-06-19</td>\n",
       "      <td>2442.550049</td>\n",
       "      <td>2453.820068</td>\n",
       "      <td>2441.790039</td>\n",
       "      <td>2453.459961</td>\n",
       "      <td>3264700000</td>\n",
       "      <td>0.003320</td>\n",
       "    </tr>\n",
       "    <tr>\n",
       "      <th>3</th>\n",
       "      <td>2017-06-20</td>\n",
       "      <td>2450.659912</td>\n",
       "      <td>2450.659912</td>\n",
       "      <td>2436.600098</td>\n",
       "      <td>2437.030029</td>\n",
       "      <td>3416510000</td>\n",
       "      <td>-0.004631</td>\n",
       "    </tr>\n",
       "    <tr>\n",
       "      <th>4</th>\n",
       "      <td>2017-06-21</td>\n",
       "      <td>2439.310059</td>\n",
       "      <td>2442.229980</td>\n",
       "      <td>2430.739990</td>\n",
       "      <td>2435.610107</td>\n",
       "      <td>3594820000</td>\n",
       "      <td>-0.000783</td>\n",
       "    </tr>\n",
       "  </tbody>\n",
       "</table>\n",
       "</div>"
      ],
      "text/plain": [
       "         Date         Open         High          Low        Close      Volume  \\\n",
       "0  2017-06-15  2424.139893  2433.949951  2418.530029  2432.459961  3353050000   \n",
       "1  2017-06-16  2431.239990  2433.149902  2422.879883  2433.149902  5284720000   \n",
       "2  2017-06-19  2442.550049  2453.820068  2441.790039  2453.459961  3264700000   \n",
       "3  2017-06-20  2450.659912  2450.659912  2436.600098  2437.030029  3416510000   \n",
       "4  2017-06-21  2439.310059  2442.229980  2430.739990  2435.610107  3594820000   \n",
       "\n",
       "    returns  \n",
       "0  0.002929  \n",
       "1  0.004652  \n",
       "2  0.003320  \n",
       "3 -0.004631  \n",
       "4 -0.000783  "
      ]
     },
     "execution_count": 11,
     "metadata": {},
     "output_type": "execute_result"
    }
   ],
   "source": [
    "df.head()"
   ]
  },
  {
   "cell_type": "code",
   "execution_count": 12,
   "metadata": {
    "colab": {
     "base_uri": "https://localhost:8080/",
     "height": 206
    },
    "id": "PW7LyX1xAq4c",
    "outputId": "3a25a79e-79d8-49df-94f9-472c7f62421d"
   },
   "outputs": [
    {
     "data": {
      "text/html": [
       "<div>\n",
       "<style scoped>\n",
       "    .dataframe tbody tr th:only-of-type {\n",
       "        vertical-align: middle;\n",
       "    }\n",
       "\n",
       "    .dataframe tbody tr th {\n",
       "        vertical-align: top;\n",
       "    }\n",
       "\n",
       "    .dataframe thead th {\n",
       "        text-align: right;\n",
       "    }\n",
       "</style>\n",
       "<table border=\"1\" class=\"dataframe\">\n",
       "  <thead>\n",
       "    <tr style=\"text-align: right;\">\n",
       "      <th></th>\n",
       "      <th>Date</th>\n",
       "      <th>Open</th>\n",
       "      <th>High</th>\n",
       "      <th>Low</th>\n",
       "      <th>Close</th>\n",
       "      <th>Volume</th>\n",
       "      <th>returns</th>\n",
       "    </tr>\n",
       "  </thead>\n",
       "  <tbody>\n",
       "    <tr>\n",
       "      <th>1254</th>\n",
       "      <td>2022-06-08</td>\n",
       "      <td>4147.120117</td>\n",
       "      <td>4160.140137</td>\n",
       "      <td>4107.200195</td>\n",
       "      <td>4115.770020</td>\n",
       "      <td>3090180000</td>\n",
       "      <td>-0.010964</td>\n",
       "    </tr>\n",
       "    <tr>\n",
       "      <th>1255</th>\n",
       "      <td>2022-06-09</td>\n",
       "      <td>4101.649902</td>\n",
       "      <td>4119.100098</td>\n",
       "      <td>4017.169922</td>\n",
       "      <td>4017.820068</td>\n",
       "      <td>3192330000</td>\n",
       "      <td>-0.031027</td>\n",
       "    </tr>\n",
       "    <tr>\n",
       "      <th>1256</th>\n",
       "      <td>2022-06-10</td>\n",
       "      <td>3974.389893</td>\n",
       "      <td>3974.389893</td>\n",
       "      <td>3900.159912</td>\n",
       "      <td>3900.860107</td>\n",
       "      <td>3936120000</td>\n",
       "      <td>-0.034279</td>\n",
       "    </tr>\n",
       "    <tr>\n",
       "      <th>1257</th>\n",
       "      <td>2022-06-13</td>\n",
       "      <td>3838.149902</td>\n",
       "      <td>3838.149902</td>\n",
       "      <td>3734.300049</td>\n",
       "      <td>3749.629883</td>\n",
       "      <td>4572820000</td>\n",
       "      <td>-0.019444</td>\n",
       "    </tr>\n",
       "    <tr>\n",
       "      <th>1258</th>\n",
       "      <td>2022-06-14</td>\n",
       "      <td>3763.520020</td>\n",
       "      <td>3778.179932</td>\n",
       "      <td>3705.679932</td>\n",
       "      <td>3735.479980</td>\n",
       "      <td>4126400000</td>\n",
       "      <td>NaN</td>\n",
       "    </tr>\n",
       "  </tbody>\n",
       "</table>\n",
       "</div>"
      ],
      "text/plain": [
       "            Date         Open         High          Low        Close  \\\n",
       "1254  2022-06-08  4147.120117  4160.140137  4107.200195  4115.770020   \n",
       "1255  2022-06-09  4101.649902  4119.100098  4017.169922  4017.820068   \n",
       "1256  2022-06-10  3974.389893  3974.389893  3900.159912  3900.860107   \n",
       "1257  2022-06-13  3838.149902  3838.149902  3734.300049  3749.629883   \n",
       "1258  2022-06-14  3763.520020  3778.179932  3705.679932  3735.479980   \n",
       "\n",
       "          Volume   returns  \n",
       "1254  3090180000 -0.010964  \n",
       "1255  3192330000 -0.031027  \n",
       "1256  3936120000 -0.034279  \n",
       "1257  4572820000 -0.019444  \n",
       "1258  4126400000       NaN  "
      ]
     },
     "execution_count": 12,
     "metadata": {},
     "output_type": "execute_result"
    }
   ],
   "source": [
    "df.tail()"
   ]
  },
  {
   "cell_type": "markdown",
   "metadata": {
    "id": "TiUpPp-DZ6qz"
   },
   "source": [
    "<h2> Plotting daily return on stock price </h2>"
   ]
  },
  {
   "cell_type": "code",
   "execution_count": 13,
   "metadata": {
    "id": "K8XYj-v0pqhD"
   },
   "outputs": [],
   "source": [
    "import matplotlib.pyplot as plt\n"
   ]
  },
  {
   "cell_type": "code",
   "execution_count": 14,
   "metadata": {
    "colab": {
     "base_uri": "https://localhost:8080/",
     "height": 394
    },
    "id": "N0E5FUAgEps2",
    "outputId": "86aa1763-c4f9-4dcb-f2f9-3feb54d1a018"
   },
   "outputs": [
    {
     "name": "stdout",
     "output_type": "stream",
     "text": [
      "Mean change in stock price : 0.0072080176890231855\n"
     ]
    },
    {
     "data": {
      "image/png": "[encoded data removed]",
      "text/plain": [
       "<Figure size 1152x432 with 2 Axes>"
      ]
     },
     "metadata": {
      "needs_background": "light"
     },
     "output_type": "display_data"
    }
   ],
   "source": [
    "fig, (ax1,ax2) = plt.subplots(1,2, figsize=(16,6))\n",
    "ax1.plot(df['returns'])\n",
    "ax2.hist(df['returns'], density = True)\n",
    "print(\"Mean change in stock price :\", abs(df['returns']).mean())"
   ]
  },
  {
   "cell_type": "markdown",
   "metadata": {
    "id": "agenvPl8aamB"
   },
   "source": [
    "<h3> Conclusion </h3>\n",
    "\n",
    "- From the above plot we can see that before covid in most cases fluctuation in return on index values on alternate days was between 0 - 0.06 but after covid it increased and reached in the range of 0 - 0.04.\n",
    "\n",
    "- But, During covid period daily fluctuation in return on index values reached to even 0.06%, which tells us how volatile the market had become during covid time\n",
    "- An the maximum return values lies in the range of -0.01 to + 0.01"
   ]
  },
  {
   "cell_type": "code",
   "execution_count": 15,
   "metadata": {
    "id": "DPzizlwSM37t"
   },
   "outputs": [],
   "source": [
    "data.dropna(inplace=True)\n",
    "X = data[['Open','High','Low','Close','Volume']].values"
   ]
  },
  {
   "cell_type": "code",
   "execution_count": 16,
   "metadata": {
    "id": "nI_OmwL3UpQp"
   },
   "outputs": [],
   "source": [
    "y = data[['returns']].values"
   ]
  },
  {
   "cell_type": "code",
   "execution_count": 17,
   "metadata": {
    "colab": {
     "base_uri": "https://localhost:8080/"
    },
    "id": "gyZW_M3EF5J_",
    "outputId": "2f5cd0af-9042-43f6-fc7e-8ab566053886"
   },
   "outputs": [
    {
     "data": {
      "text/plain": [
       "((1258, 5), (1258, 1))"
      ]
     },
     "execution_count": 17,
     "metadata": {},
     "output_type": "execute_result"
    }
   ],
   "source": [
    "X.shape, y.shape"
   ]
  },
  {
   "cell_type": "markdown",
   "metadata": {
    "id": "lDDw2RxZdGo6"
   },
   "source": [
    "<h3> Conclusion </h3>\n",
    "\n",
    "- After dropping the Null values and unnecessery columns, we are left with 1258 rows and 5 columns in independent features\n",
    "- And we have 1258 rows in dependent variable whih are continyous variable."
   ]
  },
  {
   "cell_type": "markdown",
   "metadata": {},
   "source": [
    "# LSTM MODEL"
   ]
  },
  {
   "attachments": {
    "image.png": {
     "image/png": "[encoded data removed]"
    }
   },
   "cell_type": "markdown",
   "metadata": {},
   "source": [
    "An enhanced RNN, or sequential network, called a long short-term memory network, permits information to endure. It is capable of resolving the RNN's vanishing gradient issue. RNNs, also referred to as recurrent neural networks, are utilised for persistent memory.\n",
    "\n",
    "<h3>LSTM Architecture</h3>\n",
    "\n",
    "LSTM functions on a high level very similarly to an RNN cell. The LSTM network's internal operation is seen below. Each of the three components that make up the LSTM—the input gate, forget gate, and update gate—performs a specific function.\n",
    "\n",
    "\n",
    "![image.png](attachment:image.png) \n",
    "\n",
    "Fig. LSTM architecture diagram by Christopher Olah (https://colah.github.io/posts/2015-08-Understanding-LSTMs/)\n"
   ]
  },
  {
   "attachments": {},
   "cell_type": "markdown",
   "metadata": {},
   "source": [
    "<h4>i. Forget Gate</h4>\n",
    "The initial step in an LSTM network cell is to choose whether to keep or discard the data from the preceding timestamp. The forget gate equation is given below.\n",
    "\n",
    "\n",
    "                                        ft = σ(Xt * Uf  + Ht-1* Wf)\n",
    "                                        \n",
    "                                        \n",
    "•\tXt: input to the current timestamp.\n",
    "•\tUf: weight associated with the input\n",
    "•\tHt-1: The hidden state of the previous timestamp\n",
    "•\tWf: It is the weight matrix associated with hidden state\n",
    "\n",
    "\n",
    "<h4>ii.Input Gate</h4>\n",
    "The value of the fresh information carried by the input is measured by the input gate. The input gate's equation is shown below.\n",
    "                                          it = σ(Xt * Ui  + Ht-1* Wi\n",
    " \n",
    "Here,\n",
    "•\tXt: Input at the current timestamp t\n",
    "•\tUi: weight matrix of input\n",
    "•\tHt-1: A hidden state at the previous timestamp\n",
    "•\tWi: Weight matrix of input associated with hidden state\n",
    "\n",
    "\n",
    "<h4>iii.Output Gate</h4>\n",
    "The Output gate's equation, which is quite similar to the equations for the two earlier gates, is shown below.\n",
    "\n",
    "                                            Ot = σ(Xt * Uo  + Ht-1* Wo\n",
    "\n",
    "                                           \n",
    " \n",
    "Due to this sigmoid function, it will also have a value between 0 and 1. We will now use Ot and tanh of the updated cell state to determine the current hidden state. As shown below.\n",
    "                                          \n",
    "                                          Ht = Ot * tanh(Ct)\n",
    " \n",
    "It turns out that the concealed state depends on both the present output and long-term memory (Ct). Simply activate SoftMax on hidden state Ht if you need to take the output of the current timestamp.\n",
    " \n",
    "                                           Output = Softmax(Ht)"
   ]
  },
  {
   "cell_type": "markdown",
   "metadata": {
    "id": "W5gh_oHxeNgm"
   },
   "source": [
    "<h1> 1. Data Preprocessing </h1>"
   ]
  },
  {
   "cell_type": "markdown",
   "metadata": {
    "id": "lxpWpNMNd-d-"
   },
   "source": [
    "<h3> Step 1.i. Scaling the feature variable </h3>\n",
    "\n",
    "- In machine learning algorithms if the values of the features are closer to each other, there are chances for the algorithm to get trained well and faster instead of the data set where the data points or features values have high differences with each other will take more time to understand the data and the accuracy will be lower."
   ]
  },
  {
   "cell_type": "code",
   "execution_count": 18,
   "metadata": {
    "id": "wYBefM4Xx7ag"
   },
   "outputs": [],
   "source": [
    "#from sklearn.preprocessing import StandardScaler\n",
    "from sklearn.preprocessing import MinMaxScaler\n",
    "scaler_x=MinMaxScaler()\n",
    "scaler_y=MinMaxScaler()\n",
    "X_scaled=scaler_x.fit_transform(np.array(X))\n",
    "Y_scaled=scaler_y.fit_transform(np.array(y))"
   ]
  },
  {
   "cell_type": "markdown",
   "metadata": {
    "id": "FBgreorFelft"
   },
   "source": [
    "<h3>Step 1.ii. Splitting the data into train and test data</h3>"
   ]
  },
  {
   "cell_type": "code",
   "execution_count": 19,
   "metadata": {
    "colab": {
     "base_uri": "https://localhost:8080/"
    },
    "id": "PuwnQ1TMOsY_",
    "outputId": "0fdfcc1e-104d-4468-b259-6a15f0348bd5"
   },
   "outputs": [
    {
     "name": "stdout",
     "output_type": "stream",
     "text": [
      "1132\n"
     ]
    }
   ],
   "source": [
    "split = int(len(X_scaled) * 0.9)\n",
    "print(split)"
   ]
  },
  {
   "cell_type": "code",
   "execution_count": 20,
   "metadata": {
    "id": "-0gehaGmx7ag"
   },
   "outputs": [],
   "source": [
    "##splitting dataset into train and test split\n",
    "X_tr, X_tst = X_scaled[:split], X_scaled[split:]\n"
   ]
  },
  {
   "cell_type": "code",
   "execution_count": 21,
   "metadata": {
    "colab": {
     "base_uri": "https://localhost:8080/"
    },
    "id": "oSje4gdSFK4D",
    "outputId": "ec11c120-0e8e-4dd9-a505-d1bc6c56904f"
   },
   "outputs": [
    {
     "data": {
      "text/plain": [
       "((1132, 5), (126, 5))"
      ]
     },
     "execution_count": 21,
     "metadata": {},
     "output_type": "execute_result"
    }
   ],
   "source": [
    "X_tr.shape, X_tst.shape"
   ]
  },
  {
   "cell_type": "code",
   "execution_count": 22,
   "metadata": {
    "id": "W-mxkI444If_"
   },
   "outputs": [],
   "source": [
    "##splitting dataset into train and test split\n",
    "y_tr, y_tst = Y_scaled[:split], Y_scaled[split:]"
   ]
  },
  {
   "cell_type": "code",
   "execution_count": 23,
   "metadata": {
    "colab": {
     "base_uri": "https://localhost:8080/"
    },
    "id": "_3q9OuP5IFoL",
    "outputId": "328c5237-6399-48a4-effb-d40fc01ec135"
   },
   "outputs": [
    {
     "data": {
      "text/plain": [
       "((1132, 1), (126, 1))"
      ]
     },
     "execution_count": 23,
     "metadata": {},
     "output_type": "execute_result"
    }
   ],
   "source": [
    "y_tr.shape, y_tst.shape"
   ]
  },
  {
   "cell_type": "markdown",
   "metadata": {
    "id": "FfwY-DKCe0m8"
   },
   "source": [
    "<h3> Conclusion </h3>\n",
    "\n",
    "- We have 1132 rows in training data and 126 rows in test data"
   ]
  },
  {
   "cell_type": "markdown",
   "metadata": {
    "id": "ZwAYl-z2f0Os"
   },
   "source": [
    "<h3>1.iii. Creating Dataset </h3>\n",
    "\n",
    "- Here we will be using LSTM to train our model, which takes sequence of time step input, instead of single input, so we need to prepare our dataset, which are sequence of time step input."
   ]
  },
  {
   "cell_type": "code",
   "execution_count": 24,
   "metadata": {
    "id": "6qgJp4dBx7ai"
   },
   "outputs": [],
   "source": [
    "# convert an array of values into a dataset matrix\n",
    "def create_dataset(data_x, data_y, time_step=1):\n",
    "\tdata_X, data_Y = [], []\n",
    "\tfor i in range(len(data_x)-time_step+1):\n",
    "\t\ta = data_x[i:(i+time_step), : ]   ###i=0, 0,1,2,3-----99   100 \n",
    "\t\tdata_X.append(a)\n",
    "\t\tdata_Y.append(data_y[i + time_step -1])\n",
    "\treturn np.array(data_X), np.array(data_Y)"
   ]
  },
  {
   "cell_type": "code",
   "execution_count": 27,
   "metadata": {
    "id": "wx5BKEmjx7ai"
   },
   "outputs": [],
   "source": [
    "# reshape into X=t,t+1,t+2,t+3 and Y=t+4\n",
    "time_step = 10 #e will use previous 10 days data to predict future date index value\n",
    "X_train, y_train = create_dataset(X_tr,y_tr, time_step)\n",
    "X_test, y_test = create_dataset(X_tst,y_tst, time_step)"
   ]
  },
  {
   "cell_type": "code",
   "execution_count": 28,
   "metadata": {
    "colab": {
     "base_uri": "https://localhost:8080/"
    },
    "id": "PJUoG4ooxXwU",
    "outputId": "ff3b1a4d-6d08-468d-f8fe-9a17fceb5b59"
   },
   "outputs": [
    {
     "data": {
      "text/plain": [
       "((1123, 10, 5), (1123, 1))"
      ]
     },
     "execution_count": 28,
     "metadata": {},
     "output_type": "execute_result"
    }
   ],
   "source": [
    "X_train.shape, y_train.shape"
   ]
  },
  {
   "cell_type": "code",
   "execution_count": 29,
   "metadata": {
    "colab": {
     "base_uri": "https://localhost:8080/"
    },
    "id": "FvmA9QZAgXLm",
    "outputId": "cdc2cf17-3096-42ec-8973-5aef0d30d9eb"
   },
   "outputs": [
    {
     "name": "stdout",
     "output_type": "stream",
     "text": [
      "Number of input rows =  1123\n",
      "Number of sequence input which will be fed into lstm model to train it =  10\n",
      "Number of columns =  5\n"
     ]
    }
   ],
   "source": [
    "print('Number of input rows = ',X_train.shape[0])\n",
    "print('Number of sequence input which will be fed into lstm model to train it = ',X_train.shape[1])\n",
    "print('Number of columns = ',X_train.shape[2])"
   ]
  },
  {
   "cell_type": "code",
   "execution_count": 30,
   "metadata": {
    "colab": {
     "base_uri": "https://localhost:8080/"
    },
    "id": "KdPmgNo2hPbb",
    "outputId": "7c01f600-e184-4a71-c40c-333d5bf237be"
   },
   "outputs": [
    {
     "data": {
      "text/plain": [
       "((117, 10, 5), (117, 1))"
      ]
     },
     "execution_count": 30,
     "metadata": {},
     "output_type": "execute_result"
    }
   ],
   "source": [
    "X_test.shape, y_test.shape"
   ]
  },
  {
   "cell_type": "code",
   "execution_count": 31,
   "metadata": {
    "id": "zZmH5aFix7ak"
   },
   "outputs": [],
   "source": [
    "# reshape input to be [samples, time steps, features] which is required for LSTM\n",
    "X_train =X_train.reshape(X_train.shape[0],X_train.shape[1] , X_train.shape[2])\n",
    "X_test = X_test.reshape(X_test.shape[0],X_test.shape[1] , X_test.shape[2])"
   ]
  },
  {
   "cell_type": "markdown",
   "metadata": {
    "id": "EYlnSAb7hlWR"
   },
   "source": [
    "<h1>2. Creating LSTM model</h1>"
   ]
  },
  {
   "cell_type": "code",
   "execution_count": 32,
   "metadata": {
    "id": "djPW09kyx7ak"
   },
   "outputs": [],
   "source": [
    "## importing necessery library\n",
    "from tensorflow.keras.models import Sequential\n",
    "from tensorflow.keras.layers import Dense\n",
    "from tensorflow.keras.layers import LSTM\n",
    "from tensorflow.keras.layers import Dropout"
   ]
  },
  {
   "cell_type": "code",
   "execution_count": 33,
   "metadata": {
    "id": "C0LcYTLbx7ak"
   },
   "outputs": [],
   "source": [
    "#creating stacked model\n",
    "model=Sequential()\n",
    "model.add(LSTM(50,return_sequences=True,input_shape=(X_train.shape[1],X_train.shape[2])))\n",
    "model.add(Dropout(0.3))\n",
    "model.add(LSTM(50,return_sequences=True))\n",
    "model.add(Dropout(0.3))\n",
    "model.add(LSTM(50))\n",
    "model.add(Dropout(0.3))\n",
    "model.add(Dense(1))\n",
    "model.compile(loss='mean_squared_error',optimizer='adam')"
   ]
  },
  {
   "cell_type": "code",
   "execution_count": 34,
   "metadata": {
    "colab": {
     "base_uri": "https://localhost:8080/"
    },
    "id": "aWfjeHIxx7ak",
    "outputId": "f9dc8463-2a30-4d1f-87ba-73bfc12391b1"
   },
   "outputs": [
    {
     "name": "stdout",
     "output_type": "stream",
     "text": [
      "Model: \"sequential\"\n",
      "_________________________________________________________________\n",
      " Layer (type)                Output Shape              Param #   \n",
      "=================================================================\n",
      " lstm (LSTM)                 (None, 10, 50)            11200     \n",
      "                                                                 \n",
      " dropout (Dropout)           (None, 10, 50)            0         \n",
      "                                                                 \n",
      " lstm_1 (LSTM)               (None, 10, 50)            20200     \n",
      "                                                                 \n",
      " dropout_1 (Dropout)         (None, 10, 50)            0         \n",
      "                                                                 \n",
      " lstm_2 (LSTM)               (None, 50)                20200     \n",
      "                                                                 \n",
      " dropout_2 (Dropout)         (None, 50)                0         \n",
      "                                                                 \n",
      " dense (Dense)               (None, 1)                 51        \n",
      "                                                                 \n",
      "=================================================================\n",
      "Total params: 51,651\n",
      "Trainable params: 51,651\n",
      "Non-trainable params: 0\n",
      "_________________________________________________________________\n"
     ]
    }
   ],
   "source": [
    "model.summary()"
   ]
  },
  {
   "cell_type": "markdown",
   "metadata": {
    "id": "wgf9Tdfhh10e"
   },
   "source": [
    "- Number of trainable parameters = 51,651, thsese parameter will predict future price for stock data based on 10 previous days\n",
    "\n"
   ]
  },
  {
   "cell_type": "code",
   "execution_count": 35,
   "metadata": {
    "colab": {
     "base_uri": "https://localhost:8080/"
    },
    "id": "KJOACl7-x7al",
    "outputId": "ef020aca-6970-43c6-9222-86cd50ac9117"
   },
   "outputs": [
    {
     "name": "stdout",
     "output_type": "stream",
     "text": [
      "Epoch 1/60\n",
      "18/18 [==============================] - 15s 166ms/step - loss: 0.0998 - val_loss: 0.0226\n",
      "Epoch 2/60\n",
      "18/18 [==============================] - 1s 29ms/step - loss: 0.0235 - val_loss: 0.0275\n",
      "Epoch 3/60\n",
      "18/18 [==============================] - 1s 28ms/step - loss: 0.0141 - val_loss: 0.0130\n",
      "Epoch 4/60\n",
      "18/18 [==============================] - 1s 28ms/step - loss: 0.0121 - val_loss: 0.0120\n",
      "Epoch 5/60\n",
      "18/18 [==============================] - 1s 29ms/step - loss: 0.0109 - val_loss: 0.0123\n",
      "Epoch 6/60\n",
      "18/18 [==============================] - 1s 28ms/step - loss: 0.0104 - val_loss: 0.0121\n",
      "Epoch 7/60\n",
      "18/18 [==============================] - 1s 28ms/step - loss: 0.0107 - val_loss: 0.0121\n",
      "Epoch 8/60\n",
      "18/18 [==============================] - 1s 28ms/step - loss: 0.0095 - val_loss: 0.0128\n",
      "Epoch 9/60\n",
      "18/18 [==============================] - 1s 28ms/step - loss: 0.0097 - val_loss: 0.0118\n",
      "Epoch 10/60\n",
      "18/18 [==============================] - 1s 28ms/step - loss: 0.0092 - val_loss: 0.0118\n",
      "Epoch 11/60\n",
      "18/18 [==============================] - 1s 28ms/step - loss: 0.0092 - val_loss: 0.0128\n",
      "Epoch 12/60\n",
      "18/18 [==============================] - 1s 28ms/step - loss: 0.0087 - val_loss: 0.0123\n",
      "Epoch 13/60\n",
      "18/18 [==============================] - 1s 28ms/step - loss: 0.0084 - val_loss: 0.0120\n",
      "Epoch 14/60\n",
      "18/18 [==============================] - 1s 28ms/step - loss: 0.0088 - val_loss: 0.0120\n",
      "Epoch 15/60\n",
      "18/18 [==============================] - 1s 28ms/step - loss: 0.0087 - val_loss: 0.0118\n",
      "Epoch 16/60\n",
      "18/18 [==============================] - 1s 28ms/step - loss: 0.0090 - val_loss: 0.0122\n",
      "Epoch 17/60\n",
      "18/18 [==============================] - 1s 28ms/step - loss: 0.0087 - val_loss: 0.0131\n",
      "Epoch 18/60\n",
      "18/18 [==============================] - 1s 29ms/step - loss: 0.0086 - val_loss: 0.0120\n",
      "Epoch 19/60\n",
      "18/18 [==============================] - 1s 28ms/step - loss: 0.0089 - val_loss: 0.0120\n",
      "Epoch 20/60\n",
      "18/18 [==============================] - 1s 28ms/step - loss: 0.0086 - val_loss: 0.0121\n",
      "Epoch 21/60\n",
      "18/18 [==============================] - 1s 28ms/step - loss: 0.0086 - val_loss: 0.0123\n",
      "Epoch 22/60\n",
      "18/18 [==============================] - 1s 29ms/step - loss: 0.0087 - val_loss: 0.0119\n",
      "Epoch 23/60\n",
      "18/18 [==============================] - 1s 28ms/step - loss: 0.0085 - val_loss: 0.0119\n",
      "Epoch 24/60\n",
      "18/18 [==============================] - 1s 28ms/step - loss: 0.0084 - val_loss: 0.0122\n",
      "Epoch 25/60\n",
      "18/18 [==============================] - 1s 28ms/step - loss: 0.0084 - val_loss: 0.0119\n",
      "Epoch 26/60\n",
      "18/18 [==============================] - 1s 28ms/step - loss: 0.0082 - val_loss: 0.0127\n",
      "Epoch 27/60\n",
      "18/18 [==============================] - 1s 29ms/step - loss: 0.0084 - val_loss: 0.0122\n",
      "Epoch 28/60\n",
      "18/18 [==============================] - 1s 28ms/step - loss: 0.0083 - val_loss: 0.0127\n",
      "Epoch 29/60\n",
      "18/18 [==============================] - 1s 28ms/step - loss: 0.0080 - val_loss: 0.0129\n",
      "Epoch 30/60\n",
      "18/18 [==============================] - 1s 28ms/step - loss: 0.0084 - val_loss: 0.0120\n",
      "Epoch 31/60\n",
      "18/18 [==============================] - 1s 28ms/step - loss: 0.0082 - val_loss: 0.0126\n",
      "Epoch 32/60\n",
      "18/18 [==============================] - 1s 28ms/step - loss: 0.0089 - val_loss: 0.0125\n",
      "Epoch 33/60\n",
      "18/18 [==============================] - 1s 29ms/step - loss: 0.0082 - val_loss: 0.0123\n",
      "Epoch 34/60\n",
      "18/18 [==============================] - 1s 28ms/step - loss: 0.0080 - val_loss: 0.0123\n",
      "Epoch 35/60\n",
      "18/18 [==============================] - 1s 29ms/step - loss: 0.0082 - val_loss: 0.0120\n",
      "Epoch 36/60\n",
      "18/18 [==============================] - 1s 31ms/step - loss: 0.0083 - val_loss: 0.0128\n",
      "Epoch 37/60\n",
      "18/18 [==============================] - 1s 28ms/step - loss: 0.0080 - val_loss: 0.0120\n",
      "Epoch 38/60\n",
      "18/18 [==============================] - 1s 28ms/step - loss: 0.0079 - val_loss: 0.0119\n",
      "Epoch 39/60\n",
      "18/18 [==============================] - 1s 28ms/step - loss: 0.0079 - val_loss: 0.0126\n",
      "Epoch 40/60\n",
      "18/18 [==============================] - 1s 28ms/step - loss: 0.0080 - val_loss: 0.0120\n",
      "Epoch 41/60\n",
      "18/18 [==============================] - 1s 28ms/step - loss: 0.0081 - val_loss: 0.0122\n",
      "Epoch 42/60\n",
      "18/18 [==============================] - 1s 28ms/step - loss: 0.0078 - val_loss: 0.0125\n",
      "Epoch 43/60\n",
      "18/18 [==============================] - 1s 28ms/step - loss: 0.0083 - val_loss: 0.0119\n",
      "Epoch 44/60\n",
      "18/18 [==============================] - 1s 29ms/step - loss: 0.0075 - val_loss: 0.0120\n",
      "Epoch 45/60\n",
      "18/18 [==============================] - 1s 28ms/step - loss: 0.0081 - val_loss: 0.0125\n",
      "Epoch 46/60\n",
      "18/18 [==============================] - 1s 29ms/step - loss: 0.0078 - val_loss: 0.0124\n",
      "Epoch 47/60\n",
      "18/18 [==============================] - 1s 29ms/step - loss: 0.0080 - val_loss: 0.0128\n",
      "Epoch 48/60\n",
      "18/18 [==============================] - 1s 28ms/step - loss: 0.0074 - val_loss: 0.0121\n",
      "Epoch 49/60\n",
      "18/18 [==============================] - 1s 28ms/step - loss: 0.0078 - val_loss: 0.0122\n",
      "Epoch 50/60\n",
      "18/18 [==============================] - 1s 28ms/step - loss: 0.0075 - val_loss: 0.0129\n",
      "Epoch 51/60\n",
      "18/18 [==============================] - 1s 29ms/step - loss: 0.0076 - val_loss: 0.0120\n",
      "Epoch 52/60\n",
      "18/18 [==============================] - 1s 28ms/step - loss: 0.0076 - val_loss: 0.0127\n",
      "Epoch 53/60\n",
      "18/18 [==============================] - 1s 28ms/step - loss: 0.0077 - val_loss: 0.0123\n",
      "Epoch 54/60\n",
      "18/18 [==============================] - 1s 28ms/step - loss: 0.0074 - val_loss: 0.0120\n",
      "Epoch 55/60\n",
      "18/18 [==============================] - 1s 28ms/step - loss: 0.0077 - val_loss: 0.0120\n",
      "Epoch 56/60\n",
      "18/18 [==============================] - 1s 28ms/step - loss: 0.0076 - val_loss: 0.0125\n",
      "Epoch 57/60\n",
      "18/18 [==============================] - 1s 29ms/step - loss: 0.0076 - val_loss: 0.0124\n",
      "Epoch 58/60\n",
      "18/18 [==============================] - 1s 29ms/step - loss: 0.0076 - val_loss: 0.0126\n",
      "Epoch 59/60\n",
      "18/18 [==============================] - 1s 30ms/step - loss: 0.0075 - val_loss: 0.0124\n",
      "Epoch 60/60\n",
      "18/18 [==============================] - 1s 28ms/step - loss: 0.0075 - val_loss: 0.0120\n"
     ]
    },
    {
     "data": {
      "text/plain": [
       "<keras.callbacks.History at 0x1d271d4c130>"
      ]
     },
     "execution_count": 35,
     "metadata": {},
     "output_type": "execute_result"
    }
   ],
   "source": [
    "#training the model\n",
    "model.fit(X_train,y_train,validation_data=(X_test,y_test),epochs=60,batch_size=64,verbose=1)"
   ]
  },
  {
   "cell_type": "markdown",
   "metadata": {
    "id": "HJXOewc3icOm"
   },
   "source": [
    "<h3> Conclusion </h3>\n",
    "\n",
    " - Imp point to be noted here is that, mean squarred error at each epoch is not for predicted price of stock , but for return values."
   ]
  },
  {
   "cell_type": "code",
   "execution_count": 36,
   "metadata": {
    "id": "RDkkL8yax7am"
   },
   "outputs": [
    {
     "name": "stdout",
     "output_type": "stream",
     "text": [
      "36/36 [==============================] - 2s 8ms/step\n",
      "4/4 [==============================] - 0s 13ms/step\n"
     ]
    }
   ],
   "source": [
    "### Lets Do the prediction and check performance metrics\n",
    "train_predict=model.predict(X_train)\n",
    "test_predict=model.predict(X_test)"
   ]
  },
  {
   "cell_type": "code",
   "execution_count": 37,
   "metadata": {
    "colab": {
     "base_uri": "https://localhost:8080/"
    },
    "id": "nZp0i2_Ts3aq",
    "outputId": "8ed872bc-e9f0-4652-8167-ee6aaccc76c0"
   },
   "outputs": [
    {
     "data": {
      "text/plain": [
       "((1123, 1), (117, 1))"
      ]
     },
     "execution_count": 37,
     "metadata": {},
     "output_type": "execute_result"
    }
   ],
   "source": [
    "train_predict.shape, test_predict.shape"
   ]
  },
  {
   "cell_type": "markdown",
   "metadata": {
    "id": "4eDgbfKbkA6G"
   },
   "source": [
    "<h3> Creating single row data</h3>\n",
    "\n",
    "- During the training of our model we used 63 days of stok info, but to analyse the performence of our model, we will only take last day stock info and ignore the remaining 62 days info."
   ]
  },
  {
   "cell_type": "code",
   "execution_count": 38,
   "metadata": {
    "colab": {
     "base_uri": "https://localhost:8080/"
    },
    "id": "5UKOU_n2kIH8",
    "outputId": "260e98da-0b8d-4ebe-b2a5-46c73e62561a"
   },
   "outputs": [
    {
     "data": {
      "text/plain": [
       "(1123, 10, 5)"
      ]
     },
     "execution_count": 38,
     "metadata": {},
     "output_type": "execute_result"
    }
   ],
   "source": [
    "X_train.shape"
   ]
  },
  {
   "cell_type": "code",
   "execution_count": 39,
   "metadata": {
    "id": "1N4q51wfTafa"
   },
   "outputs": [],
   "source": [
    "x_train = []\n",
    "for timestep in X_train :\n",
    "  x_train.append(timestep[time_step-1])"
   ]
  },
  {
   "cell_type": "code",
   "execution_count": 40,
   "metadata": {
    "colab": {
     "base_uri": "https://localhost:8080/"
    },
    "id": "Q0-8ue-IkdDM",
    "outputId": "bd64f749-6526-43f0-e062-28ddb8520b8f"
   },
   "outputs": [
    {
     "data": {
      "text/plain": [
       "array([0.05489299, 0.05649174, 0.09124555, 0.07943623, 0.25686185])"
      ]
     },
     "execution_count": 40,
     "metadata": {},
     "output_type": "execute_result"
    }
   ],
   "source": [
    "x_train[0]"
   ]
  },
  {
   "cell_type": "code",
   "execution_count": 41,
   "metadata": {
    "colab": {
     "base_uri": "https://localhost:8080/"
    },
    "id": "q-Anjeqytmd3",
    "outputId": "b40333ef-c7b0-439a-8691-2c6ae1ae492e"
   },
   "outputs": [
    {
     "data": {
      "text/plain": [
       "array([0.54796121])"
      ]
     },
     "execution_count": 41,
     "metadata": {},
     "output_type": "execute_result"
    }
   ],
   "source": [
    "y_tr[0]"
   ]
  },
  {
   "cell_type": "code",
   "execution_count": 42,
   "metadata": {
    "id": "3JMOkY34lNiV"
   },
   "outputs": [],
   "source": [
    "x_test = []\n",
    "for timestep in X_test :\n",
    "  x_test.append(timestep[time_step-1])"
   ]
  },
  {
   "cell_type": "markdown",
   "metadata": {
    "id": "s-OudFzukg50"
   },
   "source": [
    "<h3> Scaling up the data </h3> \n",
    "\n",
    "- During the min max scaling process, we scale down every values in between 0-1, and now we will upscale the values in their original values"
   ]
  },
  {
   "cell_type": "code",
   "execution_count": 43,
   "metadata": {
    "id": "rqBCir7eKslC"
   },
   "outputs": [],
   "source": [
    "x_train = scaler_x.inverse_transform(x_train)"
   ]
  },
  {
   "cell_type": "code",
   "execution_count": 44,
   "metadata": {
    "id": "vXd0OulnuKuq"
   },
   "outputs": [],
   "source": [
    "y_train = scaler_y.inverse_transform(y_train)"
   ]
  },
  {
   "cell_type": "code",
   "execution_count": 45,
   "metadata": {
    "colab": {
     "base_uri": "https://localhost:8080/"
    },
    "id": "6kiFuYKkYV-4",
    "outputId": "763fb72f-37ae-4f06-bb9d-ea562a9744a7"
   },
   "outputs": [
    {
     "data": {
      "text/plain": [
       "(array([2.42869995e+03, 2.44296997e+03, 2.42802002e+03, 2.44068994e+03,\n",
       "        3.50080000e+09]),\n",
       " array([0.00563262]))"
      ]
     },
     "execution_count": 45,
     "metadata": {},
     "output_type": "execute_result"
    }
   ],
   "source": [
    "x_train[0], y_train[0]"
   ]
  },
  {
   "cell_type": "code",
   "execution_count": 46,
   "metadata": {
    "id": "NV3cwLLeuipn"
   },
   "outputs": [],
   "source": [
    "train_predict=scaler_y.inverse_transform(train_predict)"
   ]
  },
  {
   "cell_type": "code",
   "execution_count": 47,
   "metadata": {
    "colab": {
     "base_uri": "https://localhost:8080/"
    },
    "id": "ReQKiM0qu19b",
    "outputId": "c4c9af3f-5450-4b97-9d63-0bf94dc2aa50"
   },
   "outputs": [
    {
     "data": {
      "text/plain": [
       "array([-0.00019619], dtype=float32)"
      ]
     },
     "execution_count": 47,
     "metadata": {},
     "output_type": "execute_result"
    }
   ],
   "source": [
    "train_predict[0]"
   ]
  },
  {
   "cell_type": "code",
   "execution_count": 48,
   "metadata": {
    "id": "kzt-kELuNtEv"
   },
   "outputs": [],
   "source": [
    "x_test = scaler_x.inverse_transform(x_test)"
   ]
  },
  {
   "cell_type": "code",
   "execution_count": 49,
   "metadata": {
    "id": "Z9MR5xshPXKr"
   },
   "outputs": [],
   "source": [
    "y_test = y_test.reshape(-1,1)"
   ]
  },
  {
   "cell_type": "code",
   "execution_count": 50,
   "metadata": {
    "id": "XxDM6dyeO30j"
   },
   "outputs": [],
   "source": [
    "y_test = scaler_y.inverse_transform(y_test)"
   ]
  },
  {
   "cell_type": "code",
   "execution_count": 51,
   "metadata": {
    "id": "J3Ta7DYKwXC-"
   },
   "outputs": [],
   "source": [
    "test_predict=scaler_y.inverse_transform(test_predict)"
   ]
  },
  {
   "cell_type": "markdown",
   "metadata": {
    "id": "v9mEx6ejl9IP"
   },
   "source": [
    "<h1>4.Creating Dataframe for train and test data to better analyse and visualise the data.</h1>"
   ]
  },
  {
   "cell_type": "code",
   "execution_count": 52,
   "metadata": {
    "id": "YHCgoKNwP-io"
   },
   "outputs": [],
   "source": [
    "#concatinating dependent and independent features in training data\n",
    "X_train = np.concatenate((x_train,y_train,train_predict), axis = 1)"
   ]
  },
  {
   "cell_type": "code",
   "execution_count": 53,
   "metadata": {
    "id": "CdqDS-AQRY8a"
   },
   "outputs": [],
   "source": [
    "#concatinating dependent and independent features in test data\n",
    "X_test = np.concatenate((x_test,y_test,test_predict), axis = 1)"
   ]
  },
  {
   "cell_type": "code",
   "execution_count": 54,
   "metadata": {
    "id": "wZitm3APSRgu"
   },
   "outputs": [],
   "source": [
    "#Creating pandas dataframe for training data\n",
    "X_train = pd.DataFrame(X_train, columns = ['Open','High','Low','Close','Volume','returns','pred_return'])"
   ]
  },
  {
   "cell_type": "code",
   "execution_count": 55,
   "metadata": {
    "id": "BfhMzMJwS9jP"
   },
   "outputs": [],
   "source": [
    "#Creating pandas dataframe for test data\n",
    "X_test = pd.DataFrame(X_test, columns = ['Open','High','Low','Close','Volume','returns','pred_return'])"
   ]
  },
  {
   "cell_type": "code",
   "execution_count": 56,
   "metadata": {
    "colab": {
     "base_uri": "https://localhost:8080/",
     "height": 206
    },
    "id": "kRNkD1t5xOWo",
    "outputId": "241c553c-6019-4c2a-8962-8fb346b10fcc"
   },
   "outputs": [
    {
     "data": {
      "text/html": [
       "<div>\n",
       "<style scoped>\n",
       "    .dataframe tbody tr th:only-of-type {\n",
       "        vertical-align: middle;\n",
       "    }\n",
       "\n",
       "    .dataframe tbody tr th {\n",
       "        vertical-align: top;\n",
       "    }\n",
       "\n",
       "    .dataframe thead th {\n",
       "        text-align: right;\n",
       "    }\n",
       "</style>\n",
       "<table border=\"1\" class=\"dataframe\">\n",
       "  <thead>\n",
       "    <tr style=\"text-align: right;\">\n",
       "      <th></th>\n",
       "      <th>Open</th>\n",
       "      <th>High</th>\n",
       "      <th>Low</th>\n",
       "      <th>Close</th>\n",
       "      <th>Volume</th>\n",
       "      <th>returns</th>\n",
       "      <th>pred_return</th>\n",
       "    </tr>\n",
       "  </thead>\n",
       "  <tbody>\n",
       "    <tr>\n",
       "      <th>0</th>\n",
       "      <td>2428.699951</td>\n",
       "      <td>2442.969971</td>\n",
       "      <td>2428.020020</td>\n",
       "      <td>2440.689941</td>\n",
       "      <td>3.500800e+09</td>\n",
       "      <td>0.005633</td>\n",
       "      <td>-0.000196</td>\n",
       "    </tr>\n",
       "    <tr>\n",
       "      <th>1</th>\n",
       "      <td>2442.379883</td>\n",
       "      <td>2442.729980</td>\n",
       "      <td>2405.699951</td>\n",
       "      <td>2419.699951</td>\n",
       "      <td>3.900280e+09</td>\n",
       "      <td>-0.005396</td>\n",
       "      <td>-0.000182</td>\n",
       "    </tr>\n",
       "    <tr>\n",
       "      <th>2</th>\n",
       "      <td>2429.199951</td>\n",
       "      <td>2432.709961</td>\n",
       "      <td>2421.649902</td>\n",
       "      <td>2423.409912</td>\n",
       "      <td>3.361590e+09</td>\n",
       "      <td>0.000902</td>\n",
       "      <td>-0.000260</td>\n",
       "    </tr>\n",
       "    <tr>\n",
       "      <th>3</th>\n",
       "      <td>2431.389893</td>\n",
       "      <td>2439.169922</td>\n",
       "      <td>2428.689941</td>\n",
       "      <td>2429.010010</td>\n",
       "      <td>1.962290e+09</td>\n",
       "      <td>-0.000251</td>\n",
       "      <td>-0.000240</td>\n",
       "    </tr>\n",
       "    <tr>\n",
       "      <th>4</th>\n",
       "      <td>2430.780029</td>\n",
       "      <td>2434.899902</td>\n",
       "      <td>2422.050049</td>\n",
       "      <td>2432.540039</td>\n",
       "      <td>3.367220e+09</td>\n",
       "      <td>-0.003020</td>\n",
       "      <td>-0.000234</td>\n",
       "    </tr>\n",
       "  </tbody>\n",
       "</table>\n",
       "</div>"
      ],
      "text/plain": [
       "          Open         High          Low        Close        Volume   returns  \\\n",
       "0  2428.699951  2442.969971  2428.020020  2440.689941  3.500800e+09  0.005633   \n",
       "1  2442.379883  2442.729980  2405.699951  2419.699951  3.900280e+09 -0.005396   \n",
       "2  2429.199951  2432.709961  2421.649902  2423.409912  3.361590e+09  0.000902   \n",
       "3  2431.389893  2439.169922  2428.689941  2429.010010  1.962290e+09 -0.000251   \n",
       "4  2430.780029  2434.899902  2422.050049  2432.540039  3.367220e+09 -0.003020   \n",
       "\n",
       "   pred_return  \n",
       "0    -0.000196  \n",
       "1    -0.000182  \n",
       "2    -0.000260  \n",
       "3    -0.000240  \n",
       "4    -0.000234  "
      ]
     },
     "execution_count": 56,
     "metadata": {},
     "output_type": "execute_result"
    }
   ],
   "source": [
    "X_train.head()"
   ]
  },
  {
   "cell_type": "markdown",
   "metadata": {
    "id": "peCcQ2WCmeUP"
   },
   "source": [
    "<h3> Calculating original future stock price from return values </h3>\n",
    "\n",
    "- Return = (Price tomorrow  / Price today) -  1 \n",
    "- =>  Return + 1 = Price tomorrow  / Price today\n",
    "- =>  Price tomorrow = Price today * (Return + 1)"
   ]
  },
  {
   "cell_type": "code",
   "execution_count": 57,
   "metadata": {
    "id": "dMa5WlQ8xUzM"
   },
   "outputs": [],
   "source": [
    "X_train['pred_output'] = X_train['Open'] * (1+X_train['pred_return'])\n"
   ]
  },
  {
   "cell_type": "code",
   "execution_count": 58,
   "metadata": {
    "id": "M_mND5JE_jK4"
   },
   "outputs": [],
   "source": [
    "#this future stock price column will be used to test our prediction\n",
    "X_train['future_output'] = X_train['Open'].shift(-1)"
   ]
  },
  {
   "cell_type": "code",
   "execution_count": 59,
   "metadata": {
    "colab": {
     "base_uri": "https://localhost:8080/",
     "height": 206
    },
    "id": "GETCtTdQxbSM",
    "outputId": "340cf6cb-bac0-4907-d3dd-b664a1993093"
   },
   "outputs": [
    {
     "data": {
      "text/html": [
       "<div>\n",
       "<style scoped>\n",
       "    .dataframe tbody tr th:only-of-type {\n",
       "        vertical-align: middle;\n",
       "    }\n",
       "\n",
       "    .dataframe tbody tr th {\n",
       "        vertical-align: top;\n",
       "    }\n",
       "\n",
       "    .dataframe thead th {\n",
       "        text-align: right;\n",
       "    }\n",
       "</style>\n",
       "<table border=\"1\" class=\"dataframe\">\n",
       "  <thead>\n",
       "    <tr style=\"text-align: right;\">\n",
       "      <th></th>\n",
       "      <th>Open</th>\n",
       "      <th>High</th>\n",
       "      <th>Low</th>\n",
       "      <th>Close</th>\n",
       "      <th>Volume</th>\n",
       "      <th>returns</th>\n",
       "      <th>pred_return</th>\n",
       "      <th>pred_output</th>\n",
       "      <th>future_output</th>\n",
       "    </tr>\n",
       "  </thead>\n",
       "  <tbody>\n",
       "    <tr>\n",
       "      <th>0</th>\n",
       "      <td>2428.699951</td>\n",
       "      <td>2442.969971</td>\n",
       "      <td>2428.020020</td>\n",
       "      <td>2440.689941</td>\n",
       "      <td>3.500800e+09</td>\n",
       "      <td>0.005633</td>\n",
       "      <td>-0.000196</td>\n",
       "      <td>2428.223459</td>\n",
       "      <td>2442.379883</td>\n",
       "    </tr>\n",
       "    <tr>\n",
       "      <th>1</th>\n",
       "      <td>2442.379883</td>\n",
       "      <td>2442.729980</td>\n",
       "      <td>2405.699951</td>\n",
       "      <td>2419.699951</td>\n",
       "      <td>3.900280e+09</td>\n",
       "      <td>-0.005396</td>\n",
       "      <td>-0.000182</td>\n",
       "      <td>2441.935696</td>\n",
       "      <td>2429.199951</td>\n",
       "    </tr>\n",
       "    <tr>\n",
       "      <th>2</th>\n",
       "      <td>2429.199951</td>\n",
       "      <td>2432.709961</td>\n",
       "      <td>2421.649902</td>\n",
       "      <td>2423.409912</td>\n",
       "      <td>3.361590e+09</td>\n",
       "      <td>0.000902</td>\n",
       "      <td>-0.000260</td>\n",
       "      <td>2428.567607</td>\n",
       "      <td>2431.389893</td>\n",
       "    </tr>\n",
       "    <tr>\n",
       "      <th>3</th>\n",
       "      <td>2431.389893</td>\n",
       "      <td>2439.169922</td>\n",
       "      <td>2428.689941</td>\n",
       "      <td>2429.010010</td>\n",
       "      <td>1.962290e+09</td>\n",
       "      <td>-0.000251</td>\n",
       "      <td>-0.000240</td>\n",
       "      <td>2430.806746</td>\n",
       "      <td>2430.780029</td>\n",
       "    </tr>\n",
       "    <tr>\n",
       "      <th>4</th>\n",
       "      <td>2430.780029</td>\n",
       "      <td>2434.899902</td>\n",
       "      <td>2422.050049</td>\n",
       "      <td>2432.540039</td>\n",
       "      <td>3.367220e+09</td>\n",
       "      <td>-0.003020</td>\n",
       "      <td>-0.000234</td>\n",
       "      <td>2430.211942</td>\n",
       "      <td>2423.439941</td>\n",
       "    </tr>\n",
       "  </tbody>\n",
       "</table>\n",
       "</div>"
      ],
      "text/plain": [
       "          Open         High          Low        Close        Volume   returns  \\\n",
       "0  2428.699951  2442.969971  2428.020020  2440.689941  3.500800e+09  0.005633   \n",
       "1  2442.379883  2442.729980  2405.699951  2419.699951  3.900280e+09 -0.005396   \n",
       "2  2429.199951  2432.709961  2421.649902  2423.409912  3.361590e+09  0.000902   \n",
       "3  2431.389893  2439.169922  2428.689941  2429.010010  1.962290e+09 -0.000251   \n",
       "4  2430.780029  2434.899902  2422.050049  2432.540039  3.367220e+09 -0.003020   \n",
       "\n",
       "   pred_return  pred_output  future_output  \n",
       "0    -0.000196  2428.223459    2442.379883  \n",
       "1    -0.000182  2441.935696    2429.199951  \n",
       "2    -0.000260  2428.567607    2431.389893  \n",
       "3    -0.000240  2430.806746    2430.780029  \n",
       "4    -0.000234  2430.211942    2423.439941  "
      ]
     },
     "execution_count": 59,
     "metadata": {},
     "output_type": "execute_result"
    }
   ],
   "source": [
    "X_train.head()"
   ]
  },
  {
   "cell_type": "code",
   "execution_count": 60,
   "metadata": {
    "colab": {
     "base_uri": "https://localhost:8080/",
     "height": 206
    },
    "id": "BX18lnJG07Qd",
    "outputId": "cc3cffbd-9f50-4dd1-9fea-ee54bc437e54"
   },
   "outputs": [
    {
     "data": {
      "text/html": [
       "<div>\n",
       "<style scoped>\n",
       "    .dataframe tbody tr th:only-of-type {\n",
       "        vertical-align: middle;\n",
       "    }\n",
       "\n",
       "    .dataframe tbody tr th {\n",
       "        vertical-align: top;\n",
       "    }\n",
       "\n",
       "    .dataframe thead th {\n",
       "        text-align: right;\n",
       "    }\n",
       "</style>\n",
       "<table border=\"1\" class=\"dataframe\">\n",
       "  <thead>\n",
       "    <tr style=\"text-align: right;\">\n",
       "      <th></th>\n",
       "      <th>Open</th>\n",
       "      <th>High</th>\n",
       "      <th>Low</th>\n",
       "      <th>Close</th>\n",
       "      <th>Volume</th>\n",
       "      <th>returns</th>\n",
       "      <th>pred_return</th>\n",
       "      <th>pred_output</th>\n",
       "      <th>future_output</th>\n",
       "    </tr>\n",
       "  </thead>\n",
       "  <tbody>\n",
       "    <tr>\n",
       "      <th>1118</th>\n",
       "      <td>4548.370117</td>\n",
       "      <td>4612.600098</td>\n",
       "      <td>4540.509766</td>\n",
       "      <td>4591.669922</td>\n",
       "      <td>3.305690e+09</td>\n",
       "      <td>0.018380</td>\n",
       "      <td>-0.000586</td>\n",
       "      <td>4545.703317</td>\n",
       "      <td>4631.970215</td>\n",
       "    </tr>\n",
       "    <tr>\n",
       "      <th>1119</th>\n",
       "      <td>4631.970215</td>\n",
       "      <td>4694.040039</td>\n",
       "      <td>4631.970215</td>\n",
       "      <td>4686.750000</td>\n",
       "      <td>3.334320e+09</td>\n",
       "      <td>0.012714</td>\n",
       "      <td>-0.000581</td>\n",
       "      <td>4629.277169</td>\n",
       "      <td>4690.859863</td>\n",
       "    </tr>\n",
       "    <tr>\n",
       "      <th>1120</th>\n",
       "      <td>4690.859863</td>\n",
       "      <td>4705.060059</td>\n",
       "      <td>4674.520020</td>\n",
       "      <td>4701.209961</td>\n",
       "      <td>3.061550e+09</td>\n",
       "      <td>0.000030</td>\n",
       "      <td>-0.000578</td>\n",
       "      <td>4688.150762</td>\n",
       "      <td>4691.000000</td>\n",
       "    </tr>\n",
       "    <tr>\n",
       "      <th>1121</th>\n",
       "      <td>4691.000000</td>\n",
       "      <td>4695.259766</td>\n",
       "      <td>4665.979980</td>\n",
       "      <td>4667.450195</td>\n",
       "      <td>2.851660e+09</td>\n",
       "      <td>-0.000716</td>\n",
       "      <td>-0.000546</td>\n",
       "      <td>4688.440289</td>\n",
       "      <td>4687.640137</td>\n",
       "    </tr>\n",
       "    <tr>\n",
       "      <th>1122</th>\n",
       "      <td>4687.640137</td>\n",
       "      <td>4713.569824</td>\n",
       "      <td>4670.240234</td>\n",
       "      <td>4712.020020</td>\n",
       "      <td>2.858310e+09</td>\n",
       "      <td>0.004834</td>\n",
       "      <td>-0.000498</td>\n",
       "      <td>4685.307422</td>\n",
       "      <td>NaN</td>\n",
       "    </tr>\n",
       "  </tbody>\n",
       "</table>\n",
       "</div>"
      ],
      "text/plain": [
       "             Open         High          Low        Close        Volume  \\\n",
       "1118  4548.370117  4612.600098  4540.509766  4591.669922  3.305690e+09   \n",
       "1119  4631.970215  4694.040039  4631.970215  4686.750000  3.334320e+09   \n",
       "1120  4690.859863  4705.060059  4674.520020  4701.209961  3.061550e+09   \n",
       "1121  4691.000000  4695.259766  4665.979980  4667.450195  2.851660e+09   \n",
       "1122  4687.640137  4713.569824  4670.240234  4712.020020  2.858310e+09   \n",
       "\n",
       "       returns  pred_return  pred_output  future_output  \n",
       "1118  0.018380    -0.000586  4545.703317    4631.970215  \n",
       "1119  0.012714    -0.000581  4629.277169    4690.859863  \n",
       "1120  0.000030    -0.000578  4688.150762    4691.000000  \n",
       "1121 -0.000716    -0.000546  4688.440289    4687.640137  \n",
       "1122  0.004834    -0.000498  4685.307422            NaN  "
      ]
     },
     "execution_count": 60,
     "metadata": {},
     "output_type": "execute_result"
    }
   ],
   "source": [
    "X_train.tail()"
   ]
  },
  {
   "cell_type": "markdown",
   "metadata": {
    "id": "qCZL0LpqoHgW"
   },
   "source": [
    "<h3> Conclusion </h3>\n",
    "\n",
    "- There is null values in future output column for last row, becaues there is no future values for last column"
   ]
  },
  {
   "cell_type": "code",
   "execution_count": 61,
   "metadata": {
    "id": "j_Gxz63LaEFV"
   },
   "outputs": [],
   "source": [
    "X_test['pred_output'] = X_test['Open'] * (1+X_test['pred_return'])\n"
   ]
  },
  {
   "cell_type": "code",
   "execution_count": 62,
   "metadata": {
    "id": "-9XwMELt_9Y9"
   },
   "outputs": [],
   "source": [
    "X_test['future_output'] = X_test['Open'].shift(-1)"
   ]
  },
  {
   "cell_type": "code",
   "execution_count": 63,
   "metadata": {
    "colab": {
     "base_uri": "https://localhost:8080/",
     "height": 206
    },
    "id": "0FxwIIJdyONf",
    "outputId": "691dd8fe-9d06-437b-c114-b38bc62c602e"
   },
   "outputs": [
    {
     "data": {
      "text/html": [
       "<div>\n",
       "<style scoped>\n",
       "    .dataframe tbody tr th:only-of-type {\n",
       "        vertical-align: middle;\n",
       "    }\n",
       "\n",
       "    .dataframe tbody tr th {\n",
       "        vertical-align: top;\n",
       "    }\n",
       "\n",
       "    .dataframe thead th {\n",
       "        text-align: right;\n",
       "    }\n",
       "</style>\n",
       "<table border=\"1\" class=\"dataframe\">\n",
       "  <thead>\n",
       "    <tr style=\"text-align: right;\">\n",
       "      <th></th>\n",
       "      <th>Open</th>\n",
       "      <th>High</th>\n",
       "      <th>Low</th>\n",
       "      <th>Close</th>\n",
       "      <th>Volume</th>\n",
       "      <th>returns</th>\n",
       "      <th>pred_return</th>\n",
       "      <th>pred_output</th>\n",
       "      <th>future_output</th>\n",
       "    </tr>\n",
       "  </thead>\n",
       "  <tbody>\n",
       "    <tr>\n",
       "      <th>0</th>\n",
       "      <td>4733.990234</td>\n",
       "      <td>4791.490234</td>\n",
       "      <td>4733.990234</td>\n",
       "      <td>4791.189941</td>\n",
       "      <td>2.264120e+09</td>\n",
       "      <td>0.012991</td>\n",
       "      <td>-0.000489</td>\n",
       "      <td>4731.676668</td>\n",
       "      <td>4795.490234</td>\n",
       "    </tr>\n",
       "    <tr>\n",
       "      <th>1</th>\n",
       "      <td>4795.490234</td>\n",
       "      <td>4807.020020</td>\n",
       "      <td>4780.040039</td>\n",
       "      <td>4786.350098</td>\n",
       "      <td>2.217050e+09</td>\n",
       "      <td>-0.001428</td>\n",
       "      <td>-0.000460</td>\n",
       "      <td>4793.283109</td>\n",
       "      <td>4788.640137</td>\n",
       "    </tr>\n",
       "    <tr>\n",
       "      <th>2</th>\n",
       "      <td>4788.640137</td>\n",
       "      <td>4804.060059</td>\n",
       "      <td>4778.080078</td>\n",
       "      <td>4793.060059</td>\n",
       "      <td>2.369370e+09</td>\n",
       "      <td>0.001167</td>\n",
       "      <td>-0.000437</td>\n",
       "      <td>4786.549413</td>\n",
       "      <td>4794.229980</td>\n",
       "    </tr>\n",
       "    <tr>\n",
       "      <th>3</th>\n",
       "      <td>4794.229980</td>\n",
       "      <td>4808.930176</td>\n",
       "      <td>4775.330078</td>\n",
       "      <td>4778.729980</td>\n",
       "      <td>2.390990e+09</td>\n",
       "      <td>-0.003967</td>\n",
       "      <td>-0.000426</td>\n",
       "      <td>4792.187848</td>\n",
       "      <td>4775.209961</td>\n",
       "    </tr>\n",
       "    <tr>\n",
       "      <th>4</th>\n",
       "      <td>4775.209961</td>\n",
       "      <td>4786.830078</td>\n",
       "      <td>4765.750000</td>\n",
       "      <td>4766.180176</td>\n",
       "      <td>2.446190e+09</td>\n",
       "      <td>0.000614</td>\n",
       "      <td>-0.000404</td>\n",
       "      <td>4773.282069</td>\n",
       "      <td>4778.140137</td>\n",
       "    </tr>\n",
       "  </tbody>\n",
       "</table>\n",
       "</div>"
      ],
      "text/plain": [
       "          Open         High          Low        Close        Volume   returns  \\\n",
       "0  4733.990234  4791.490234  4733.990234  4791.189941  2.264120e+09  0.012991   \n",
       "1  4795.490234  4807.020020  4780.040039  4786.350098  2.217050e+09 -0.001428   \n",
       "2  4788.640137  4804.060059  4778.080078  4793.060059  2.369370e+09  0.001167   \n",
       "3  4794.229980  4808.930176  4775.330078  4778.729980  2.390990e+09 -0.003967   \n",
       "4  4775.209961  4786.830078  4765.750000  4766.180176  2.446190e+09  0.000614   \n",
       "\n",
       "   pred_return  pred_output  future_output  \n",
       "0    -0.000489  4731.676668    4795.490234  \n",
       "1    -0.000460  4793.283109    4788.640137  \n",
       "2    -0.000437  4786.549413    4794.229980  \n",
       "3    -0.000426  4792.187848    4775.209961  \n",
       "4    -0.000404  4773.282069    4778.140137  "
      ]
     },
     "execution_count": 63,
     "metadata": {},
     "output_type": "execute_result"
    }
   ],
   "source": [
    "X_test.head()"
   ]
  },
  {
   "cell_type": "code",
   "execution_count": 64,
   "metadata": {
    "colab": {
     "base_uri": "https://localhost:8080/",
     "height": 206
    },
    "id": "JjTN9j09ydSd",
    "outputId": "9afd3610-a6d8-40d0-c766-ade3394ec9d9"
   },
   "outputs": [
    {
     "data": {
      "text/html": [
       "<div>\n",
       "<style scoped>\n",
       "    .dataframe tbody tr th:only-of-type {\n",
       "        vertical-align: middle;\n",
       "    }\n",
       "\n",
       "    .dataframe tbody tr th {\n",
       "        vertical-align: top;\n",
       "    }\n",
       "\n",
       "    .dataframe thead th {\n",
       "        text-align: right;\n",
       "    }\n",
       "</style>\n",
       "<table border=\"1\" class=\"dataframe\">\n",
       "  <thead>\n",
       "    <tr style=\"text-align: right;\">\n",
       "      <th></th>\n",
       "      <th>Open</th>\n",
       "      <th>High</th>\n",
       "      <th>Low</th>\n",
       "      <th>Close</th>\n",
       "      <th>Volume</th>\n",
       "      <th>returns</th>\n",
       "      <th>pred_return</th>\n",
       "      <th>pred_output</th>\n",
       "      <th>future_output</th>\n",
       "    </tr>\n",
       "  </thead>\n",
       "  <tbody>\n",
       "    <tr>\n",
       "      <th>112</th>\n",
       "      <td>4096.470215</td>\n",
       "      <td>4164.859863</td>\n",
       "      <td>4080.189941</td>\n",
       "      <td>4160.680176</td>\n",
       "      <td>3.476470e+09</td>\n",
       "      <td>0.012364</td>\n",
       "      <td>-0.000752</td>\n",
       "      <td>4093.387725</td>\n",
       "      <td>4147.120117</td>\n",
       "    </tr>\n",
       "    <tr>\n",
       "      <th>113</th>\n",
       "      <td>4147.120117</td>\n",
       "      <td>4160.140137</td>\n",
       "      <td>4107.200195</td>\n",
       "      <td>4115.770020</td>\n",
       "      <td>3.090180e+09</td>\n",
       "      <td>-0.010964</td>\n",
       "      <td>-0.000749</td>\n",
       "      <td>4144.012641</td>\n",
       "      <td>4101.649902</td>\n",
       "    </tr>\n",
       "    <tr>\n",
       "      <th>114</th>\n",
       "      <td>4101.649902</td>\n",
       "      <td>4119.100098</td>\n",
       "      <td>4017.169922</td>\n",
       "      <td>4017.820068</td>\n",
       "      <td>3.192330e+09</td>\n",
       "      <td>-0.031027</td>\n",
       "      <td>-0.000777</td>\n",
       "      <td>4098.463147</td>\n",
       "      <td>3974.389893</td>\n",
       "    </tr>\n",
       "    <tr>\n",
       "      <th>115</th>\n",
       "      <td>3974.389893</td>\n",
       "      <td>3974.389893</td>\n",
       "      <td>3900.159912</td>\n",
       "      <td>3900.860107</td>\n",
       "      <td>3.936120e+09</td>\n",
       "      <td>-0.034279</td>\n",
       "      <td>-0.000814</td>\n",
       "      <td>3971.155403</td>\n",
       "      <td>3838.149902</td>\n",
       "    </tr>\n",
       "    <tr>\n",
       "      <th>116</th>\n",
       "      <td>3838.149902</td>\n",
       "      <td>3838.149902</td>\n",
       "      <td>3734.300049</td>\n",
       "      <td>3749.629883</td>\n",
       "      <td>4.572820e+09</td>\n",
       "      <td>-0.019444</td>\n",
       "      <td>-0.000853</td>\n",
       "      <td>3834.877085</td>\n",
       "      <td>NaN</td>\n",
       "    </tr>\n",
       "  </tbody>\n",
       "</table>\n",
       "</div>"
      ],
      "text/plain": [
       "            Open         High          Low        Close        Volume  \\\n",
       "112  4096.470215  4164.859863  4080.189941  4160.680176  3.476470e+09   \n",
       "113  4147.120117  4160.140137  4107.200195  4115.770020  3.090180e+09   \n",
       "114  4101.649902  4119.100098  4017.169922  4017.820068  3.192330e+09   \n",
       "115  3974.389893  3974.389893  3900.159912  3900.860107  3.936120e+09   \n",
       "116  3838.149902  3838.149902  3734.300049  3749.629883  4.572820e+09   \n",
       "\n",
       "      returns  pred_return  pred_output  future_output  \n",
       "112  0.012364    -0.000752  4093.387725    4147.120117  \n",
       "113 -0.010964    -0.000749  4144.012641    4101.649902  \n",
       "114 -0.031027    -0.000777  4098.463147    3974.389893  \n",
       "115 -0.034279    -0.000814  3971.155403    3838.149902  \n",
       "116 -0.019444    -0.000853  3834.877085            NaN  "
      ]
     },
     "execution_count": 64,
     "metadata": {},
     "output_type": "execute_result"
    }
   ],
   "source": [
    "X_test.tail()"
   ]
  },
  {
   "cell_type": "code",
   "execution_count": 65,
   "metadata": {
    "id": "a4nhPtkYzTga"
   },
   "outputs": [],
   "source": [
    "#let' analyse the loss\n",
    "# function to calculate absolute percentage error\n",
    "def cal_ape(y_true, y_pred):\n",
    "    ape = abs((y_true-y_pred)/y_true) *100\n",
    "    return ape"
   ]
  },
  {
   "cell_type": "code",
   "execution_count": 66,
   "metadata": {
    "id": "gsG-oDkizXEE"
   },
   "outputs": [],
   "source": [
    "X_train['abs_perc_error'] = cal_ape(X_train['pred_output'], X_train['future_output'])"
   ]
  },
  {
   "cell_type": "code",
   "execution_count": 67,
   "metadata": {
    "id": "gT5efDvwbi6H"
   },
   "outputs": [],
   "source": [
    "X_test['abs_perc_error'] = cal_ape(X_test['pred_output'], X_test['future_output'])"
   ]
  },
  {
   "cell_type": "code",
   "execution_count": 68,
   "metadata": {
    "colab": {
     "base_uri": "https://localhost:8080/",
     "height": 206
    },
    "id": "JmzGuAWybQER",
    "outputId": "556093f8-c36a-42bf-dff8-463404a36b41"
   },
   "outputs": [
    {
     "data": {
      "text/html": [
       "<div>\n",
       "<style scoped>\n",
       "    .dataframe tbody tr th:only-of-type {\n",
       "        vertical-align: middle;\n",
       "    }\n",
       "\n",
       "    .dataframe tbody tr th {\n",
       "        vertical-align: top;\n",
       "    }\n",
       "\n",
       "    .dataframe thead th {\n",
       "        text-align: right;\n",
       "    }\n",
       "</style>\n",
       "<table border=\"1\" class=\"dataframe\">\n",
       "  <thead>\n",
       "    <tr style=\"text-align: right;\">\n",
       "      <th></th>\n",
       "      <th>Open</th>\n",
       "      <th>High</th>\n",
       "      <th>Low</th>\n",
       "      <th>Close</th>\n",
       "      <th>Volume</th>\n",
       "      <th>returns</th>\n",
       "      <th>pred_return</th>\n",
       "      <th>pred_output</th>\n",
       "      <th>future_output</th>\n",
       "      <th>abs_perc_error</th>\n",
       "    </tr>\n",
       "  </thead>\n",
       "  <tbody>\n",
       "    <tr>\n",
       "      <th>0</th>\n",
       "      <td>4733.990234</td>\n",
       "      <td>4791.490234</td>\n",
       "      <td>4733.990234</td>\n",
       "      <td>4791.189941</td>\n",
       "      <td>2.264120e+09</td>\n",
       "      <td>0.012991</td>\n",
       "      <td>-0.000489</td>\n",
       "      <td>4731.676668</td>\n",
       "      <td>4795.490234</td>\n",
       "      <td>1.348646</td>\n",
       "    </tr>\n",
       "    <tr>\n",
       "      <th>1</th>\n",
       "      <td>4795.490234</td>\n",
       "      <td>4807.020020</td>\n",
       "      <td>4780.040039</td>\n",
       "      <td>4786.350098</td>\n",
       "      <td>2.217050e+09</td>\n",
       "      <td>-0.001428</td>\n",
       "      <td>-0.000460</td>\n",
       "      <td>4793.283109</td>\n",
       "      <td>4788.640137</td>\n",
       "      <td>0.096864</td>\n",
       "    </tr>\n",
       "    <tr>\n",
       "      <th>2</th>\n",
       "      <td>4788.640137</td>\n",
       "      <td>4804.060059</td>\n",
       "      <td>4778.080078</td>\n",
       "      <td>4793.060059</td>\n",
       "      <td>2.369370e+09</td>\n",
       "      <td>0.001167</td>\n",
       "      <td>-0.000437</td>\n",
       "      <td>4786.549413</td>\n",
       "      <td>4794.229980</td>\n",
       "      <td>0.160461</td>\n",
       "    </tr>\n",
       "    <tr>\n",
       "      <th>3</th>\n",
       "      <td>4794.229980</td>\n",
       "      <td>4808.930176</td>\n",
       "      <td>4775.330078</td>\n",
       "      <td>4778.729980</td>\n",
       "      <td>2.390990e+09</td>\n",
       "      <td>-0.003967</td>\n",
       "      <td>-0.000426</td>\n",
       "      <td>4792.187848</td>\n",
       "      <td>4775.209961</td>\n",
       "      <td>0.354283</td>\n",
       "    </tr>\n",
       "    <tr>\n",
       "      <th>4</th>\n",
       "      <td>4775.209961</td>\n",
       "      <td>4786.830078</td>\n",
       "      <td>4765.750000</td>\n",
       "      <td>4766.180176</td>\n",
       "      <td>2.446190e+09</td>\n",
       "      <td>0.000614</td>\n",
       "      <td>-0.000404</td>\n",
       "      <td>4773.282069</td>\n",
       "      <td>4778.140137</td>\n",
       "      <td>0.101776</td>\n",
       "    </tr>\n",
       "  </tbody>\n",
       "</table>\n",
       "</div>"
      ],
      "text/plain": [
       "          Open         High          Low        Close        Volume   returns  \\\n",
       "0  4733.990234  4791.490234  4733.990234  4791.189941  2.264120e+09  0.012991   \n",
       "1  4795.490234  4807.020020  4780.040039  4786.350098  2.217050e+09 -0.001428   \n",
       "2  4788.640137  4804.060059  4778.080078  4793.060059  2.369370e+09  0.001167   \n",
       "3  4794.229980  4808.930176  4775.330078  4778.729980  2.390990e+09 -0.003967   \n",
       "4  4775.209961  4786.830078  4765.750000  4766.180176  2.446190e+09  0.000614   \n",
       "\n",
       "   pred_return  pred_output  future_output  abs_perc_error  \n",
       "0    -0.000489  4731.676668    4795.490234        1.348646  \n",
       "1    -0.000460  4793.283109    4788.640137        0.096864  \n",
       "2    -0.000437  4786.549413    4794.229980        0.160461  \n",
       "3    -0.000426  4792.187848    4775.209961        0.354283  \n",
       "4    -0.000404  4773.282069    4778.140137        0.101776  "
      ]
     },
     "execution_count": 68,
     "metadata": {},
     "output_type": "execute_result"
    }
   ],
   "source": [
    "X_test.head()"
   ]
  },
  {
   "cell_type": "code",
   "execution_count": 69,
   "metadata": {
    "colab": {
     "base_uri": "https://localhost:8080/",
     "height": 206
    },
    "id": "nHsqN-2Dbriy",
    "outputId": "56bfff12-3448-4a5f-cbd8-bf7a4c467d34"
   },
   "outputs": [
    {
     "data": {
      "text/html": [
       "<div>\n",
       "<style scoped>\n",
       "    .dataframe tbody tr th:only-of-type {\n",
       "        vertical-align: middle;\n",
       "    }\n",
       "\n",
       "    .dataframe tbody tr th {\n",
       "        vertical-align: top;\n",
       "    }\n",
       "\n",
       "    .dataframe thead th {\n",
       "        text-align: right;\n",
       "    }\n",
       "</style>\n",
       "<table border=\"1\" class=\"dataframe\">\n",
       "  <thead>\n",
       "    <tr style=\"text-align: right;\">\n",
       "      <th></th>\n",
       "      <th>Open</th>\n",
       "      <th>High</th>\n",
       "      <th>Low</th>\n",
       "      <th>Close</th>\n",
       "      <th>Volume</th>\n",
       "      <th>returns</th>\n",
       "      <th>pred_return</th>\n",
       "      <th>pred_output</th>\n",
       "      <th>future_output</th>\n",
       "      <th>abs_perc_error</th>\n",
       "    </tr>\n",
       "  </thead>\n",
       "  <tbody>\n",
       "    <tr>\n",
       "      <th>112</th>\n",
       "      <td>4096.470215</td>\n",
       "      <td>4164.859863</td>\n",
       "      <td>4080.189941</td>\n",
       "      <td>4160.680176</td>\n",
       "      <td>3.476470e+09</td>\n",
       "      <td>0.012364</td>\n",
       "      <td>-0.000752</td>\n",
       "      <td>4093.387725</td>\n",
       "      <td>4147.120117</td>\n",
       "      <td>1.312663</td>\n",
       "    </tr>\n",
       "    <tr>\n",
       "      <th>113</th>\n",
       "      <td>4147.120117</td>\n",
       "      <td>4160.140137</td>\n",
       "      <td>4107.200195</td>\n",
       "      <td>4115.770020</td>\n",
       "      <td>3.090180e+09</td>\n",
       "      <td>-0.010964</td>\n",
       "      <td>-0.000749</td>\n",
       "      <td>4144.012641</td>\n",
       "      <td>4101.649902</td>\n",
       "      <td>1.022264</td>\n",
       "    </tr>\n",
       "    <tr>\n",
       "      <th>114</th>\n",
       "      <td>4101.649902</td>\n",
       "      <td>4119.100098</td>\n",
       "      <td>4017.169922</td>\n",
       "      <td>4017.820068</td>\n",
       "      <td>3.192330e+09</td>\n",
       "      <td>-0.031027</td>\n",
       "      <td>-0.000777</td>\n",
       "      <td>4098.463147</td>\n",
       "      <td>3974.389893</td>\n",
       "      <td>3.027312</td>\n",
       "    </tr>\n",
       "    <tr>\n",
       "      <th>115</th>\n",
       "      <td>3974.389893</td>\n",
       "      <td>3974.389893</td>\n",
       "      <td>3900.159912</td>\n",
       "      <td>3900.860107</td>\n",
       "      <td>3.936120e+09</td>\n",
       "      <td>-0.034279</td>\n",
       "      <td>-0.000814</td>\n",
       "      <td>3971.155403</td>\n",
       "      <td>3838.149902</td>\n",
       "      <td>3.349290</td>\n",
       "    </tr>\n",
       "    <tr>\n",
       "      <th>116</th>\n",
       "      <td>3838.149902</td>\n",
       "      <td>3838.149902</td>\n",
       "      <td>3734.300049</td>\n",
       "      <td>3749.629883</td>\n",
       "      <td>4.572820e+09</td>\n",
       "      <td>-0.019444</td>\n",
       "      <td>-0.000853</td>\n",
       "      <td>3834.877085</td>\n",
       "      <td>NaN</td>\n",
       "      <td>NaN</td>\n",
       "    </tr>\n",
       "  </tbody>\n",
       "</table>\n",
       "</div>"
      ],
      "text/plain": [
       "            Open         High          Low        Close        Volume  \\\n",
       "112  4096.470215  4164.859863  4080.189941  4160.680176  3.476470e+09   \n",
       "113  4147.120117  4160.140137  4107.200195  4115.770020  3.090180e+09   \n",
       "114  4101.649902  4119.100098  4017.169922  4017.820068  3.192330e+09   \n",
       "115  3974.389893  3974.389893  3900.159912  3900.860107  3.936120e+09   \n",
       "116  3838.149902  3838.149902  3734.300049  3749.629883  4.572820e+09   \n",
       "\n",
       "      returns  pred_return  pred_output  future_output  abs_perc_error  \n",
       "112  0.012364    -0.000752  4093.387725    4147.120117        1.312663  \n",
       "113 -0.010964    -0.000749  4144.012641    4101.649902        1.022264  \n",
       "114 -0.031027    -0.000777  4098.463147    3974.389893        3.027312  \n",
       "115 -0.034279    -0.000814  3971.155403    3838.149902        3.349290  \n",
       "116 -0.019444    -0.000853  3834.877085            NaN             NaN  "
      ]
     },
     "execution_count": 69,
     "metadata": {},
     "output_type": "execute_result"
    }
   ],
   "source": [
    "X_test.tail()"
   ]
  },
  {
   "cell_type": "code",
   "execution_count": 70,
   "metadata": {
    "colab": {
     "base_uri": "https://localhost:8080/",
     "height": 374
    },
    "id": "nSyHWtRSqwF7",
    "outputId": "6b11e9ff-cf1b-49ec-8162-0b03e5fac359"
   },
   "outputs": [
    {
     "data": {
      "image/png": "[encoded data removed]",
      "text/plain": [
       "<Figure size 1296x432 with 1 Axes>"
      ]
     },
     "metadata": {
      "needs_background": "light"
     },
     "output_type": "display_data"
    }
   ],
   "source": [
    "fig, ax = plt.subplots(figsize = (18,6))\n",
    "plt.plot(X_train['future_output'],label='Next day Opening price of S&P 500 ind value ')\n",
    "plt.plot(X_train['pred_output'],label = 'Output predicted by lstm model')\n",
    "plt.legend()\n",
    "plt.show()"
   ]
  },
  {
   "cell_type": "code",
   "execution_count": 71,
   "metadata": {
    "colab": {
     "base_uri": "https://localhost:8080/",
     "height": 374
    },
    "id": "bccSVgraq0DF",
    "outputId": "e0766837-6fba-47d3-fe5a-cc5a7edfd683"
   },
   "outputs": [
    {
     "data": {
      "image/png": "[encoded data removed]",
      "text/plain": [
       "<Figure size 1296x432 with 1 Axes>"
      ]
     },
     "metadata": {
      "needs_background": "light"
     },
     "output_type": "display_data"
    }
   ],
   "source": [
    "fig, ax = plt.subplots(figsize = (18,6))\n",
    "plt.plot(X_test['future_output'],label='Next daya pening price of S&P 500 ind value')\n",
    "plt.plot(X_test['pred_output'],label = 'Output predicted by lstm model')\n",
    "plt.legend()\n",
    "plt.show()"
   ]
  },
  {
   "cell_type": "code",
   "execution_count": 72,
   "metadata": {
    "id": "OOkBQWTtz2eu"
   },
   "outputs": [],
   "source": [
    "def plot_dist_error(data):\n",
    "    fig, (ax1,ax2) = plt.subplots(1,2, figsize=(16,5))\n",
    "\n",
    "    ax1.plot(data.dropna())\n",
    "    ax2.hist(data.dropna(), density = True)\n",
    "    \n",
    "    mape = data.mean()\n",
    "    print(f'Mean absolute percentage error of the model is : {mape:.3f} %')"
   ]
  },
  {
   "cell_type": "code",
   "execution_count": 73,
   "metadata": {
    "colab": {
     "base_uri": "https://localhost:8080/",
     "height": 340
    },
    "id": "FufV4IXMz37N",
    "outputId": "cf9cda90-5424-4d0a-e13b-ecadb18f7ce2"
   },
   "outputs": [
    {
     "name": "stdout",
     "output_type": "stream",
     "text": [
      "Mean absolute percentage error of the model is : 0.694 %\n"
     ]
    },
    {
     "data": {
      "image/png": "[encoded data removed]",
      "text/plain": [
       "<Figure size 1152x360 with 2 Axes>"
      ]
     },
     "metadata": {
      "needs_background": "light"
     },
     "output_type": "display_data"
    }
   ],
   "source": [
    "plot_dist_error(X_train['abs_perc_error'])"
   ]
  },
  {
   "cell_type": "code",
   "execution_count": 74,
   "metadata": {
    "colab": {
     "base_uri": "https://localhost:8080/",
     "height": 337
    },
    "id": "8Btazz810Cle",
    "outputId": "d049fe7e-601d-42cf-9793-6c89000cc11a"
   },
   "outputs": [
    {
     "name": "stdout",
     "output_type": "stream",
     "text": [
      "Mean absolute percentage error of the model is : 1.132 %\n"
     ]
    },
    {
     "data": {
      "image/png": "[encoded data removed]",
      "text/plain": [
       "<Figure size 1152x360 with 2 Axes>"
      ]
     },
     "metadata": {
      "needs_background": "light"
     },
     "output_type": "display_data"
    }
   ],
   "source": [
    "plot_dist_error(X_test['abs_perc_error'])"
   ]
  },
  {
   "cell_type": "markdown",
   "metadata": {
    "id": "BFwZZWgfsA4g"
   },
   "source": [
    "<h2> Conclusion </h2>\n",
    "\n",
    "- From the above plot we can see that,about 75% of the time error lies between 0% to 1.5%.\n",
    "- In some cases error may even shoot up to 3.5% which is not a good sign for our model, but still this is better than ARIMA model, where highest ape(abs percentage error) was 4.5% and mape was 1.232%\n",
    "- Mape(mean abs percentage error) for our LSTM model is 1.132%, which is good model, but still this model should not be used to perform intraday trading."
   ]
  },
  {
   "cell_type": "code",
   "execution_count": null,
   "metadata": {},
   "outputs": [],
   "source": []
  }
 ],
 "metadata": {
  "accelerator": "GPU",
  "colab": {
   "collapsed_sections": [],
   "provenance": []
  },
  "kernelspec": {
   "display_name": "Python 3 (ipykernel)",
   "language": "python",
   "name": "python3"
  },
  "language_info": {
   "codemirror_mode": {
    "name": "ipython",
    "version": 3
   },
   "file_extension": ".py",
   "mimetype": "text/x-python",
   "name": "python",
   "nbconvert_exporter": "python",
   "pygments_lexer": "ipython3",
   "version": "3.9.12"
  }
 },
 "nbformat": 4,
 "nbformat_minor": 1
}
